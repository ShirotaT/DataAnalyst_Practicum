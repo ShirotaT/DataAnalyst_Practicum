{
 "cells": [
  {
   "cell_type": "markdown",
   "id": "9b56ec8a",
   "metadata": {},
   "source": [
    "# Online Food Store Apps Analysis\n",
    "\n",
    "Anda bekerja di sebuah startup yang menjual produk makanan. Anda perlu mencari tahu perilaku pengguna aplikasi dari perusahaan tersebut."
   ]
  },
  {
   "cell_type": "markdown",
   "id": "d84c86a1",
   "metadata": {},
   "source": [
    "## Tujuan\n",
    "\n",
    "Proyek ini berfokus pada analisis perilaku pengguna aplikasi makanan online. Data dipelajari terlebih dahulu corong penjualannya untuk mengetahui total pengguna dari awal masuk aplikasi hingga yang mencapai tahap pembelian. Selanjutnya menganalisis hasil eksperiment dari A/A/B testing dikarenakan adanya kekhawatiran antara Tim Web Designer yang ingin mengubah font untuk keseluruhan aplikasi, dengan Product Manager yang merasa bahwa para pengguna justru akan merasa terganggu dengan desain baru tersebut. Hasil ini akan menentukan font manakah yang akan memberikan hasil terbaik."
   ]
  },
  {
   "cell_type": "markdown",
   "id": "b45255f9",
   "metadata": {},
   "source": [
    "### Hipotesis\n",
    "\n",
    "Para pengguna dibagi menjadi tiga kelompok: dua kelompok kontrol diperlihatkan dengan versi font lama dan satu kelompok uji diperlihatkan dengan versi font terbaru.\n",
    "\n",
    "Keakuratan pengujian hanya akan diterima jika kedua kelompok kontrol memberikan hasil yang serupa. Jika terdapat perbedaan yang signifikan di antara kedua kelompok A, hal ini dapat membantu kita untuk mengidentifikasi faktor-faktor yang mungkin mendistorsi hasil yang kita peroleh."
   ]
  },
  {
   "cell_type": "markdown",
   "id": "b541a706",
   "metadata": {},
   "source": [
    "### Tahapan\n",
    "\n",
    "Data tentang setiap entri log disimpan dalam file `/datasets/logs_exp_us.csv`. Tidak ada informasi terkait kualitas data tersebut, sehingga perlu dilakukan pemeriksaan terlebih dahulu sebelum menguji hipotesis.\n",
    "\n",
    "Proyek ini terdiri dari tiga tahap:\n",
    "\n",
    "1. Pre-processing Data\n",
    "    * Data Cleaning\n",
    "    * Data Preparation\n",
    "    * Data Optimization\n",
    "2. Analisis Data Exploratif (EDA) & Analisis Bisnis\n",
    "    * Data Check\n",
    "    * Data Study\n",
    "    * Funnel Study\n",
    "3. Analisis Data Statistik (Hyphothesis Testing & A/A/B Testing) "
   ]
  },
  {
   "cell_type": "markdown",
   "id": "0e414839",
   "metadata": {},
   "source": [
    "## 1. Pre-processing Data"
   ]
  },
  {
   "cell_type": "code",
   "execution_count": 1,
   "id": "1a688a4d",
   "metadata": {},
   "outputs": [],
   "source": [
    "# Import library\n",
    "import pandas as pd\n",
    "import matplotlib.pyplot as plt\n",
    "import seaborn as sns\n",
    "import numpy as np\n",
    "from scipy import stats as st\n",
    "import plotly.express as px\n",
    "import math as mth\n",
    "\n",
    "from datetime import date, timedelta\n",
    "import datetime as dt\n",
    "\n",
    "# Turn warnings off\n",
    "import warnings\n",
    "warnings.filterwarnings('ignore')\n",
    "\n",
    "from IPython.display import Markdown, display"
   ]
  },
  {
   "cell_type": "code",
   "execution_count": 2,
   "id": "3a87c629",
   "metadata": {},
   "outputs": [],
   "source": [
    "# Define printmd() function to print code in blue color.\n",
    "def printmd(string, color=None):\n",
    "    colorstr = \"<span style='color:{}'>{}</span>\".format(color, string)\n",
    "    display(Markdown(colorstr))"
   ]
  },
  {
   "cell_type": "markdown",
   "id": "9ae7f2c8",
   "metadata": {},
   "source": [
    "### 1.1. Memuat Data"
   ]
  },
  {
   "cell_type": "code",
   "execution_count": 3,
   "id": "68ba25f0",
   "metadata": {},
   "outputs": [
    {
     "data": {
      "text/markdown": [
       "<span style='color:blue'>logs_exp</span>"
      ],
      "text/plain": [
       "<IPython.core.display.Markdown object>"
      ]
     },
     "metadata": {},
     "output_type": "display_data"
    },
    {
     "name": "stdout",
     "output_type": "stream",
     "text": [
      "<class 'pandas.core.frame.DataFrame'>\n",
      "RangeIndex: 244126 entries, 0 to 244125\n",
      "Data columns (total 4 columns):\n",
      " #   Column          Non-Null Count   Dtype \n",
      "---  ------          --------------   ----- \n",
      " 0   EventName       244126 non-null  object\n",
      " 1   DeviceIDHash    244126 non-null  int64 \n",
      " 2   EventTimestamp  244126 non-null  int64 \n",
      " 3   ExpId           244126 non-null  int64 \n",
      "dtypes: int64(3), object(1)\n",
      "memory usage: 7.5+ MB\n"
     ]
    },
    {
     "data": {
      "text/html": [
       "<div>\n",
       "<style scoped>\n",
       "    .dataframe tbody tr th:only-of-type {\n",
       "        vertical-align: middle;\n",
       "    }\n",
       "\n",
       "    .dataframe tbody tr th {\n",
       "        vertical-align: top;\n",
       "    }\n",
       "\n",
       "    .dataframe thead th {\n",
       "        text-align: right;\n",
       "    }\n",
       "</style>\n",
       "<table border=\"1\" class=\"dataframe\">\n",
       "  <thead>\n",
       "    <tr style=\"text-align: right;\">\n",
       "      <th></th>\n",
       "      <th>EventName</th>\n",
       "      <th>DeviceIDHash</th>\n",
       "      <th>EventTimestamp</th>\n",
       "      <th>ExpId</th>\n",
       "    </tr>\n",
       "  </thead>\n",
       "  <tbody>\n",
       "    <tr>\n",
       "      <th>0</th>\n",
       "      <td>MainScreenAppear</td>\n",
       "      <td>4575588528974610257</td>\n",
       "      <td>1564029816</td>\n",
       "      <td>246</td>\n",
       "    </tr>\n",
       "    <tr>\n",
       "      <th>1</th>\n",
       "      <td>MainScreenAppear</td>\n",
       "      <td>7416695313311560658</td>\n",
       "      <td>1564053102</td>\n",
       "      <td>246</td>\n",
       "    </tr>\n",
       "    <tr>\n",
       "      <th>2</th>\n",
       "      <td>PaymentScreenSuccessful</td>\n",
       "      <td>3518123091307005509</td>\n",
       "      <td>1564054127</td>\n",
       "      <td>248</td>\n",
       "    </tr>\n",
       "    <tr>\n",
       "      <th>3</th>\n",
       "      <td>CartScreenAppear</td>\n",
       "      <td>3518123091307005509</td>\n",
       "      <td>1564054127</td>\n",
       "      <td>248</td>\n",
       "    </tr>\n",
       "    <tr>\n",
       "      <th>4</th>\n",
       "      <td>PaymentScreenSuccessful</td>\n",
       "      <td>6217807653094995999</td>\n",
       "      <td>1564055322</td>\n",
       "      <td>248</td>\n",
       "    </tr>\n",
       "  </tbody>\n",
       "</table>\n",
       "</div>"
      ],
      "text/plain": [
       "                 EventName         DeviceIDHash  EventTimestamp  ExpId\n",
       "0         MainScreenAppear  4575588528974610257      1564029816    246\n",
       "1         MainScreenAppear  7416695313311560658      1564053102    246\n",
       "2  PaymentScreenSuccessful  3518123091307005509      1564054127    248\n",
       "3         CartScreenAppear  3518123091307005509      1564054127    248\n",
       "4  PaymentScreenSuccessful  6217807653094995999      1564055322    248"
      ]
     },
     "metadata": {},
     "output_type": "display_data"
    }
   ],
   "source": [
    "# Read datasets\n",
    "logs_data = pd.read_csv('https://practicum-content.s3.us-west-1.amazonaws.com/datasets/logs_exp_us.csv', sep='\\t')\n",
    "\n",
    "# Assign names to the dataframe\n",
    "logs_data.name = 'logs_exp'\n",
    "\n",
    "# Print a concise summary of the dataFrames with pandas.DataFrame.info() method.\n",
    "printmd(\"{}\".format(logs_data.name), color='blue')\n",
    "logs_data.info()\n",
    "display(logs_data.head())"
   ]
  },
  {
   "cell_type": "markdown",
   "id": "e9146e65",
   "metadata": {},
   "source": [
    "**Deskripsi logs_data**: \n",
    "\n",
    "- `EventName` — nama peristiwa\n",
    "- `DeviceIDHash` — ID unik pengguna\n",
    "- `EventTimestamp` — waktu peristiwa\n",
    "- `ExpId`  — nomor eksperimen: 246 dan 247 untuk kelompok kontrol, 248 untuk kelompok uji"
   ]
  },
  {
   "cell_type": "markdown",
   "id": "eb35fba4",
   "metadata": {},
   "source": [
    "**Kesimpulan:**\n",
    "\n",
    "* Nama pada kolom sebaiknya dalam huruf kecil dengan tiap kata diberi \"_\".\n",
    "* Tidak terlihat nilai yang hilang pada data.\n",
    "* Perlu ditambahkan kolom tanggal dan waktu, serta kolom terpisah untuk tanggal.\n",
    "* Data cukup besar yaitu 7.5+ MB, mungkin bisa di optimalkan."
   ]
  },
  {
   "cell_type": "markdown",
   "id": "efe790ca",
   "metadata": {},
   "source": [
    "### 1.2. Mengeksplorasi Data Awal"
   ]
  },
  {
   "cell_type": "code",
   "execution_count": 4,
   "id": "15236327",
   "metadata": {},
   "outputs": [
    {
     "data": {
      "text/plain": [
       "EventName         0\n",
       "DeviceIDHash      0\n",
       "EventTimestamp    0\n",
       "ExpId             0\n",
       "dtype: int64"
      ]
     },
     "execution_count": 4,
     "metadata": {},
     "output_type": "execute_result"
    }
   ],
   "source": [
    "# Check total missing values descending\n",
    "logs_data.isna().sum().sort_values(ascending=False)"
   ]
  },
  {
   "cell_type": "code",
   "execution_count": 5,
   "id": "fdea75fa",
   "metadata": {
    "scrolled": true
   },
   "outputs": [
    {
     "data": {
      "text/plain": [
       "413"
      ]
     },
     "execution_count": 5,
     "metadata": {},
     "output_type": "execute_result"
    }
   ],
   "source": [
    "# Check duplicated data\n",
    "logs_data.duplicated().sum()"
   ]
  },
  {
   "cell_type": "markdown",
   "id": "c6477634",
   "metadata": {},
   "source": [
    "**Kesimpulan Sementara:**\n",
    "\n",
    "* Tidak terdapat nilai yang hilang pada data.\n",
    "* Sebanyak 413 data adalah duplikat. Duplikat dapat di drop."
   ]
  },
  {
   "cell_type": "code",
   "execution_count": 6,
   "id": "32e4374e",
   "metadata": {},
   "outputs": [],
   "source": [
    "logs_data.drop_duplicates(inplace=True)"
   ]
  },
  {
   "cell_type": "code",
   "execution_count": 7,
   "id": "205c57dd",
   "metadata": {
    "scrolled": false
   },
   "outputs": [
    {
     "data": {
      "text/plain": [
       "0"
      ]
     },
     "execution_count": 7,
     "metadata": {},
     "output_type": "execute_result"
    }
   ],
   "source": [
    "# Check duplicated data\n",
    "logs_data.duplicated().sum()"
   ]
  },
  {
   "cell_type": "markdown",
   "id": "2f066379",
   "metadata": {},
   "source": [
    "**Kesimpulan:**\n",
    "\n",
    "* Nilai duplikat pada data telah di hapus."
   ]
  },
  {
   "cell_type": "markdown",
   "id": "3daa8048",
   "metadata": {},
   "source": [
    "### 1.3. Preparasi Data"
   ]
  },
  {
   "cell_type": "code",
   "execution_count": 8,
   "id": "53e97eab",
   "metadata": {},
   "outputs": [],
   "source": [
    "# Rename the columns\n",
    "logs_data.columns =['event_name','user_id','timestamp','exp_id']"
   ]
  },
  {
   "cell_type": "code",
   "execution_count": 9,
   "id": "6ee1329d",
   "metadata": {
    "scrolled": true
   },
   "outputs": [
    {
     "data": {
      "text/html": [
       "<div>\n",
       "<style scoped>\n",
       "    .dataframe tbody tr th:only-of-type {\n",
       "        vertical-align: middle;\n",
       "    }\n",
       "\n",
       "    .dataframe tbody tr th {\n",
       "        vertical-align: top;\n",
       "    }\n",
       "\n",
       "    .dataframe thead th {\n",
       "        text-align: right;\n",
       "    }\n",
       "</style>\n",
       "<table border=\"1\" class=\"dataframe\">\n",
       "  <thead>\n",
       "    <tr style=\"text-align: right;\">\n",
       "      <th></th>\n",
       "      <th>event_name</th>\n",
       "      <th>user_id</th>\n",
       "      <th>timestamp</th>\n",
       "      <th>exp_id</th>\n",
       "      <th>datetime</th>\n",
       "      <th>date</th>\n",
       "    </tr>\n",
       "  </thead>\n",
       "  <tbody>\n",
       "    <tr>\n",
       "      <th>0</th>\n",
       "      <td>MainScreenAppear</td>\n",
       "      <td>4575588528974610257</td>\n",
       "      <td>1564029816</td>\n",
       "      <td>246</td>\n",
       "      <td>2019-07-25 04:43:36</td>\n",
       "      <td>2019-07-25</td>\n",
       "    </tr>\n",
       "    <tr>\n",
       "      <th>1</th>\n",
       "      <td>MainScreenAppear</td>\n",
       "      <td>7416695313311560658</td>\n",
       "      <td>1564053102</td>\n",
       "      <td>246</td>\n",
       "      <td>2019-07-25 11:11:42</td>\n",
       "      <td>2019-07-25</td>\n",
       "    </tr>\n",
       "    <tr>\n",
       "      <th>2</th>\n",
       "      <td>PaymentScreenSuccessful</td>\n",
       "      <td>3518123091307005509</td>\n",
       "      <td>1564054127</td>\n",
       "      <td>248</td>\n",
       "      <td>2019-07-25 11:28:47</td>\n",
       "      <td>2019-07-25</td>\n",
       "    </tr>\n",
       "    <tr>\n",
       "      <th>3</th>\n",
       "      <td>CartScreenAppear</td>\n",
       "      <td>3518123091307005509</td>\n",
       "      <td>1564054127</td>\n",
       "      <td>248</td>\n",
       "      <td>2019-07-25 11:28:47</td>\n",
       "      <td>2019-07-25</td>\n",
       "    </tr>\n",
       "    <tr>\n",
       "      <th>4</th>\n",
       "      <td>PaymentScreenSuccessful</td>\n",
       "      <td>6217807653094995999</td>\n",
       "      <td>1564055322</td>\n",
       "      <td>248</td>\n",
       "      <td>2019-07-25 11:48:42</td>\n",
       "      <td>2019-07-25</td>\n",
       "    </tr>\n",
       "  </tbody>\n",
       "</table>\n",
       "</div>"
      ],
      "text/plain": [
       "                event_name              user_id   timestamp  exp_id  \\\n",
       "0         MainScreenAppear  4575588528974610257  1564029816     246   \n",
       "1         MainScreenAppear  7416695313311560658  1564053102     246   \n",
       "2  PaymentScreenSuccessful  3518123091307005509  1564054127     248   \n",
       "3         CartScreenAppear  3518123091307005509  1564054127     248   \n",
       "4  PaymentScreenSuccessful  6217807653094995999  1564055322     248   \n",
       "\n",
       "             datetime        date  \n",
       "0 2019-07-25 04:43:36  2019-07-25  \n",
       "1 2019-07-25 11:11:42  2019-07-25  \n",
       "2 2019-07-25 11:28:47  2019-07-25  \n",
       "3 2019-07-25 11:28:47  2019-07-25  \n",
       "4 2019-07-25 11:48:42  2019-07-25  "
      ]
     },
     "execution_count": 9,
     "metadata": {},
     "output_type": "execute_result"
    }
   ],
   "source": [
    "# Adding a date and time column and a separate column for dates.\n",
    "logs_data['datetime'] = pd.to_datetime(logs_data['timestamp'],unit='s')\n",
    "logs_data['date'] = logs_data['datetime'].dt.date\n",
    "\n",
    "logs_data.head()"
   ]
  },
  {
   "cell_type": "code",
   "execution_count": 10,
   "id": "7a65b43d",
   "metadata": {},
   "outputs": [
    {
     "name": "stdout",
     "output_type": "stream",
     "text": [
      "<class 'pandas.core.frame.DataFrame'>\n",
      "Int64Index: 243713 entries, 0 to 244125\n",
      "Data columns (total 6 columns):\n",
      " #   Column      Non-Null Count   Dtype         \n",
      "---  ------      --------------   -----         \n",
      " 0   event_name  243713 non-null  object        \n",
      " 1   user_id     243713 non-null  int64         \n",
      " 2   timestamp   243713 non-null  int64         \n",
      " 3   exp_id      243713 non-null  int64         \n",
      " 4   datetime    243713 non-null  datetime64[ns]\n",
      " 5   date        243713 non-null  object        \n",
      "dtypes: datetime64[ns](1), int64(3), object(2)\n",
      "memory usage: 13.0+ MB\n",
      "\n",
      "Number of unique values in column 'event_name': 5\n",
      "['MainScreenAppear' 'PaymentScreenSuccessful' 'CartScreenAppear'\n",
      " 'OffersScreenAppear' 'Tutorial']\n",
      "\n",
      "Number of unique values in column 'user_id': 7551\n",
      "[4575588528974610257 7416695313311560658 3518123091307005509 ...\n",
      " 6660805781687343085 7823752606740475984 3454683894921357834]\n",
      "\n",
      "Number of unique values in column 'timestamp': 176654\n",
      "[1564029816 1564053102 1564054127 ... 1565212483 1565212498 1565212517]\n",
      "\n",
      "Number of unique values in column 'exp_id': 3\n",
      "[246 248 247]\n",
      "\n",
      "Number of unique values in column 'datetime': 176654\n",
      "['2019-07-25T04:43:36.000000000' '2019-07-25T11:11:42.000000000'\n",
      " '2019-07-25T11:28:47.000000000' ... '2019-08-07T21:14:43.000000000'\n",
      " '2019-08-07T21:14:58.000000000' '2019-08-07T21:15:17.000000000']\n",
      "\n",
      "Number of unique values in column 'date': 14\n",
      "[datetime.date(2019, 7, 25) datetime.date(2019, 7, 26)\n",
      " datetime.date(2019, 7, 27) datetime.date(2019, 7, 28)\n",
      " datetime.date(2019, 7, 29) datetime.date(2019, 7, 30)\n",
      " datetime.date(2019, 7, 31) datetime.date(2019, 8, 1)\n",
      " datetime.date(2019, 8, 2) datetime.date(2019, 8, 3)\n",
      " datetime.date(2019, 8, 4) datetime.date(2019, 8, 5)\n",
      " datetime.date(2019, 8, 6) datetime.date(2019, 8, 7)]\n",
      "\n"
     ]
    }
   ],
   "source": [
    "logs_data.info()\n",
    "print()\n",
    "for c in logs_data.columns:\n",
    "    print(\"Number of unique values in column '{}': {}\".format(c,len(logs_data[c].unique())))\n",
    "    print(logs_data[c].unique())\n",
    "    print()"
   ]
  },
  {
   "cell_type": "markdown",
   "id": "40d5bc23",
   "metadata": {},
   "source": [
    "**Kesimpulan Sementara:**\n",
    "\n",
    "* Kolom `event_name` dapat diubah menjadi katagoris untuk mengoptimalkan memori\n",
    "* kolom `date` dapat diubah menjadi datetime untuk mengoptimalkan memori"
   ]
  },
  {
   "cell_type": "code",
   "execution_count": 11,
   "id": "58e8de18",
   "metadata": {},
   "outputs": [],
   "source": [
    "# Optimization memory usage\n",
    "logs_data['event_name'] = logs_data['event_name'].astype('category')\n",
    "logs_data['date'] = pd.to_datetime(logs_data['date'])"
   ]
  },
  {
   "cell_type": "code",
   "execution_count": 12,
   "id": "a2dc5dc9",
   "metadata": {
    "scrolled": false
   },
   "outputs": [
    {
     "name": "stdout",
     "output_type": "stream",
     "text": [
      "<class 'pandas.core.frame.DataFrame'>\n",
      "Int64Index: 243713 entries, 0 to 244125\n",
      "Data columns (total 6 columns):\n",
      " #   Column      Non-Null Count   Dtype         \n",
      "---  ------      --------------   -----         \n",
      " 0   event_name  243713 non-null  category      \n",
      " 1   user_id     243713 non-null  int64         \n",
      " 2   timestamp   243713 non-null  int64         \n",
      " 3   exp_id      243713 non-null  int64         \n",
      " 4   datetime    243713 non-null  datetime64[ns]\n",
      " 5   date        243713 non-null  datetime64[ns]\n",
      "dtypes: category(1), datetime64[ns](2), int64(3)\n",
      "memory usage: 11.4 MB\n"
     ]
    }
   ],
   "source": [
    "logs_data.info()"
   ]
  },
  {
   "cell_type": "markdown",
   "id": "11da96e2",
   "metadata": {},
   "source": [
    "**Kesimpulan:**\n",
    "\n",
    "* `logs_data` telah dioptimasi dan siap dianalisis."
   ]
  },
  {
   "cell_type": "markdown",
   "id": "d8ca1010",
   "metadata": {},
   "source": [
    "## 2. Analisis Data Exploratif (EDA)"
   ]
  },
  {
   "cell_type": "markdown",
   "id": "d849ebdf",
   "metadata": {},
   "source": [
    "### 2.1. Mempelajari Parameter Inti "
   ]
  },
  {
   "cell_type": "markdown",
   "id": "f124b315",
   "metadata": {},
   "source": [
    "Untuk mempelajari outlier yang memengaruhi bentuk dan kemudahan pembacaan analisis, dilakukan pendekatan kepada beberapa parameter berikut:\n",
    "\n",
    "- Berapa banyak peristiwa yang tercatat dalam log?,\n",
    "- Berapa banyak pengguna yang tercatat dalam log?,\n",
    "- Berapa jumlah rata-rata peristiwa per pengguna?,\n",
    "- Periode waktu manakah yang dicakup oleh data? \n",
    "- Apakah kehilangan banyak peristiwa dan pengguna saat menyingkirkan data lama?, dan\n",
    "- Pastikan memiliki pengguna dari ketiga kelompok eksperimen. "
   ]
  },
  {
   "cell_type": "code",
   "execution_count": 13,
   "id": "f031f72e",
   "metadata": {},
   "outputs": [
    {
     "data": {
      "text/markdown": [
       "<span style='color:green'>Terdapat 243713 events di dalam logs.</span>"
      ],
      "text/plain": [
       "<IPython.core.display.Markdown object>"
      ]
     },
     "metadata": {},
     "output_type": "display_data"
    },
    {
     "data": {
      "text/markdown": [
       "<span style='color:green'>Terdapat 7551 pengguna yang tercatat di dalam logs.</span>"
      ],
      "text/plain": [
       "<IPython.core.display.Markdown object>"
      ]
     },
     "metadata": {},
     "output_type": "display_data"
    },
    {
     "data": {
      "text/markdown": [
       "<span style='color:green'>Rata-rata 32 peristiwa per pengguna yang tercatat di dalam logs.</span>"
      ],
      "text/plain": [
       "<IPython.core.display.Markdown object>"
      ]
     },
     "metadata": {},
     "output_type": "display_data"
    }
   ],
   "source": [
    "printmd('Terdapat {} events di dalam logs.'.format(len(logs_data)), color='green')\n",
    "printmd('Terdapat {} pengguna yang tercatat di dalam logs.'.format(len(logs_data['user_id'].unique())), color='green')\n",
    "printmd('Rata-rata {} peristiwa per pengguna yang tercatat di dalam logs.'.format(int(logs_data.groupby(by=['user_id']).agg({'event_name':'count'}).mean()[0])), color='green')"
   ]
  },
  {
   "cell_type": "code",
   "execution_count": 14,
   "id": "3ebf531c",
   "metadata": {},
   "outputs": [
    {
     "data": {
      "text/markdown": [
       "<span style='color:None'>Peristiwa waktu yang dicakup oleh data adalah:</span>"
      ],
      "text/plain": [
       "<IPython.core.display.Markdown object>"
      ]
     },
     "metadata": {},
     "output_type": "display_data"
    },
    {
     "name": "stdout",
     "output_type": "stream",
     "text": [
      "Minimum date adalah: 2019-07-25 04:43:36\n",
      "Maksimum date adalah: 2019-08-07 21:15:17\n"
     ]
    }
   ],
   "source": [
    "printmd('Peristiwa waktu yang dicakup oleh data adalah:')\n",
    "stats_period = logs_data['datetime'].describe()\n",
    "\n",
    "print('Minimum date adalah: {}'\n",
    "      .format(stats_period['first']))\n",
    "print('Maksimum date adalah: {}'\n",
    "      .format(stats_period['last']))"
   ]
  },
  {
   "cell_type": "markdown",
   "id": "43f5f05e",
   "metadata": {},
   "source": [
    "**Kesimpulan Sementara:**\n",
    "\n",
    "Data mencakup log dari 2 minggu periode, yaitu 14 hari. Namun perlu dipastikan kembali bahwa data yang dimiliki sama lengkapnya untuk seluruh periode. Jika kejadian yang lebih lama muncul di log beberapa pengguna karena alasan teknis, hal ini dapat mengubah gambaran secara keseluruhan. Untuk itu, kami memplot histogram berdasarkan tanggal dan waktu."
   ]
  },
  {
   "cell_type": "code",
   "execution_count": 15,
   "id": "fd0d6192",
   "metadata": {},
   "outputs": [
    {
     "data": {
      "image/png": "[encoded data removed]",
      "text/plain": [
       "<Figure size 1500x800 with 1 Axes>"
      ]
     },
     "metadata": {},
     "output_type": "display_data"
    }
   ],
   "source": [
    "# Create a histogram of the revenue column\n",
    "plt.figure(figsize=(15, 8))\n",
    "logs_data['datetime'].hist(bins=30)\n",
    "plt.title(\"Histogram of logs' datetime\" , fontsize=18)\n",
    "plt.xlabel('Datetime', fontsize=16)\n",
    "plt.xticks(fontsize=16, rotation=45)\n",
    "plt.ylabel('Frequency', fontsize=16)\n",
    "plt.yticks(fontsize=16)\n",
    "\n",
    "plt.show()"
   ]
  },
  {
   "cell_type": "markdown",
   "id": "fb4be54d",
   "metadata": {},
   "source": [
    "**Kesimpulan Sementara:**\n",
    "\n",
    "Dari histogram, kita melihat bahwa sebagian besar log berasal dari minggu kedua. Data mulai lengkap sejak awal minggu kedua, yaitu \"2019-08-01\". Dengan demikian, kami membuang data dari minggu pertama.\n",
    "\n",
    "Perhatikan bahwa peristiwa yang lebih lama dapat berakhir di log pengguna karena alasan teknis. Jadi, kita harus memberi tahu pengembang agar mereka memeriksa mengapa hal ini terjadi."
   ]
  },
  {
   "cell_type": "code",
   "execution_count": 16,
   "id": "186f9ed9",
   "metadata": {},
   "outputs": [
    {
     "data": {
      "text/plain": [
       "count                  240887\n",
       "unique                 174044\n",
       "top       2019-08-01 14:40:35\n",
       "freq                        9\n",
       "first     2019-08-01 00:07:28\n",
       "last      2019-08-07 21:15:17\n",
       "Name: datetime, dtype: object"
      ]
     },
     "execution_count": 16,
     "metadata": {},
     "output_type": "execute_result"
    }
   ],
   "source": [
    "logs_complete = logs_data.loc[logs_data['datetime'] >= \"2019-08-01\"].copy()\n",
    "logs_complete['datetime'].describe()"
   ]
  },
  {
   "cell_type": "markdown",
   "id": "7ee8098a",
   "metadata": {},
   "source": [
    "Apakah kehilangan banyak peristiwa dan pengguna saat menyingkirkan data lama?"
   ]
  },
  {
   "cell_type": "code",
   "execution_count": 17,
   "id": "8e6e8a49",
   "metadata": {},
   "outputs": [
    {
     "name": "stdout",
     "output_type": "stream",
     "text": [
      "Terdapat 2826 logs yang terekam di minggu pertama.\n"
     ]
    }
   ],
   "source": [
    "print('Terdapat {} logs yang terekam di minggu pertama.' .format((logs_data['datetime'] < \"2019-08-01\").sum()))"
   ]
  },
  {
   "cell_type": "code",
   "execution_count": 18,
   "id": "3c8585b5",
   "metadata": {
    "scrolled": true
   },
   "outputs": [
    {
     "name": "stdout",
     "output_type": "stream",
     "text": [
      "The logs from the first week belong to 1451 users.\n",
      "Number of users for which logs were recorded only in the first week: 17\n"
     ]
    }
   ],
   "source": [
    "first_week_users = logs_data.loc[logs_data['datetime'] < \"2019-08-01\", 'user_id'].unique()\n",
    "\n",
    "print('The logs from the first week belong to {} users.'\n",
    "      .format(len(first_week_users)))\n",
    "print('Number of users for which logs were recorded only in the first week: {}'.\n",
    "      format(len(first_week_users)-\n",
    "             len(logs_complete.loc[logs_complete['user_id'].isin(first_week_users), 'user_id'].unique())))"
   ]
  },
  {
   "cell_type": "markdown",
   "id": "4eb0df2f",
   "metadata": {},
   "source": [
    "**Kesimpulan Sementara:**\n",
    "\n",
    "Kami menemukan bahwa dengan membuang data untuk minggu pertama, kami hanya kehilangan 17 pengguna dari 7551 pengguna unik dan 2826 log secara keseluruhan. Ini setara dengan sekitar 0,225% pengguna dan sekitar 1,16% dari jumlah total log. Dengan demikian, dengan mengecualikan data yang lebih lama, kami tidak kehilangan jumlah kejadian atau pengguna yang signifikan. Untuk sisa proyek ini, kita akan bekerja dengan kerangka data `logs_complete`."
   ]
  },
  {
   "cell_type": "markdown",
   "id": "534d2301",
   "metadata": {},
   "source": [
    "Agar pengujian A/B akurat, kita perlu memastikan bahwa semua grup berisi jumlah pengguna yang sama dan tidak ada pengguna yang ditugaskan ke lebih dari satu grup."
   ]
  },
  {
   "cell_type": "code",
   "execution_count": 19,
   "id": "40395196",
   "metadata": {},
   "outputs": [
    {
     "name": "stdout",
     "output_type": "stream",
     "text": [
      "Jumlah pengguna yang ditetapkan ke setiap grup:\n",
      "exp_id\n",
      "246    2484\n",
      "247    2513\n",
      "248    2537\n",
      "Name: user_id, dtype: int64\n",
      "Jumlah pengguna unik dalam percobaan:7534 \n",
      "Jumlah jumlah pengguna unik di setiap grup:7534\n"
     ]
    }
   ],
   "source": [
    "print('Jumlah pengguna yang ditetapkan ke setiap grup:')\n",
    "print(logs_complete.groupby(by=['exp_id'])['user_id'].nunique())\n",
    "\n",
    "print('Jumlah pengguna unik dalam percobaan:{} '.format(logs_complete['user_id'].nunique()))\n",
    "print('Jumlah jumlah pengguna unik di setiap grup:{}'\n",
    "      .format(logs_complete.groupby(by=['exp_id'])['user_id'].nunique().sum()))"
   ]
  },
  {
   "cell_type": "markdown",
   "id": "85f9557b",
   "metadata": {},
   "source": [
    "**Kesimpulan:**\n",
    "\n",
    "Setiap kelompok memiliki sekitar 2500 pengguna. Jadi, semua kelompok eksperimen ditugaskan dengan jumlah pengguna yang hampir sama. Selain itu, semua pengguna hanya ditugaskan ke satu kelompok selama percobaan."
   ]
  },
  {
   "cell_type": "markdown",
   "id": "385fca62",
   "metadata": {},
   "source": [
    "### 2.2. Mempelajari Corong Peristiwa"
   ]
  },
  {
   "cell_type": "markdown",
   "id": "b5061b05",
   "metadata": {},
   "source": [
    "**a. Melihat peristiwa apa saja yang ada dalam log dan berapa banyak frekuensi kemunculannya.**"
   ]
  },
  {
   "cell_type": "code",
   "execution_count": 20,
   "id": "55787b46",
   "metadata": {},
   "outputs": [
    {
     "name": "stdout",
     "output_type": "stream",
     "text": [
      "Counts of logs by event type:\n"
     ]
    },
    {
     "data": {
      "text/plain": [
       "event_name\n",
       "MainScreenAppear           117328\n",
       "OffersScreenAppear          46333\n",
       "CartScreenAppear            42303\n",
       "PaymentScreenSuccessful     33918\n",
       "Tutorial                     1005\n",
       "Name: log_counts, dtype: int64"
      ]
     },
     "metadata": {},
     "output_type": "display_data"
    }
   ],
   "source": [
    "logs_events = logs_complete.groupby(by=['event_name'])['timestamp'].count().sort_values(ascending=False)\n",
    "logs_events = logs_events.rename('log_counts')\n",
    "print('Counts of logs by event type:')\n",
    "display(logs_events)"
   ]
  },
  {
   "cell_type": "code",
   "execution_count": 21,
   "id": "0203728b",
   "metadata": {
    "scrolled": false
   },
   "outputs": [
    {
     "data": {
      "image/png": "[encoded data removed]",
      "text/plain": [
       "<Figure size 1200x600 with 1 Axes>"
      ]
     },
     "metadata": {},
     "output_type": "display_data"
    }
   ],
   "source": [
    "bar_colors = [\"#E53935\", \"#607D8B\", \"#FBC02D\", \"#FBE9E7\", \"#512DA8\"]\n",
    "\n",
    "plt.figure(figsize=(12, 6))\n",
    "ax = sns.countplot(y='event_name', data=logs_complete, orient='h', \n",
    "                   order = logs_complete.groupby(by=['event_name'])['timestamp'].count().sort_values(ascending=False).index,\n",
    "                   palette = bar_colors)\n",
    "ax.set_title('Number of logs by event type', fontsize=16)\n",
    "ax.set_xlabel('Log counts', fontsize=14)\n",
    "ax.set_ylabel('Event name', fontsize=14)\n",
    "ax.tick_params(axis='both', labelsize=14)\n",
    "ax.set_xlim(right=140000)\n",
    "ax.xaxis.grid()\n",
    "\n",
    "# create a list to collect the plt.patches data\n",
    "totals = []\n",
    "\n",
    "# find the values and append to list\n",
    "for i in ax.patches:\n",
    "    totals.append(i.get_width())\n",
    "\n",
    "# set individual bar lables using above list\n",
    "total = sum(totals)\n",
    "\n",
    "# set individual bar lables using above list\n",
    "for i in ax.patches:\n",
    "    # get_width pulls left or right; get_y pushes up or down\n",
    "    ax.text(i.get_width()+2000, i.get_y()+.45, \\\n",
    "            str(round((i.get_width()/total)*100, 2))+'%', fontsize=15,\n",
    "color='black')"
   ]
  },
  {
   "cell_type": "markdown",
   "id": "e6691e77",
   "metadata": {},
   "source": [
    "**Kesimpulan:**\n",
    "\n",
    "* Berdasarkan data dari plot, kurang dari 0,5% dari log adalah tutorial. Hal ini tidak asing karena pengguna akan membaca tutorial satu kali atau bahkan melewatinya. Terutama dalam konteks toko makanan online. Sehingga event Tutorial tidak perlu dimasukkan ke dalam funnel.\n",
    "* Dilihat dari 4 event lainnya, data menunjukkan bahwa frekuensi kemunculan event diurutkan sebagai berikut: \n",
    "\n",
    "MainScreenAppear → OffersScreenAppear → CartScreenAppear → PaymentScreenSuccessful."
   ]
  },
  {
   "cell_type": "markdown",
   "id": "49751196",
   "metadata": {},
   "source": [
    "**b. Menentukan jumlah serta proporsi pengguna yang melakukan tindakan.**"
   ]
  },
  {
   "cell_type": "code",
   "execution_count": 22,
   "id": "ae275986",
   "metadata": {},
   "outputs": [
    {
     "name": "stdout",
     "output_type": "stream",
     "text": [
      "Counts of users who performed the given actions at least once:\n"
     ]
    },
    {
     "data": {
      "text/html": [
       "<div>\n",
       "<style scoped>\n",
       "    .dataframe tbody tr th:only-of-type {\n",
       "        vertical-align: middle;\n",
       "    }\n",
       "\n",
       "    .dataframe tbody tr th {\n",
       "        vertical-align: top;\n",
       "    }\n",
       "\n",
       "    .dataframe thead th {\n",
       "        text-align: right;\n",
       "    }\n",
       "</style>\n",
       "<table border=\"1\" class=\"dataframe\">\n",
       "  <thead>\n",
       "    <tr style=\"text-align: right;\">\n",
       "      <th></th>\n",
       "      <th>event_name</th>\n",
       "      <th>user_counts</th>\n",
       "    </tr>\n",
       "  </thead>\n",
       "  <tbody>\n",
       "    <tr>\n",
       "      <th>0</th>\n",
       "      <td>Tutorial</td>\n",
       "      <td>840</td>\n",
       "    </tr>\n",
       "    <tr>\n",
       "      <th>1</th>\n",
       "      <td>PaymentScreenSuccessful</td>\n",
       "      <td>3539</td>\n",
       "    </tr>\n",
       "    <tr>\n",
       "      <th>2</th>\n",
       "      <td>CartScreenAppear</td>\n",
       "      <td>3734</td>\n",
       "    </tr>\n",
       "    <tr>\n",
       "      <th>3</th>\n",
       "      <td>OffersScreenAppear</td>\n",
       "      <td>4593</td>\n",
       "    </tr>\n",
       "    <tr>\n",
       "      <th>4</th>\n",
       "      <td>MainScreenAppear</td>\n",
       "      <td>7419</td>\n",
       "    </tr>\n",
       "  </tbody>\n",
       "</table>\n",
       "</div>"
      ],
      "text/plain": [
       "                event_name  user_counts\n",
       "0                 Tutorial          840\n",
       "1  PaymentScreenSuccessful         3539\n",
       "2         CartScreenAppear         3734\n",
       "3       OffersScreenAppear         4593\n",
       "4         MainScreenAppear         7419"
      ]
     },
     "metadata": {},
     "output_type": "display_data"
    }
   ],
   "source": [
    "logs_event_2 = logs_complete.groupby(by=['event_name'])['user_id'].nunique().sort_values().reset_index()\n",
    "logs_event_2 = logs_event_2.rename({'user_id':'user_counts'}, axis=1)\n",
    "print('Counts of users who performed the given actions at least once:')\n",
    "display(logs_event_2)"
   ]
  },
  {
   "cell_type": "code",
   "execution_count": 23,
   "id": "62254eb6",
   "metadata": {},
   "outputs": [
    {
     "data": {
      "image/png": "[encoded data removed]",
      "text/plain": [
       "<Figure size 1200x600 with 1 Axes>"
      ]
     },
     "metadata": {},
     "output_type": "display_data"
    }
   ],
   "source": [
    "bar_colors = [\"#E53935\", \"#607D8B\", \"#FBC02D\", \"#FBE9E7\", \"#512DA8\"]\n",
    "\n",
    "plt.figure(figsize=(12, 6))\n",
    "ax = sns.barplot(x='user_counts', y=\"event_name\", data=logs_event_2, orient='h', palette=bar_colors,\n",
    "                 order=logs_event_2.sort_values('user_counts', ascending=False)['event_name'])\n",
    "ax.set_title('Number of users who performed the given actions at least once', fontsize=16)\n",
    "ax.set_xlabel('User counts', fontsize=14)\n",
    "ax.set_ylabel('Event name', fontsize=14)\n",
    "ax.tick_params(axis='both', labelsize=14)\n",
    "ax.set_xlim(right=9000)\n",
    "ax.xaxis.grid()\n",
    "\n",
    "# set individual bar lables using above list\n",
    "total = logs_complete['user_id'].nunique()\n",
    "\n",
    "# set individual bar lables using above list\n",
    "for i in ax.patches:\n",
    "    # get_width pulls left or right; get_y pushes up or down\n",
    "    ax.text(i.get_width()+200, i.get_y()+.45, \\\n",
    "            str(round((i.get_width()/total)*100, 2))+'%', fontsize=15,\n",
    "color='black')"
   ]
  },
  {
   "cell_type": "markdown",
   "id": "89cb1c24",
   "metadata": {},
   "source": [
    "**Kesimpulan:**\n",
    "\n",
    "* Berdasarkan data dari plot, jumlah pengguna yang melakukan event mengikuti urutan yang sama dengan frekuensi event. Yaitu:\n",
    "\n",
    "MainScreenAppear -> OffersScreenAppear -> CartScreenAppear -> PaymentScreenSuccessful."
   ]
  },
  {
   "cell_type": "code",
   "execution_count": 24,
   "id": "cf6c840c",
   "metadata": {
    "scrolled": true
   },
   "outputs": [
    {
     "data": {
      "text/html": [
       "<div>\n",
       "<style scoped>\n",
       "    .dataframe tbody tr th:only-of-type {\n",
       "        vertical-align: middle;\n",
       "    }\n",
       "\n",
       "    .dataframe tbody tr th {\n",
       "        vertical-align: top;\n",
       "    }\n",
       "\n",
       "    .dataframe thead th {\n",
       "        text-align: right;\n",
       "    }\n",
       "</style>\n",
       "<table border=\"1\" class=\"dataframe\">\n",
       "  <thead>\n",
       "    <tr style=\"text-align: right;\">\n",
       "      <th></th>\n",
       "      <th>event_name</th>\n",
       "      <th>user_id</th>\n",
       "    </tr>\n",
       "  </thead>\n",
       "  <tbody>\n",
       "    <tr>\n",
       "      <th>4</th>\n",
       "      <td>Tutorial</td>\n",
       "      <td>756</td>\n",
       "    </tr>\n",
       "    <tr>\n",
       "      <th>2</th>\n",
       "      <td>OffersScreenAppear</td>\n",
       "      <td>681</td>\n",
       "    </tr>\n",
       "    <tr>\n",
       "      <th>3</th>\n",
       "      <td>PaymentScreenSuccessful</td>\n",
       "      <td>574</td>\n",
       "    </tr>\n",
       "    <tr>\n",
       "      <th>0</th>\n",
       "      <td>CartScreenAppear</td>\n",
       "      <td>472</td>\n",
       "    </tr>\n",
       "    <tr>\n",
       "      <th>1</th>\n",
       "      <td>MainScreenAppear</td>\n",
       "      <td>246</td>\n",
       "    </tr>\n",
       "  </tbody>\n",
       "</table>\n",
       "</div>"
      ],
      "text/plain": [
       "                event_name  user_id\n",
       "4                 Tutorial      756\n",
       "2       OffersScreenAppear      681\n",
       "3  PaymentScreenSuccessful      574\n",
       "0         CartScreenAppear      472\n",
       "1         MainScreenAppear      246"
      ]
     },
     "execution_count": 24,
     "metadata": {},
     "output_type": "execute_result"
    }
   ],
   "source": [
    "#let's calculate the proportion of users who performed the action only once\n",
    "use = logs_complete.groupby(['user_id','event_name']).agg({'timestamp':'count'}).reset_index()\n",
    "once_use = use.query('timestamp==1')\n",
    "\n",
    "func = lambda x: x.nunique()\n",
    "once_use_pv = once_use.pivot_table(index = 'event_name', values = 'user_id', aggfunc = func\n",
    ").reset_index().sort_values(by = 'user_id', ascending = False)\n",
    "once_use_pv"
   ]
  },
  {
   "cell_type": "code",
   "execution_count": 25,
   "id": "fc6bcfe1",
   "metadata": {},
   "outputs": [
    {
     "data": {
      "text/html": [
       "<div>\n",
       "<style scoped>\n",
       "    .dataframe tbody tr th:only-of-type {\n",
       "        vertical-align: middle;\n",
       "    }\n",
       "\n",
       "    .dataframe tbody tr th {\n",
       "        vertical-align: top;\n",
       "    }\n",
       "\n",
       "    .dataframe thead th {\n",
       "        text-align: right;\n",
       "    }\n",
       "</style>\n",
       "<table border=\"1\" class=\"dataframe\">\n",
       "  <thead>\n",
       "    <tr style=\"text-align: right;\">\n",
       "      <th></th>\n",
       "      <th>event_name</th>\n",
       "      <th>user_id</th>\n",
       "    </tr>\n",
       "  </thead>\n",
       "  <tbody>\n",
       "    <tr>\n",
       "      <th>1</th>\n",
       "      <td>MainScreenAppear</td>\n",
       "      <td>7173</td>\n",
       "    </tr>\n",
       "    <tr>\n",
       "      <th>2</th>\n",
       "      <td>OffersScreenAppear</td>\n",
       "      <td>3912</td>\n",
       "    </tr>\n",
       "    <tr>\n",
       "      <th>0</th>\n",
       "      <td>CartScreenAppear</td>\n",
       "      <td>3262</td>\n",
       "    </tr>\n",
       "    <tr>\n",
       "      <th>3</th>\n",
       "      <td>PaymentScreenSuccessful</td>\n",
       "      <td>2965</td>\n",
       "    </tr>\n",
       "    <tr>\n",
       "      <th>4</th>\n",
       "      <td>Tutorial</td>\n",
       "      <td>84</td>\n",
       "    </tr>\n",
       "  </tbody>\n",
       "</table>\n",
       "</div>"
      ],
      "text/plain": [
       "                event_name  user_id\n",
       "1         MainScreenAppear     7173\n",
       "2       OffersScreenAppear     3912\n",
       "0         CartScreenAppear     3262\n",
       "3  PaymentScreenSuccessful     2965\n",
       "4                 Tutorial       84"
      ]
     },
     "execution_count": 25,
     "metadata": {},
     "output_type": "execute_result"
    }
   ],
   "source": [
    "several_use=use.query('timestamp>1')\n",
    "\n",
    "func=func = lambda x: x.nunique()\n",
    "several_use_pv = several_use.pivot_table(\n",
    "    index='event_name', values='user_id', aggfunc=func\n",
    ").reset_index().sort_values(by='user_id', ascending=False)\n",
    "several_use_pv"
   ]
  },
  {
   "cell_type": "code",
   "execution_count": 26,
   "id": "f7fdbe39",
   "metadata": {
    "scrolled": true
   },
   "outputs": [
    {
     "data": {
      "text/html": [
       "<div>\n",
       "<style scoped>\n",
       "    .dataframe tbody tr th:only-of-type {\n",
       "        vertical-align: middle;\n",
       "    }\n",
       "\n",
       "    .dataframe tbody tr th {\n",
       "        vertical-align: top;\n",
       "    }\n",
       "\n",
       "    .dataframe thead th {\n",
       "        text-align: right;\n",
       "    }\n",
       "</style>\n",
       "<table border=\"1\" class=\"dataframe\">\n",
       "  <thead>\n",
       "    <tr style=\"text-align: right;\">\n",
       "      <th></th>\n",
       "      <th>event_name</th>\n",
       "      <th>users_several_uses</th>\n",
       "      <th>users_once_uses</th>\n",
       "      <th>proportion, %</th>\n",
       "    </tr>\n",
       "  </thead>\n",
       "  <tbody>\n",
       "    <tr>\n",
       "      <th>0</th>\n",
       "      <td>MainScreenAppear</td>\n",
       "      <td>7173</td>\n",
       "      <td>246</td>\n",
       "      <td>3.0</td>\n",
       "    </tr>\n",
       "    <tr>\n",
       "      <th>1</th>\n",
       "      <td>OffersScreenAppear</td>\n",
       "      <td>3912</td>\n",
       "      <td>681</td>\n",
       "      <td>17.0</td>\n",
       "    </tr>\n",
       "    <tr>\n",
       "      <th>2</th>\n",
       "      <td>CartScreenAppear</td>\n",
       "      <td>3262</td>\n",
       "      <td>472</td>\n",
       "      <td>14.0</td>\n",
       "    </tr>\n",
       "    <tr>\n",
       "      <th>3</th>\n",
       "      <td>PaymentScreenSuccessful</td>\n",
       "      <td>2965</td>\n",
       "      <td>574</td>\n",
       "      <td>19.0</td>\n",
       "    </tr>\n",
       "    <tr>\n",
       "      <th>4</th>\n",
       "      <td>Tutorial</td>\n",
       "      <td>84</td>\n",
       "      <td>756</td>\n",
       "      <td>900.0</td>\n",
       "    </tr>\n",
       "  </tbody>\n",
       "</table>\n",
       "</div>"
      ],
      "text/plain": [
       "                event_name  users_several_uses  users_once_uses  proportion, %\n",
       "0         MainScreenAppear                7173              246            3.0\n",
       "1       OffersScreenAppear                3912              681           17.0\n",
       "2         CartScreenAppear                3262              472           14.0\n",
       "3  PaymentScreenSuccessful                2965              574           19.0\n",
       "4                 Tutorial                  84              756          900.0"
      ]
     },
     "execution_count": 26,
     "metadata": {},
     "output_type": "execute_result"
    }
   ],
   "source": [
    "proportion = several_use_pv.merge(once_use_pv, left_on=['event_name'], right_on=['event_name']) \n",
    "proportion.columns=['event_name','users_several_uses','users_once_uses']\n",
    "proportion['proportion, %']=round(proportion['users_once_uses']/proportion['users_several_uses']*100)\n",
    "proportion"
   ]
  },
  {
   "cell_type": "markdown",
   "id": "ffb2c47b",
   "metadata": {},
   "source": [
    "**Kesimpulan:**\n",
    "\n",
    "* Berdasarkan data, dapat terlihat bahwa melalui tahap MainScreenAppear melewati 7419 pengguna unik, OffersScreenAppear - 4593, CartScreenAppear - 3734, PaymentScreenSuccessful - 3539, Tutorial - 840.\n",
    "* Berdasarkan data, pengguna unik yang melewati tahap-tahap ini hanya sekali, ditemukan bahwa melalui Tutorial melewati 756 pengguna unik (900% vs pengguna yang melewati tahap ini beberapa kali), OffersScreenAppear - 681 (17%), PaymentScreenSuccessful - 572 (19%), CartScreenAppear - 472 (14%) dan melalui MainScreenAppear - 246 (3%)."
   ]
  },
  {
   "cell_type": "markdown",
   "id": "61930563",
   "metadata": {},
   "source": [
    "**c. Menentukan urutan dari event tersebut.**"
   ]
  },
  {
   "cell_type": "markdown",
   "id": "19e77638",
   "metadata": {},
   "source": [
    "Berdasarkan temuan sebelumnya, asumsi kami adalah bahwa urutannya adalah sebagai berikut: \n",
    "\n",
    "0. Tutorial\n",
    "1. MainScreenAppear stage\n",
    "2. OffersScreenAppear\n",
    "3. CartScreenAppear\n",
    "4. PaymentScreenSuccessful\n",
    "\n",
    "**Kesimpulan:**\n",
    "Kami menduga bahwa Tutorial bukanlah bagian dari satu urutan karena sebagian besar pengguna melewatkan langkah ini dan mereka yang melewatinya, umumnya hanya melakukannya satu kali."
   ]
  },
  {
   "cell_type": "markdown",
   "id": "6d0b1f5b",
   "metadata": {},
   "source": [
    "**d. Menentukan corong peristiwa.**"
   ]
  },
  {
   "cell_type": "code",
   "execution_count": 27,
   "id": "713e79f4",
   "metadata": {},
   "outputs": [
    {
     "data": {
      "application/vnd.plotly.v1+json": {
       "config": {
        "plotlyServerURL": "https://plot.ly"
       },
       "data": [
        {
         "hovertemplate": "exp_id=246<br>user_id=%{x}<br>event_name=%{y}<extra></extra>",
         "legendgroup": "246",
         "marker": {
          "color": "#636efa"
         },
         "name": "246",
         "orientation": "h",
         "showlegend": true,
         "type": "funnel",
         "x": [
          2450,
          1542,
          1266,
          1200,
          0
         ],
         "xaxis": "x",
         "y": [
          "MainScreenAppear",
          "OffersScreenAppear",
          "CartScreenAppear",
          "PaymentScreenSuccessful",
          "Tutorial"
         ],
         "yaxis": "y"
        },
        {
         "hovertemplate": "exp_id=247<br>user_id=%{x}<br>event_name=%{y}<extra></extra>",
         "legendgroup": "247",
         "marker": {
          "color": "#EF553B"
         },
         "name": "247",
         "orientation": "h",
         "showlegend": true,
         "type": "funnel",
         "x": [
          2476,
          1520,
          1238,
          1158,
          0
         ],
         "xaxis": "x",
         "y": [
          "MainScreenAppear",
          "OffersScreenAppear",
          "CartScreenAppear",
          "PaymentScreenSuccessful",
          "Tutorial"
         ],
         "yaxis": "y"
        },
        {
         "hovertemplate": "exp_id=248<br>user_id=%{x}<br>event_name=%{y}<extra></extra>",
         "legendgroup": "248",
         "marker": {
          "color": "#00cc96"
         },
         "name": "248",
         "orientation": "h",
         "showlegend": true,
         "type": "funnel",
         "x": [
          2493,
          1531,
          1230,
          1181,
          0
         ],
         "xaxis": "x",
         "y": [
          "MainScreenAppear",
          "OffersScreenAppear",
          "CartScreenAppear",
          "PaymentScreenSuccessful",
          "Tutorial"
         ],
         "yaxis": "y"
        }
       ],
       "layout": {
        "autosize": false,
        "height": 400,
        "legend": {
         "title": {
          "text": "exp_id"
         },
         "tracegroupgap": 0,
         "x": 0.2,
         "xanchor": "right",
         "y": 0.4,
         "yanchor": "top"
        },
        "template": {
         "data": {
          "bar": [
           {
            "error_x": {
             "color": "#2a3f5f"
            },
            "error_y": {
             "color": "#2a3f5f"
            },
            "marker": {
             "line": {
              "color": "#E5ECF6",
              "width": 0.5
             },
             "pattern": {
              "fillmode": "overlay",
              "size": 10,
              "solidity": 0.2
             }
            },
            "type": "bar"
           }
          ],
          "barpolar": [
           {
            "marker": {
             "line": {
              "color": "#E5ECF6",
              "width": 0.5
             },
             "pattern": {
              "fillmode": "overlay",
              "size": 10,
              "solidity": 0.2
             }
            },
            "type": "barpolar"
           }
          ],
          "carpet": [
           {
            "aaxis": {
             "endlinecolor": "#2a3f5f",
             "gridcolor": "white",
             "linecolor": "white",
             "minorgridcolor": "white",
             "startlinecolor": "#2a3f5f"
            },
            "baxis": {
             "endlinecolor": "#2a3f5f",
             "gridcolor": "white",
             "linecolor": "white",
             "minorgridcolor": "white",
             "startlinecolor": "#2a3f5f"
            },
            "type": "carpet"
           }
          ],
          "choropleth": [
           {
            "colorbar": {
             "outlinewidth": 0,
             "ticks": ""
            },
            "type": "choropleth"
           }
          ],
          "contour": [
           {
            "colorbar": {
             "outlinewidth": 0,
             "ticks": ""
            },
            "colorscale": [
             [
              0,
              "#0d0887"
             ],
             [
              0.1111111111111111,
              "#46039f"
             ],
             [
              0.2222222222222222,
              "#7201a8"
             ],
             [
              0.3333333333333333,
              "#9c179e"
             ],
             [
              0.4444444444444444,
              "#bd3786"
             ],
             [
              0.5555555555555556,
              "#d8576b"
             ],
             [
              0.6666666666666666,
              "#ed7953"
             ],
             [
              0.7777777777777778,
              "#fb9f3a"
             ],
             [
              0.8888888888888888,
              "#fdca26"
             ],
             [
              1,
              "#f0f921"
             ]
            ],
            "type": "contour"
           }
          ],
          "contourcarpet": [
           {
            "colorbar": {
             "outlinewidth": 0,
             "ticks": ""
            },
            "type": "contourcarpet"
           }
          ],
          "heatmap": [
           {
            "colorbar": {
             "outlinewidth": 0,
             "ticks": ""
            },
            "colorscale": [
             [
              0,
              "#0d0887"
             ],
             [
              0.1111111111111111,
              "#46039f"
             ],
             [
              0.2222222222222222,
              "#7201a8"
             ],
             [
              0.3333333333333333,
              "#9c179e"
             ],
             [
              0.4444444444444444,
              "#bd3786"
             ],
             [
              0.5555555555555556,
              "#d8576b"
             ],
             [
              0.6666666666666666,
              "#ed7953"
             ],
             [
              0.7777777777777778,
              "#fb9f3a"
             ],
             [
              0.8888888888888888,
              "#fdca26"
             ],
             [
              1,
              "#f0f921"
             ]
            ],
            "type": "heatmap"
           }
          ],
          "heatmapgl": [
           {
            "colorbar": {
             "outlinewidth": 0,
             "ticks": ""
            },
            "colorscale": [
             [
              0,
              "#0d0887"
             ],
             [
              0.1111111111111111,
              "#46039f"
             ],
             [
              0.2222222222222222,
              "#7201a8"
             ],
             [
              0.3333333333333333,
              "#9c179e"
             ],
             [
              0.4444444444444444,
              "#bd3786"
             ],
             [
              0.5555555555555556,
              "#d8576b"
             ],
             [
              0.6666666666666666,
              "#ed7953"
             ],
             [
              0.7777777777777778,
              "#fb9f3a"
             ],
             [
              0.8888888888888888,
              "#fdca26"
             ],
             [
              1,
              "#f0f921"
             ]
            ],
            "type": "heatmapgl"
           }
          ],
          "histogram": [
           {
            "marker": {
             "pattern": {
              "fillmode": "overlay",
              "size": 10,
              "solidity": 0.2
             }
            },
            "type": "histogram"
           }
          ],
          "histogram2d": [
           {
            "colorbar": {
             "outlinewidth": 0,
             "ticks": ""
            },
            "colorscale": [
             [
              0,
              "#0d0887"
             ],
             [
              0.1111111111111111,
              "#46039f"
             ],
             [
              0.2222222222222222,
              "#7201a8"
             ],
             [
              0.3333333333333333,
              "#9c179e"
             ],
             [
              0.4444444444444444,
              "#bd3786"
             ],
             [
              0.5555555555555556,
              "#d8576b"
             ],
             [
              0.6666666666666666,
              "#ed7953"
             ],
             [
              0.7777777777777778,
              "#fb9f3a"
             ],
             [
              0.8888888888888888,
              "#fdca26"
             ],
             [
              1,
              "#f0f921"
             ]
            ],
            "type": "histogram2d"
           }
          ],
          "histogram2dcontour": [
           {
            "colorbar": {
             "outlinewidth": 0,
             "ticks": ""
            },
            "colorscale": [
             [
              0,
              "#0d0887"
             ],
             [
              0.1111111111111111,
              "#46039f"
             ],
             [
              0.2222222222222222,
              "#7201a8"
             ],
             [
              0.3333333333333333,
              "#9c179e"
             ],
             [
              0.4444444444444444,
              "#bd3786"
             ],
             [
              0.5555555555555556,
              "#d8576b"
             ],
             [
              0.6666666666666666,
              "#ed7953"
             ],
             [
              0.7777777777777778,
              "#fb9f3a"
             ],
             [
              0.8888888888888888,
              "#fdca26"
             ],
             [
              1,
              "#f0f921"
             ]
            ],
            "type": "histogram2dcontour"
           }
          ],
          "mesh3d": [
           {
            "colorbar": {
             "outlinewidth": 0,
             "ticks": ""
            },
            "type": "mesh3d"
           }
          ],
          "parcoords": [
           {
            "line": {
             "colorbar": {
              "outlinewidth": 0,
              "ticks": ""
             }
            },
            "type": "parcoords"
           }
          ],
          "pie": [
           {
            "automargin": true,
            "type": "pie"
           }
          ],
          "scatter": [
           {
            "fillpattern": {
             "fillmode": "overlay",
             "size": 10,
             "solidity": 0.2
            },
            "type": "scatter"
           }
          ],
          "scatter3d": [
           {
            "line": {
             "colorbar": {
              "outlinewidth": 0,
              "ticks": ""
             }
            },
            "marker": {
             "colorbar": {
              "outlinewidth": 0,
              "ticks": ""
             }
            },
            "type": "scatter3d"
           }
          ],
          "scattercarpet": [
           {
            "marker": {
             "colorbar": {
              "outlinewidth": 0,
              "ticks": ""
             }
            },
            "type": "scattercarpet"
           }
          ],
          "scattergeo": [
           {
            "marker": {
             "colorbar": {
              "outlinewidth": 0,
              "ticks": ""
             }
            },
            "type": "scattergeo"
           }
          ],
          "scattergl": [
           {
            "marker": {
             "colorbar": {
              "outlinewidth": 0,
              "ticks": ""
             }
            },
            "type": "scattergl"
           }
          ],
          "scattermapbox": [
           {
            "marker": {
             "colorbar": {
              "outlinewidth": 0,
              "ticks": ""
             }
            },
            "type": "scattermapbox"
           }
          ],
          "scatterpolar": [
           {
            "marker": {
             "colorbar": {
              "outlinewidth": 0,
              "ticks": ""
             }
            },
            "type": "scatterpolar"
           }
          ],
          "scatterpolargl": [
           {
            "marker": {
             "colorbar": {
              "outlinewidth": 0,
              "ticks": ""
             }
            },
            "type": "scatterpolargl"
           }
          ],
          "scatterternary": [
           {
            "marker": {
             "colorbar": {
              "outlinewidth": 0,
              "ticks": ""
             }
            },
            "type": "scatterternary"
           }
          ],
          "surface": [
           {
            "colorbar": {
             "outlinewidth": 0,
             "ticks": ""
            },
            "colorscale": [
             [
              0,
              "#0d0887"
             ],
             [
              0.1111111111111111,
              "#46039f"
             ],
             [
              0.2222222222222222,
              "#7201a8"
             ],
             [
              0.3333333333333333,
              "#9c179e"
             ],
             [
              0.4444444444444444,
              "#bd3786"
             ],
             [
              0.5555555555555556,
              "#d8576b"
             ],
             [
              0.6666666666666666,
              "#ed7953"
             ],
             [
              0.7777777777777778,
              "#fb9f3a"
             ],
             [
              0.8888888888888888,
              "#fdca26"
             ],
             [
              1,
              "#f0f921"
             ]
            ],
            "type": "surface"
           }
          ],
          "table": [
           {
            "cells": {
             "fill": {
              "color": "#EBF0F8"
             },
             "line": {
              "color": "white"
             }
            },
            "header": {
             "fill": {
              "color": "#C8D4E3"
             },
             "line": {
              "color": "white"
             }
            },
            "type": "table"
           }
          ]
         },
         "layout": {
          "annotationdefaults": {
           "arrowcolor": "#2a3f5f",
           "arrowhead": 0,
           "arrowwidth": 1
          },
          "autotypenumbers": "strict",
          "coloraxis": {
           "colorbar": {
            "outlinewidth": 0,
            "ticks": ""
           }
          },
          "colorscale": {
           "diverging": [
            [
             0,
             "#8e0152"
            ],
            [
             0.1,
             "#c51b7d"
            ],
            [
             0.2,
             "#de77ae"
            ],
            [
             0.3,
             "#f1b6da"
            ],
            [
             0.4,
             "#fde0ef"
            ],
            [
             0.5,
             "#f7f7f7"
            ],
            [
             0.6,
             "#e6f5d0"
            ],
            [
             0.7,
             "#b8e186"
            ],
            [
             0.8,
             "#7fbc41"
            ],
            [
             0.9,
             "#4d9221"
            ],
            [
             1,
             "#276419"
            ]
           ],
           "sequential": [
            [
             0,
             "#0d0887"
            ],
            [
             0.1111111111111111,
             "#46039f"
            ],
            [
             0.2222222222222222,
             "#7201a8"
            ],
            [
             0.3333333333333333,
             "#9c179e"
            ],
            [
             0.4444444444444444,
             "#bd3786"
            ],
            [
             0.5555555555555556,
             "#d8576b"
            ],
            [
             0.6666666666666666,
             "#ed7953"
            ],
            [
             0.7777777777777778,
             "#fb9f3a"
            ],
            [
             0.8888888888888888,
             "#fdca26"
            ],
            [
             1,
             "#f0f921"
            ]
           ],
           "sequentialminus": [
            [
             0,
             "#0d0887"
            ],
            [
             0.1111111111111111,
             "#46039f"
            ],
            [
             0.2222222222222222,
             "#7201a8"
            ],
            [
             0.3333333333333333,
             "#9c179e"
            ],
            [
             0.4444444444444444,
             "#bd3786"
            ],
            [
             0.5555555555555556,
             "#d8576b"
            ],
            [
             0.6666666666666666,
             "#ed7953"
            ],
            [
             0.7777777777777778,
             "#fb9f3a"
            ],
            [
             0.8888888888888888,
             "#fdca26"
            ],
            [
             1,
             "#f0f921"
            ]
           ]
          },
          "colorway": [
           "#636efa",
           "#EF553B",
           "#00cc96",
           "#ab63fa",
           "#FFA15A",
           "#19d3f3",
           "#FF6692",
           "#B6E880",
           "#FF97FF",
           "#FECB52"
          ],
          "font": {
           "color": "#2a3f5f"
          },
          "geo": {
           "bgcolor": "white",
           "lakecolor": "white",
           "landcolor": "#E5ECF6",
           "showlakes": true,
           "showland": true,
           "subunitcolor": "white"
          },
          "hoverlabel": {
           "align": "left"
          },
          "hovermode": "closest",
          "mapbox": {
           "style": "light"
          },
          "paper_bgcolor": "white",
          "plot_bgcolor": "#E5ECF6",
          "polar": {
           "angularaxis": {
            "gridcolor": "white",
            "linecolor": "white",
            "ticks": ""
           },
           "bgcolor": "#E5ECF6",
           "radialaxis": {
            "gridcolor": "white",
            "linecolor": "white",
            "ticks": ""
           }
          },
          "scene": {
           "xaxis": {
            "backgroundcolor": "#E5ECF6",
            "gridcolor": "white",
            "gridwidth": 2,
            "linecolor": "white",
            "showbackground": true,
            "ticks": "",
            "zerolinecolor": "white"
           },
           "yaxis": {
            "backgroundcolor": "#E5ECF6",
            "gridcolor": "white",
            "gridwidth": 2,
            "linecolor": "white",
            "showbackground": true,
            "ticks": "",
            "zerolinecolor": "white"
           },
           "zaxis": {
            "backgroundcolor": "#E5ECF6",
            "gridcolor": "white",
            "gridwidth": 2,
            "linecolor": "white",
            "showbackground": true,
            "ticks": "",
            "zerolinecolor": "white"
           }
          },
          "shapedefaults": {
           "line": {
            "color": "#2a3f5f"
           }
          },
          "ternary": {
           "aaxis": {
            "gridcolor": "white",
            "linecolor": "white",
            "ticks": ""
           },
           "baxis": {
            "gridcolor": "white",
            "linecolor": "white",
            "ticks": ""
           },
           "bgcolor": "#E5ECF6",
           "caxis": {
            "gridcolor": "white",
            "linecolor": "white",
            "ticks": ""
           }
          },
          "title": {
           "x": 0.05
          },
          "xaxis": {
           "automargin": true,
           "gridcolor": "white",
           "linecolor": "white",
           "ticks": "",
           "title": {
            "standoff": 15
           },
           "zerolinecolor": "white",
           "zerolinewidth": 2
          },
          "yaxis": {
           "automargin": true,
           "gridcolor": "white",
           "linecolor": "white",
           "ticks": "",
           "title": {
            "standoff": 15
           },
           "zerolinecolor": "white",
           "zerolinewidth": 2
          }
         }
        },
        "title": {
         "text": "Event funnel for the number of users who performed given action"
        },
        "width": 900,
        "xaxis": {
         "anchor": "y",
         "domain": [
          0,
          1
         ],
         "title": {
          "text": "user_id"
         }
        },
        "yaxis": {
         "anchor": "x",
         "domain": [
          0,
          1
         ],
         "title": {
          "text": "event_name"
         }
        }
       }
      }
     },
     "metadata": {},
     "output_type": "display_data"
    }
   ],
   "source": [
    "# Filter out Tutorial event\n",
    "logs_notutorial = logs_complete.loc[~(logs_complete['event_name'] == 'Tutorial')].copy()\n",
    "\n",
    "# Plotly funnel\n",
    "funnel_by_groups = []\n",
    "\n",
    "for g in logs_notutorial['exp_id'].unique():\n",
    "    temp_grp = logs_notutorial.loc[logs_notutorial['exp_id'] == g].groupby(by=['event_name', 'exp_id'])['user_id'].nunique().reset_index().sort_values(by=['user_id'], ascending=False)\n",
    "    funnel_by_groups.append(temp_grp)\n",
    "\n",
    "funnel_by_groups = pd.concat(funnel_by_groups)\n",
    "\n",
    "fig = px.funnel(funnel_by_groups, x='user_id', y='event_name', color='exp_id', title='Event funnel for the number of users who performed given action')\n",
    "\n",
    "fig.update_layout(\n",
    "    autosize=False,\n",
    "    width=900,\n",
    "    height=400,\n",
    "    legend=dict(\n",
    "        yanchor=\"top\",\n",
    "        y=0.4,\n",
    "        xanchor=\"right\",\n",
    "        x=0.2\n",
    "    )\n",
    ")\n",
    "\n",
    "fig.show()"
   ]
  },
  {
   "cell_type": "code",
   "execution_count": 28,
   "id": "81b7367c",
   "metadata": {
    "scrolled": true
   },
   "outputs": [
    {
     "data": {
      "text/html": [
       "<div>\n",
       "<style scoped>\n",
       "    .dataframe tbody tr th:only-of-type {\n",
       "        vertical-align: middle;\n",
       "    }\n",
       "\n",
       "    .dataframe tbody tr th {\n",
       "        vertical-align: top;\n",
       "    }\n",
       "\n",
       "    .dataframe thead th {\n",
       "        text-align: right;\n",
       "    }\n",
       "</style>\n",
       "<table border=\"1\" class=\"dataframe\">\n",
       "  <thead>\n",
       "    <tr style=\"text-align: right;\">\n",
       "      <th></th>\n",
       "      <th>event_name</th>\n",
       "      <th>user_id</th>\n",
       "      <th>pct_chg</th>\n",
       "    </tr>\n",
       "  </thead>\n",
       "  <tbody>\n",
       "    <tr>\n",
       "      <th>0</th>\n",
       "      <td>MainScreenAppear</td>\n",
       "      <td>7419</td>\n",
       "      <td>NaN</td>\n",
       "    </tr>\n",
       "    <tr>\n",
       "      <th>1</th>\n",
       "      <td>OffersScreenAppear</td>\n",
       "      <td>4593</td>\n",
       "      <td>38.091387</td>\n",
       "    </tr>\n",
       "    <tr>\n",
       "      <th>2</th>\n",
       "      <td>CartScreenAppear</td>\n",
       "      <td>3734</td>\n",
       "      <td>18.702373</td>\n",
       "    </tr>\n",
       "    <tr>\n",
       "      <th>3</th>\n",
       "      <td>PaymentScreenSuccessful</td>\n",
       "      <td>3539</td>\n",
       "      <td>5.222282</td>\n",
       "    </tr>\n",
       "  </tbody>\n",
       "</table>\n",
       "</div>"
      ],
      "text/plain": [
       "                event_name  user_id    pct_chg\n",
       "0         MainScreenAppear     7419        NaN\n",
       "1       OffersScreenAppear     4593  38.091387\n",
       "2         CartScreenAppear     3734  18.702373\n",
       "3  PaymentScreenSuccessful     3539   5.222282"
      ]
     },
     "metadata": {},
     "output_type": "display_data"
    }
   ],
   "source": [
    "funnel_share = (logs_complete.groupby(by=['event_name'])['user_id'].nunique().\n",
    "                sort_values(ascending=False).reset_index())\n",
    "funnel_share['pct_chg'] = (funnel_share['user_id'].pct_change()*-1*100)\n",
    "display(funnel_share.iloc[0:4])"
   ]
  },
  {
   "cell_type": "markdown",
   "id": "39dd2aa9",
   "metadata": {},
   "source": [
    "**e. Menentuan tahapan yang  kehilangan banyak pengguna.**"
   ]
  },
  {
   "cell_type": "markdown",
   "id": "e099ae62",
   "metadata": {},
   "source": [
    "**Kesimpulan:**\n",
    "Berdasarkan temuan sebelumnya aplikasi ini kehilangan sebagian besar pengguna saat bertransisi dari halaman utama ke halaman penawaran dengan kehilangan sekitar 38% pengguna."
   ]
  },
  {
   "cell_type": "markdown",
   "id": "5919330a",
   "metadata": {},
   "source": [
    "**e. Menentuan persentase pengguna yang berhasil menyelesaikan seluruh tahapan, dari peristiwa pertama hingga pembayaran.**"
   ]
  },
  {
   "cell_type": "code",
   "execution_count": 29,
   "id": "5a80b54a",
   "metadata": {},
   "outputs": [],
   "source": [
    "converted = logs_complete.query('event_name == \"PaymentScreenSuccessful\"')['user_id']"
   ]
  },
  {
   "cell_type": "code",
   "execution_count": 30,
   "id": "9d95cc0b",
   "metadata": {
    "scrolled": false
   },
   "outputs": [
    {
     "name": "stdout",
     "output_type": "stream",
     "text": [
      "47 %\n"
     ]
    }
   ],
   "source": [
    "print(round(converted.nunique()/logs_complete['user_id'].nunique()*100),'%')"
   ]
  },
  {
   "cell_type": "markdown",
   "id": "ad044d50",
   "metadata": {},
   "source": [
    "**Kesimpulan:**\n",
    "Kami menemukan bahwa dari 7534 pengguna yang berpartisipasi dalam percobaan kami, 3539 di antaranya melakukan pembelian. Ini setara dengan sekitar 47% pengguna. Jadi hampir setengah dari pengguna berhasil menyelesaikan pembelian mereka, yang merupakan tingkat konversi yang sangat tinggi."
   ]
  },
  {
   "cell_type": "markdown",
   "id": "d77b4d37",
   "metadata": {},
   "source": [
    "## 3. Analisis Data Statistik (Hyphothesis Testing & A/A/B Testing)"
   ]
  },
  {
   "cell_type": "markdown",
   "id": "08e90318",
   "metadata": {},
   "source": [
    "### 3.1. Berapa banyak pengguna yang ada di setiap kelompok?"
   ]
  },
  {
   "cell_type": "code",
   "execution_count": 31,
   "id": "c9612f63",
   "metadata": {
    "scrolled": true
   },
   "outputs": [
    {
     "name": "stdout",
     "output_type": "stream",
     "text": [
      "Terdapat 2484 pengguna di first control group.\n",
      "Terdapat 2513 pengguna di second control group.\n",
      "Terdapat 2537 pengguna di test group.\n"
     ]
    }
   ],
   "source": [
    "control_1 = logs_complete.loc[logs_complete['exp_id'] == 246, 'user_id'].unique()\n",
    "control_2 = logs_complete.loc[logs_complete['exp_id'] == 247, 'user_id'].unique()\n",
    "test = logs_complete.loc[logs_complete['exp_id'] == 248, 'user_id'].unique()\n",
    "\n",
    "print('Terdapat {} pengguna di first control group.'.format(len(control_1)))\n",
    "print('Terdapat {} pengguna di second control group.'.format(len(control_2)))\n",
    "print('Terdapat {} pengguna di test group.'.format(len(test)))"
   ]
  },
  {
   "cell_type": "markdown",
   "id": "9cebbce1",
   "metadata": {},
   "source": [
    "**Kesimpulan:**\n",
    "Berdasarkan Untuk pengujian A/A yang sukses, jumlah pengguna dalam kelompok yang berbeda tidak boleh berbeda lebih dari 1%. Di sini, jumlah pengguna di antara dua kelompok kontrol berbeda sekitar 0,94%. Jadi, ini adalah awal yang baik."
   ]
  },
  {
   "cell_type": "markdown",
   "id": "a279c2ef",
   "metadata": {},
   "source": [
    "### 3.2. Apakah ada perbedaan yang signifikan secara statistik antara sampel dari kelompok eksperimen?"
   ]
  },
  {
   "cell_type": "code",
   "execution_count": 32,
   "id": "899e1fcf",
   "metadata": {},
   "outputs": [
    {
     "data": {
      "text/html": [
       "<div>\n",
       "<style scoped>\n",
       "    .dataframe tbody tr th:only-of-type {\n",
       "        vertical-align: middle;\n",
       "    }\n",
       "\n",
       "    .dataframe tbody tr th {\n",
       "        vertical-align: top;\n",
       "    }\n",
       "\n",
       "    .dataframe thead th {\n",
       "        text-align: right;\n",
       "    }\n",
       "</style>\n",
       "<table border=\"1\" class=\"dataframe\">\n",
       "  <thead>\n",
       "    <tr style=\"text-align: right;\">\n",
       "      <th>exp_id</th>\n",
       "      <th>event_name</th>\n",
       "      <th>246</th>\n",
       "      <th>247</th>\n",
       "      <th>248</th>\n",
       "    </tr>\n",
       "  </thead>\n",
       "  <tbody>\n",
       "    <tr>\n",
       "      <th>0</th>\n",
       "      <td>CartScreenAppear</td>\n",
       "      <td>1266</td>\n",
       "      <td>1238</td>\n",
       "      <td>1230</td>\n",
       "    </tr>\n",
       "    <tr>\n",
       "      <th>1</th>\n",
       "      <td>MainScreenAppear</td>\n",
       "      <td>2450</td>\n",
       "      <td>2476</td>\n",
       "      <td>2493</td>\n",
       "    </tr>\n",
       "    <tr>\n",
       "      <th>2</th>\n",
       "      <td>OffersScreenAppear</td>\n",
       "      <td>1542</td>\n",
       "      <td>1520</td>\n",
       "      <td>1531</td>\n",
       "    </tr>\n",
       "    <tr>\n",
       "      <th>3</th>\n",
       "      <td>PaymentScreenSuccessful</td>\n",
       "      <td>1200</td>\n",
       "      <td>1158</td>\n",
       "      <td>1181</td>\n",
       "    </tr>\n",
       "    <tr>\n",
       "      <th>4</th>\n",
       "      <td>Tutorial</td>\n",
       "      <td>278</td>\n",
       "      <td>283</td>\n",
       "      <td>279</td>\n",
       "    </tr>\n",
       "  </tbody>\n",
       "</table>\n",
       "</div>"
      ],
      "text/plain": [
       "exp_id               event_name   246   247   248\n",
       "0              CartScreenAppear  1266  1238  1230\n",
       "1              MainScreenAppear  2450  2476  2493\n",
       "2            OffersScreenAppear  1542  1520  1531\n",
       "3       PaymentScreenSuccessful  1200  1158  1181\n",
       "4                      Tutorial   278   283   279"
      ]
     },
     "metadata": {},
     "output_type": "display_data"
    }
   ],
   "source": [
    "logs_pivot = logs_complete.pivot_table(index='event_name', values='user_id', columns='exp_id', \n",
    "                       aggfunc=lambda x: x.nunique()).reset_index()\n",
    "display(logs_pivot)"
   ]
  },
  {
   "cell_type": "markdown",
   "id": "d34c33d0",
   "metadata": {},
   "source": [
    "**Kesimpulan Sementara:**\n",
    "\n",
    "* Dari tabel tersebut, event paling populer adalah MainScreenAppear.\n",
    "\n",
    "Untuk menguji signifikansi statistik antara kelompok-kelompok tersebut, di bawah ini kami mendefinisikan fungsi pengujian hipotesis yang akan digunakan untuk melakukan Z-tests."
   ]
  },
  {
   "cell_type": "code",
   "execution_count": 33,
   "id": "947e779a",
   "metadata": {},
   "outputs": [],
   "source": [
    "def check_hypothesis(group1, group2, event, alpha=0.05):\n",
    "    print('Considered action:', event)\n",
    "    #let's start with successes, using \n",
    "    successes1 = logs_pivot.loc[logs_pivot['event_name']==event, group1].iloc[0]\n",
    "    successes2 = logs_pivot.loc[logs_pivot['event_name']==event, group2].iloc[0]\n",
    "    \n",
    "    #for trials we can go back to original df or used a pre-aggregated data\n",
    "    trials1 = logs_complete.loc[logs_complete['exp_id']==group1, 'user_id'].nunique()\n",
    "    trials2 = logs_complete.loc[logs_complete['exp_id']==group2, 'user_id'].nunique()\n",
    "    \n",
    "    #proportion for success in the first group\n",
    "    p1 = successes1/trials1\n",
    "    print('Persentase pengguna yang melakukan tindakan {} dalam grup {}.'.format(event, group1))\n",
    "\n",
    "   #proportion for success in the second group\n",
    "    p2 = successes2/trials2\n",
    "    print('Persentase pengguna yang melakukan tindakan {} dalam grup {}.'.format(event, group2))\n",
    "\n",
    "    # proportion in a combined dataset\n",
    "    p_combined = (successes1 + successes2) / (trials1 + trials2)\n",
    "\n",
    "  \n",
    "    difference = p1 - p2\n",
    "    \n",
    "    \n",
    "    z_value = difference / mth.sqrt(p_combined * (1 - p_combined) * (1/trials1 + 1/trials2))\n",
    "\n",
    "  \n",
    "    distr = st.norm(0, 1) \n",
    "\n",
    "\n",
    "    p_value = (1 - distr.cdf(abs(z_value))) * 2\n",
    "\n",
    "    print('p-value: ', p_value)\n",
    "\n",
    "    if (p_value < alpha):\n",
    "        print(\"Tolak hipotesis nol untuk {} dan kelompok {} & {}.\"\n",
    "              .format(event, group1, group2))\n",
    "    else:\n",
    "        print(\"Gagal menolak hipotesis nol untuk {} dan grup {} & {}.\"\n",
    "              .format(event, group1, group2)) "
   ]
  },
  {
   "cell_type": "markdown",
   "id": "0fb4bc65",
   "metadata": {},
   "source": [
    "Fungsi pengujian hipotesis yang telah kita definisikan cocok untuk menguji kesetaraan proporsi populasi. Hipotesis nol dan hipotesis alternatif kita dapat dirumuskan sebagai berikut untuk dua kelompok yang akan kita bandingkan untuk suatu peristiwa tertentu:\n",
    "\n",
    "* **H0 (Null Hypothesis):** Tidak ada perbedaan yang signifikan secara statistik dalam proporsi pengguna yang melakukan tindakan peristiwa tertentu dari kedua kelompok.\n",
    "* **H1 (Alternative Hypothesis):** Terdapat perbedaan yang signifikan secara statistik dalam proporsi pengguna yang melakukan tindakan peristiwa tertentu dari kedua kelompok. \n",
    "\n",
    "(alpha = 0.05).\n",
    "\n",
    "Untuk semua kejadian dalam log kami, kami menguji signifikansi statistik secara terpisah antara berbagai kelompok. Kami mulai dengan menguji dua kelompok kontrol dalam A/A testing."
   ]
  },
  {
   "cell_type": "code",
   "execution_count": 34,
   "id": "3009edad",
   "metadata": {},
   "outputs": [
    {
     "data": {
      "text/markdown": [
       "<span style='color:red'>Hypothesis test #1</span>"
      ],
      "text/plain": [
       "<IPython.core.display.Markdown object>"
      ]
     },
     "metadata": {},
     "output_type": "display_data"
    },
    {
     "name": "stdout",
     "output_type": "stream",
     "text": [
      "Considered action: CartScreenAppear\n",
      "Persentase pengguna yang melakukan tindakan CartScreenAppear dalam grup 246.\n",
      "Persentase pengguna yang melakukan tindakan CartScreenAppear dalam grup 247.\n",
      "p-value:  0.22883372237997213\n",
      "Gagal menolak hipotesis nol untuk CartScreenAppear dan grup 246 & 247.\n",
      "\n"
     ]
    },
    {
     "data": {
      "text/markdown": [
       "<span style='color:red'>Hypothesis test #2</span>"
      ],
      "text/plain": [
       "<IPython.core.display.Markdown object>"
      ]
     },
     "metadata": {},
     "output_type": "display_data"
    },
    {
     "name": "stdout",
     "output_type": "stream",
     "text": [
      "Considered action: MainScreenAppear\n",
      "Persentase pengguna yang melakukan tindakan MainScreenAppear dalam grup 246.\n",
      "Persentase pengguna yang melakukan tindakan MainScreenAppear dalam grup 247.\n",
      "p-value:  0.7570597232046099\n",
      "Gagal menolak hipotesis nol untuk MainScreenAppear dan grup 246 & 247.\n",
      "\n"
     ]
    },
    {
     "data": {
      "text/markdown": [
       "<span style='color:red'>Hypothesis test #3</span>"
      ],
      "text/plain": [
       "<IPython.core.display.Markdown object>"
      ]
     },
     "metadata": {},
     "output_type": "display_data"
    },
    {
     "name": "stdout",
     "output_type": "stream",
     "text": [
      "Considered action: OffersScreenAppear\n",
      "Persentase pengguna yang melakukan tindakan OffersScreenAppear dalam grup 246.\n",
      "Persentase pengguna yang melakukan tindakan OffersScreenAppear dalam grup 247.\n",
      "p-value:  0.2480954578522181\n",
      "Gagal menolak hipotesis nol untuk OffersScreenAppear dan grup 246 & 247.\n",
      "\n"
     ]
    },
    {
     "data": {
      "text/markdown": [
       "<span style='color:red'>Hypothesis test #4</span>"
      ],
      "text/plain": [
       "<IPython.core.display.Markdown object>"
      ]
     },
     "metadata": {},
     "output_type": "display_data"
    },
    {
     "name": "stdout",
     "output_type": "stream",
     "text": [
      "Considered action: PaymentScreenSuccessful\n",
      "Persentase pengguna yang melakukan tindakan PaymentScreenSuccessful dalam grup 246.\n",
      "Persentase pengguna yang melakukan tindakan PaymentScreenSuccessful dalam grup 247.\n",
      "p-value:  0.11456679313141849\n",
      "Gagal menolak hipotesis nol untuk PaymentScreenSuccessful dan grup 246 & 247.\n",
      "\n"
     ]
    },
    {
     "data": {
      "text/markdown": [
       "<span style='color:red'>Hypothesis test #5</span>"
      ],
      "text/plain": [
       "<IPython.core.display.Markdown object>"
      ]
     },
     "metadata": {},
     "output_type": "display_data"
    },
    {
     "name": "stdout",
     "output_type": "stream",
     "text": [
      "Considered action: Tutorial\n",
      "Persentase pengguna yang melakukan tindakan Tutorial dalam grup 246.\n",
      "Persentase pengguna yang melakukan tindakan Tutorial dalam grup 247.\n",
      "p-value:  0.9376996189257114\n",
      "Gagal menolak hipotesis nol untuk Tutorial dan grup 246 & 247.\n",
      "\n"
     ]
    }
   ],
   "source": [
    "test_count = 0\n",
    "for i in logs_pivot['event_name'].unique():\n",
    "    test_count += 1\n",
    "    printmd('Hypothesis test #{}'.format(test_count), color='red')\n",
    "    check_hypothesis(246,247, i, alpha=0.05)\n",
    "    print()"
   ]
  },
  {
   "cell_type": "markdown",
   "id": "fb18fb13",
   "metadata": {},
   "source": [
    "**Kesimpulan:**\n",
    "Kami menemukan bahwa tidak ada perbedaan yang signifikan secara statistik antara kelompok A/A dalam eksperimen kami.\n",
    "\n",
    "Bagaimana dengan kelompok dengan font yang diubah? Sekarang kita menguji apakah ada perbedaan yang signifikan secara statistik antara sampel untuk kelompok 248 dan kelompok kontrol.\n",
    "\n",
    "Di sini kita ulangi pengujian hipotesis untuk kelompok dengan font yang diubah. Pertama-tama, mari kita bandingkan hasilnya dengan hasil dari masing-masing kelompok kontrol untuk setiap peristiwa secara terpisah. Kita mulai dengan pengujian untuk kelompok 246 dan 248."
   ]
  },
  {
   "cell_type": "code",
   "execution_count": 35,
   "id": "4454fe08",
   "metadata": {},
   "outputs": [
    {
     "data": {
      "text/markdown": [
       "<span style='color:red'>Hypothesis test #6</span>"
      ],
      "text/plain": [
       "<IPython.core.display.Markdown object>"
      ]
     },
     "metadata": {},
     "output_type": "display_data"
    },
    {
     "name": "stdout",
     "output_type": "stream",
     "text": [
      "Considered action: CartScreenAppear\n",
      "Persentase pengguna yang melakukan tindakan CartScreenAppear dalam grup 246.\n",
      "Persentase pengguna yang melakukan tindakan CartScreenAppear dalam grup 248.\n",
      "p-value:  0.07842923237520116\n",
      "Gagal menolak hipotesis nol untuk CartScreenAppear dan grup 246 & 248.\n",
      "\n"
     ]
    },
    {
     "data": {
      "text/markdown": [
       "<span style='color:red'>Hypothesis test #7</span>"
      ],
      "text/plain": [
       "<IPython.core.display.Markdown object>"
      ]
     },
     "metadata": {},
     "output_type": "display_data"
    },
    {
     "name": "stdout",
     "output_type": "stream",
     "text": [
      "Considered action: MainScreenAppear\n",
      "Persentase pengguna yang melakukan tindakan MainScreenAppear dalam grup 246.\n",
      "Persentase pengguna yang melakukan tindakan MainScreenAppear dalam grup 248.\n",
      "p-value:  0.2949721933554552\n",
      "Gagal menolak hipotesis nol untuk MainScreenAppear dan grup 246 & 248.\n",
      "\n"
     ]
    },
    {
     "data": {
      "text/markdown": [
       "<span style='color:red'>Hypothesis test #8</span>"
      ],
      "text/plain": [
       "<IPython.core.display.Markdown object>"
      ]
     },
     "metadata": {},
     "output_type": "display_data"
    },
    {
     "name": "stdout",
     "output_type": "stream",
     "text": [
      "Considered action: OffersScreenAppear\n",
      "Persentase pengguna yang melakukan tindakan OffersScreenAppear dalam grup 246.\n",
      "Persentase pengguna yang melakukan tindakan OffersScreenAppear dalam grup 248.\n",
      "p-value:  0.20836205402738917\n",
      "Gagal menolak hipotesis nol untuk OffersScreenAppear dan grup 246 & 248.\n",
      "\n"
     ]
    },
    {
     "data": {
      "text/markdown": [
       "<span style='color:red'>Hypothesis test #9</span>"
      ],
      "text/plain": [
       "<IPython.core.display.Markdown object>"
      ]
     },
     "metadata": {},
     "output_type": "display_data"
    },
    {
     "name": "stdout",
     "output_type": "stream",
     "text": [
      "Considered action: PaymentScreenSuccessful\n",
      "Persentase pengguna yang melakukan tindakan PaymentScreenSuccessful dalam grup 246.\n",
      "Persentase pengguna yang melakukan tindakan PaymentScreenSuccessful dalam grup 248.\n",
      "p-value:  0.2122553275697796\n",
      "Gagal menolak hipotesis nol untuk PaymentScreenSuccessful dan grup 246 & 248.\n",
      "\n"
     ]
    },
    {
     "data": {
      "text/markdown": [
       "<span style='color:red'>Hypothesis test #10</span>"
      ],
      "text/plain": [
       "<IPython.core.display.Markdown object>"
      ]
     },
     "metadata": {},
     "output_type": "display_data"
    },
    {
     "name": "stdout",
     "output_type": "stream",
     "text": [
      "Considered action: Tutorial\n",
      "Persentase pengguna yang melakukan tindakan Tutorial dalam grup 246.\n",
      "Persentase pengguna yang melakukan tindakan Tutorial dalam grup 248.\n",
      "p-value:  0.8264294010087645\n",
      "Gagal menolak hipotesis nol untuk Tutorial dan grup 246 & 248.\n",
      "\n"
     ]
    }
   ],
   "source": [
    "for i in logs_pivot['event_name'].unique():\n",
    "    test_count += 1\n",
    "    printmd('Hypothesis test #{}'.format(test_count), color='red')\n",
    "    check_hypothesis(246,248, i, alpha=0.05)\n",
    "    print()"
   ]
  },
  {
   "cell_type": "markdown",
   "id": "104e8715",
   "metadata": {},
   "source": [
    "**Kesimpulan:**\n",
    "Perbandingan antara kelompok kontrol pertama dan kelompok uji tidak menunjukkan adanya perbedaan yang signifikan secara statistik.\n",
    "\n",
    "Selanjutnya, kami melanjutkan dengan pengujian untuk grup 247 dan 248."
   ]
  },
  {
   "cell_type": "code",
   "execution_count": 36,
   "id": "685ef81c",
   "metadata": {},
   "outputs": [
    {
     "data": {
      "text/markdown": [
       "<span style='color:red'>Hypothesis test #11</span>"
      ],
      "text/plain": [
       "<IPython.core.display.Markdown object>"
      ]
     },
     "metadata": {},
     "output_type": "display_data"
    },
    {
     "name": "stdout",
     "output_type": "stream",
     "text": [
      "Considered action: CartScreenAppear\n",
      "Persentase pengguna yang melakukan tindakan CartScreenAppear dalam grup 247.\n",
      "Persentase pengguna yang melakukan tindakan CartScreenAppear dalam grup 248.\n",
      "p-value:  0.5786197879539783\n",
      "Gagal menolak hipotesis nol untuk CartScreenAppear dan grup 247 & 248.\n",
      "\n"
     ]
    },
    {
     "data": {
      "text/markdown": [
       "<span style='color:red'>Hypothesis test #12</span>"
      ],
      "text/plain": [
       "<IPython.core.display.Markdown object>"
      ]
     },
     "metadata": {},
     "output_type": "display_data"
    },
    {
     "name": "stdout",
     "output_type": "stream",
     "text": [
      "Considered action: MainScreenAppear\n",
      "Persentase pengguna yang melakukan tindakan MainScreenAppear dalam grup 247.\n",
      "Persentase pengguna yang melakukan tindakan MainScreenAppear dalam grup 248.\n",
      "p-value:  0.4587053616621515\n",
      "Gagal menolak hipotesis nol untuk MainScreenAppear dan grup 247 & 248.\n",
      "\n"
     ]
    },
    {
     "data": {
      "text/markdown": [
       "<span style='color:red'>Hypothesis test #13</span>"
      ],
      "text/plain": [
       "<IPython.core.display.Markdown object>"
      ]
     },
     "metadata": {},
     "output_type": "display_data"
    },
    {
     "name": "stdout",
     "output_type": "stream",
     "text": [
      "Considered action: OffersScreenAppear\n",
      "Persentase pengguna yang melakukan tindakan OffersScreenAppear dalam grup 247.\n",
      "Persentase pengguna yang melakukan tindakan OffersScreenAppear dalam grup 248.\n",
      "p-value:  0.9197817830592261\n",
      "Gagal menolak hipotesis nol untuk OffersScreenAppear dan grup 247 & 248.\n",
      "\n"
     ]
    },
    {
     "data": {
      "text/markdown": [
       "<span style='color:red'>Hypothesis test #14</span>"
      ],
      "text/plain": [
       "<IPython.core.display.Markdown object>"
      ]
     },
     "metadata": {},
     "output_type": "display_data"
    },
    {
     "name": "stdout",
     "output_type": "stream",
     "text": [
      "Considered action: PaymentScreenSuccessful\n",
      "Persentase pengguna yang melakukan tindakan PaymentScreenSuccessful dalam grup 247.\n",
      "Persentase pengguna yang melakukan tindakan PaymentScreenSuccessful dalam grup 248.\n",
      "p-value:  0.7373415053803964\n",
      "Gagal menolak hipotesis nol untuk PaymentScreenSuccessful dan grup 247 & 248.\n",
      "\n"
     ]
    },
    {
     "data": {
      "text/markdown": [
       "<span style='color:red'>Hypothesis test #15</span>"
      ],
      "text/plain": [
       "<IPython.core.display.Markdown object>"
      ]
     },
     "metadata": {},
     "output_type": "display_data"
    },
    {
     "name": "stdout",
     "output_type": "stream",
     "text": [
      "Considered action: Tutorial\n",
      "Persentase pengguna yang melakukan tindakan Tutorial dalam grup 247.\n",
      "Persentase pengguna yang melakukan tindakan Tutorial dalam grup 248.\n",
      "p-value:  0.765323922474501\n",
      "Gagal menolak hipotesis nol untuk Tutorial dan grup 247 & 248.\n",
      "\n"
     ]
    }
   ],
   "source": [
    "for i in logs_pivot['event_name'].unique():\n",
    "    test_count += 1\n",
    "    printmd('Hypothesis test #{}'.format(test_count), color='red')\n",
    "    check_hypothesis(247,248, i, alpha=0.05)\n",
    "    print()"
   ]
  },
  {
   "cell_type": "markdown",
   "id": "42c2c5f5",
   "metadata": {},
   "source": [
    "**Kesimpulan:**\n",
    "Perbandingan antara kelompok kontrol kedua dan kelompok uji juga tidak menunjukkan perbedaan yang signifikan secara statistik.\n",
    "\n",
    "Sekarang mari kita bandingkan hasilnya dengan hasil gabungan untuk kelompok kontrol. Pertama-tama kita perlu menggabungkan kelompok 246 dan 247. Kita berikan id 245 kepada kelompok kontrol gabungan dan kita perbaiki fungsi pengujian kita."
   ]
  },
  {
   "cell_type": "code",
   "execution_count": 37,
   "id": "c0ac4153",
   "metadata": {
    "scrolled": true
   },
   "outputs": [
    {
     "data": {
      "text/html": [
       "<div>\n",
       "<style scoped>\n",
       "    .dataframe tbody tr th:only-of-type {\n",
       "        vertical-align: middle;\n",
       "    }\n",
       "\n",
       "    .dataframe tbody tr th {\n",
       "        vertical-align: top;\n",
       "    }\n",
       "\n",
       "    .dataframe thead th {\n",
       "        text-align: right;\n",
       "    }\n",
       "</style>\n",
       "<table border=\"1\" class=\"dataframe\">\n",
       "  <thead>\n",
       "    <tr style=\"text-align: right;\">\n",
       "      <th>exp_id</th>\n",
       "      <th>event_name</th>\n",
       "      <th>245</th>\n",
       "      <th>248</th>\n",
       "    </tr>\n",
       "  </thead>\n",
       "  <tbody>\n",
       "    <tr>\n",
       "      <th>0</th>\n",
       "      <td>CartScreenAppear</td>\n",
       "      <td>2504</td>\n",
       "      <td>1230</td>\n",
       "    </tr>\n",
       "    <tr>\n",
       "      <th>1</th>\n",
       "      <td>MainScreenAppear</td>\n",
       "      <td>4926</td>\n",
       "      <td>2493</td>\n",
       "    </tr>\n",
       "    <tr>\n",
       "      <th>2</th>\n",
       "      <td>OffersScreenAppear</td>\n",
       "      <td>3062</td>\n",
       "      <td>1531</td>\n",
       "    </tr>\n",
       "    <tr>\n",
       "      <th>3</th>\n",
       "      <td>PaymentScreenSuccessful</td>\n",
       "      <td>2358</td>\n",
       "      <td>1181</td>\n",
       "    </tr>\n",
       "    <tr>\n",
       "      <th>4</th>\n",
       "      <td>Tutorial</td>\n",
       "      <td>561</td>\n",
       "      <td>279</td>\n",
       "    </tr>\n",
       "  </tbody>\n",
       "</table>\n",
       "</div>"
      ],
      "text/plain": [
       "exp_id               event_name   245   248\n",
       "0              CartScreenAppear  2504  1230\n",
       "1              MainScreenAppear  4926  2493\n",
       "2            OffersScreenAppear  3062  1531\n",
       "3       PaymentScreenSuccessful  2358  1181\n",
       "4                      Tutorial   561   279"
      ]
     },
     "metadata": {},
     "output_type": "display_data"
    }
   ],
   "source": [
    "logs_complete_comb = logs_complete.copy()\n",
    "\n",
    "logs_complete_comb['exp_id'] = logs_complete_comb['exp_id'].apply(lambda x: \n",
    "                                                                245 if (x==246) | (x==247)\n",
    "                                                                else 248)\n",
    "\n",
    "logs_pivot_comb = logs_complete_comb.pivot_table(index='event_name', values='user_id', columns='exp_id', \n",
    "                       aggfunc=lambda x: x.nunique()).reset_index()\n",
    "display(logs_pivot_comb)\n",
    "\n",
    "def check_hypothesis_2(group1, group2, event, alpha=0.05):\n",
    "    print('Considered action:', event)\n",
    "    #let's start with successes, using \n",
    "    successes1 = logs_pivot_comb.loc[logs_pivot['event_name']==event, group1].iloc[0]\n",
    "    successes2 = logs_pivot_comb.loc[logs_pivot['event_name']==event, group2].iloc[0]\n",
    "    \n",
    "    #for trials we can go back to original df or used a pre-aggregated data\n",
    "    trials1 = logs_complete_comb.loc[logs_complete_comb['exp_id']==group1, 'user_id'].nunique()\n",
    "    trials2 = logs_complete_comb.loc[logs_complete_comb['exp_id']==group2, 'user_id'].nunique()\n",
    "    \n",
    "    #proportion for success in the first group\n",
    "    p1 = successes1/trials1\n",
    "    print('Persentase pengguna yang melakukan tindakan {} dalam grup {}.'.format(event, group1))\n",
    "\n",
    "   #proportion for success in the second group\n",
    "    p2 = successes2/trials2\n",
    "    print('Persentase pengguna yang melakukan tindakan {} dalam grup {}.'.format(event, group2))\n",
    "\n",
    "    # proportion in a combined dataset\n",
    "    p_combined = (successes1 + successes2) / (trials1 + trials2)\n",
    "\n",
    "  \n",
    "    difference = p1 - p2\n",
    "    \n",
    "    \n",
    "    z_value = difference / mth.sqrt(p_combined * (1 - p_combined) * (1/trials1 + 1/trials2))\n",
    "\n",
    "  \n",
    "    distr = st.norm(0, 1) \n",
    "\n",
    "\n",
    "    p_value = (1 - distr.cdf(abs(z_value))) * 2\n",
    "\n",
    "    print('p-value: ', p_value)\n",
    "\n",
    "    if (p_value < alpha):\n",
    "        print(\"Tolak hipotesis nol untuk {} dan kelompok {} & {}.\"\n",
    "              .format(event, group1, group2))\n",
    "    else:\n",
    "        print(\"Gagal menolak hipotesis nol untuk {} dan grup {} & {}.\"\n",
    "              .format(event, group1, group2)) "
   ]
  },
  {
   "cell_type": "code",
   "execution_count": 38,
   "id": "735d98a1",
   "metadata": {
    "scrolled": false
   },
   "outputs": [
    {
     "data": {
      "text/markdown": [
       "<span style='color:red'>Hypothesis test #16</span>"
      ],
      "text/plain": [
       "<IPython.core.display.Markdown object>"
      ]
     },
     "metadata": {},
     "output_type": "display_data"
    },
    {
     "name": "stdout",
     "output_type": "stream",
     "text": [
      "Considered action: CartScreenAppear\n",
      "Persentase pengguna yang melakukan tindakan CartScreenAppear dalam grup 245.\n",
      "Persentase pengguna yang melakukan tindakan CartScreenAppear dalam grup 248.\n",
      "p-value:  0.18175875284404386\n",
      "Gagal menolak hipotesis nol untuk CartScreenAppear dan grup 245 & 248.\n",
      "\n"
     ]
    },
    {
     "data": {
      "text/markdown": [
       "<span style='color:red'>Hypothesis test #17</span>"
      ],
      "text/plain": [
       "<IPython.core.display.Markdown object>"
      ]
     },
     "metadata": {},
     "output_type": "display_data"
    },
    {
     "name": "stdout",
     "output_type": "stream",
     "text": [
      "Considered action: MainScreenAppear\n",
      "Persentase pengguna yang melakukan tindakan MainScreenAppear dalam grup 245.\n",
      "Persentase pengguna yang melakukan tindakan MainScreenAppear dalam grup 248.\n",
      "p-value:  0.29424526837179577\n",
      "Gagal menolak hipotesis nol untuk MainScreenAppear dan grup 245 & 248.\n",
      "\n"
     ]
    },
    {
     "data": {
      "text/markdown": [
       "<span style='color:red'>Hypothesis test #18</span>"
      ],
      "text/plain": [
       "<IPython.core.display.Markdown object>"
      ]
     },
     "metadata": {},
     "output_type": "display_data"
    },
    {
     "name": "stdout",
     "output_type": "stream",
     "text": [
      "Considered action: OffersScreenAppear\n",
      "Persentase pengguna yang melakukan tindakan OffersScreenAppear dalam grup 245.\n",
      "Persentase pengguna yang melakukan tindakan OffersScreenAppear dalam grup 248.\n",
      "p-value:  0.43425549655188256\n",
      "Gagal menolak hipotesis nol untuk OffersScreenAppear dan grup 245 & 248.\n",
      "\n"
     ]
    },
    {
     "data": {
      "text/markdown": [
       "<span style='color:red'>Hypothesis test #19</span>"
      ],
      "text/plain": [
       "<IPython.core.display.Markdown object>"
      ]
     },
     "metadata": {},
     "output_type": "display_data"
    },
    {
     "name": "stdout",
     "output_type": "stream",
     "text": [
      "Considered action: PaymentScreenSuccessful\n",
      "Persentase pengguna yang melakukan tindakan PaymentScreenSuccessful dalam grup 245.\n",
      "Persentase pengguna yang melakukan tindakan PaymentScreenSuccessful dalam grup 248.\n",
      "p-value:  0.6004294282308704\n",
      "Gagal menolak hipotesis nol untuk PaymentScreenSuccessful dan grup 245 & 248.\n",
      "\n"
     ]
    },
    {
     "data": {
      "text/markdown": [
       "<span style='color:red'>Hypothesis test #20</span>"
      ],
      "text/plain": [
       "<IPython.core.display.Markdown object>"
      ]
     },
     "metadata": {},
     "output_type": "display_data"
    },
    {
     "name": "stdout",
     "output_type": "stream",
     "text": [
      "Considered action: Tutorial\n",
      "Persentase pengguna yang melakukan tindakan Tutorial dalam grup 245.\n",
      "Persentase pengguna yang melakukan tindakan Tutorial dalam grup 248.\n",
      "p-value:  0.764862472531507\n",
      "Gagal menolak hipotesis nol untuk Tutorial dan grup 245 & 248.\n",
      "\n"
     ]
    }
   ],
   "source": [
    "for i in logs_pivot_comb['event_name'].unique():\n",
    "    test_count += 1\n",
    "    printmd('Hypothesis test #{}'.format(test_count), color='red')\n",
    "    check_hypothesis_2(245, 248, i, alpha=0.05)\n",
    "    print()"
   ]
  },
  {
   "cell_type": "markdown",
   "id": "d8211896",
   "metadata": {},
   "source": [
    "**Kesimpulan:**\n",
    "\n",
    "* Perbandingan antara kelompok kontrol gabungan dan kelompok uji juga tidak menunjukkan perbedaan yang signifikan secara statistik. \n",
    "* Dengan demikian, kami menyimpulkan bahwa font yang diubah tidak berdampak negatif pada pengguna atau meningkatkan pengalaman mereka."
   ]
  },
  {
   "cell_type": "markdown",
   "id": "62980682",
   "metadata": {},
   "source": [
    "### 3.3. Bonferroni correction"
   ]
  },
  {
   "cell_type": "markdown",
   "id": "a5dc887e",
   "metadata": {},
   "source": [
    "Mari kita bahas tingkat signifikansi yang kami tetapkan untuk menguji hipotesis statistik. Untuk setiap perbandingan berpasangan yang kami buat, kami menetapkan tingkat signifikansi sebesar 0.05 (5%). Dalam satu perbandingan berpasangan, probabilitas bahwa pengujian akan menghasilkan hasil positif palsu sama dengan tingkat signifikansi. Secara keseluruhan, kami menguji 20 hipotesis, sehingga kami telah melakukan 4 perbandingan berpasangan untuk setiap peristiwa. Dalam kasus ini, tingkat kesalahan family-wise error rate (FWER), yaitu probabilitas setidaknya satu hasil positif palsu adalah 18,55%. Untuk meminimalkan FWER, salah satu koreksi yang paling umum dan paling mendekati tingkat signifikansi yang diperlukan dilakukan melalui prosedur Bonferroni. Tingkat signifikansi pada masing-masing m perbandingan dipilih m kali lebih kecil dari tingkat signifikansi yang diperlukan untuk satu perbandingan. Jadi, dengan menerapkan koreksi Bonferroni, kami membagi tingkat signifikansi 5% dengan jumlah perbandingan 4. Ini memberi kita alpha baru sebesar 1,25%. Mari kita ulangi langkah-langkah sebelumnya untuk melihat apakah kesimpulan kita berubah."
   ]
  },
  {
   "cell_type": "code",
   "execution_count": 39,
   "id": "319b4280",
   "metadata": {},
   "outputs": [
    {
     "data": {
      "text/markdown": [
       "<span style='color:red'>Hypothesis test #1</span>"
      ],
      "text/plain": [
       "<IPython.core.display.Markdown object>"
      ]
     },
     "metadata": {},
     "output_type": "display_data"
    },
    {
     "name": "stdout",
     "output_type": "stream",
     "text": [
      "Considered action: CartScreenAppear\n",
      "Persentase pengguna yang melakukan tindakan CartScreenAppear dalam grup 246.\n",
      "Persentase pengguna yang melakukan tindakan CartScreenAppear dalam grup 247.\n",
      "p-value:  0.22883372237997213\n",
      "Gagal menolak hipotesis nol untuk CartScreenAppear dan grup 246 & 247.\n",
      "\n"
     ]
    },
    {
     "data": {
      "text/markdown": [
       "<span style='color:red'>Hypothesis test #2</span>"
      ],
      "text/plain": [
       "<IPython.core.display.Markdown object>"
      ]
     },
     "metadata": {},
     "output_type": "display_data"
    },
    {
     "name": "stdout",
     "output_type": "stream",
     "text": [
      "Considered action: MainScreenAppear\n",
      "Persentase pengguna yang melakukan tindakan MainScreenAppear dalam grup 246.\n",
      "Persentase pengguna yang melakukan tindakan MainScreenAppear dalam grup 247.\n",
      "p-value:  0.7570597232046099\n",
      "Gagal menolak hipotesis nol untuk MainScreenAppear dan grup 246 & 247.\n",
      "\n"
     ]
    },
    {
     "data": {
      "text/markdown": [
       "<span style='color:red'>Hypothesis test #3</span>"
      ],
      "text/plain": [
       "<IPython.core.display.Markdown object>"
      ]
     },
     "metadata": {},
     "output_type": "display_data"
    },
    {
     "name": "stdout",
     "output_type": "stream",
     "text": [
      "Considered action: OffersScreenAppear\n",
      "Persentase pengguna yang melakukan tindakan OffersScreenAppear dalam grup 246.\n",
      "Persentase pengguna yang melakukan tindakan OffersScreenAppear dalam grup 247.\n",
      "p-value:  0.2480954578522181\n",
      "Gagal menolak hipotesis nol untuk OffersScreenAppear dan grup 246 & 247.\n",
      "\n"
     ]
    },
    {
     "data": {
      "text/markdown": [
       "<span style='color:red'>Hypothesis test #4</span>"
      ],
      "text/plain": [
       "<IPython.core.display.Markdown object>"
      ]
     },
     "metadata": {},
     "output_type": "display_data"
    },
    {
     "name": "stdout",
     "output_type": "stream",
     "text": [
      "Considered action: PaymentScreenSuccessful\n",
      "Persentase pengguna yang melakukan tindakan PaymentScreenSuccessful dalam grup 246.\n",
      "Persentase pengguna yang melakukan tindakan PaymentScreenSuccessful dalam grup 247.\n",
      "p-value:  0.11456679313141849\n",
      "Gagal menolak hipotesis nol untuk PaymentScreenSuccessful dan grup 246 & 247.\n",
      "\n"
     ]
    },
    {
     "data": {
      "text/markdown": [
       "<span style='color:red'>Hypothesis test #5</span>"
      ],
      "text/plain": [
       "<IPython.core.display.Markdown object>"
      ]
     },
     "metadata": {},
     "output_type": "display_data"
    },
    {
     "name": "stdout",
     "output_type": "stream",
     "text": [
      "Considered action: Tutorial\n",
      "Persentase pengguna yang melakukan tindakan Tutorial dalam grup 246.\n",
      "Persentase pengguna yang melakukan tindakan Tutorial dalam grup 247.\n",
      "p-value:  0.9376996189257114\n",
      "Gagal menolak hipotesis nol untuk Tutorial dan grup 246 & 247.\n",
      "\n"
     ]
    },
    {
     "data": {
      "text/markdown": [
       "<span style='color:red'>Hypothesis test #6</span>"
      ],
      "text/plain": [
       "<IPython.core.display.Markdown object>"
      ]
     },
     "metadata": {},
     "output_type": "display_data"
    },
    {
     "name": "stdout",
     "output_type": "stream",
     "text": [
      "Considered action: CartScreenAppear\n",
      "Persentase pengguna yang melakukan tindakan CartScreenAppear dalam grup 246.\n",
      "Persentase pengguna yang melakukan tindakan CartScreenAppear dalam grup 248.\n",
      "p-value:  0.07842923237520116\n",
      "Gagal menolak hipotesis nol untuk CartScreenAppear dan grup 246 & 248.\n",
      "\n"
     ]
    },
    {
     "data": {
      "text/markdown": [
       "<span style='color:red'>Hypothesis test #7</span>"
      ],
      "text/plain": [
       "<IPython.core.display.Markdown object>"
      ]
     },
     "metadata": {},
     "output_type": "display_data"
    },
    {
     "name": "stdout",
     "output_type": "stream",
     "text": [
      "Considered action: MainScreenAppear\n",
      "Persentase pengguna yang melakukan tindakan MainScreenAppear dalam grup 246.\n",
      "Persentase pengguna yang melakukan tindakan MainScreenAppear dalam grup 248.\n",
      "p-value:  0.2949721933554552\n",
      "Gagal menolak hipotesis nol untuk MainScreenAppear dan grup 246 & 248.\n",
      "\n"
     ]
    },
    {
     "data": {
      "text/markdown": [
       "<span style='color:red'>Hypothesis test #8</span>"
      ],
      "text/plain": [
       "<IPython.core.display.Markdown object>"
      ]
     },
     "metadata": {},
     "output_type": "display_data"
    },
    {
     "name": "stdout",
     "output_type": "stream",
     "text": [
      "Considered action: OffersScreenAppear\n",
      "Persentase pengguna yang melakukan tindakan OffersScreenAppear dalam grup 246.\n",
      "Persentase pengguna yang melakukan tindakan OffersScreenAppear dalam grup 248.\n",
      "p-value:  0.20836205402738917\n",
      "Gagal menolak hipotesis nol untuk OffersScreenAppear dan grup 246 & 248.\n",
      "\n"
     ]
    },
    {
     "data": {
      "text/markdown": [
       "<span style='color:red'>Hypothesis test #9</span>"
      ],
      "text/plain": [
       "<IPython.core.display.Markdown object>"
      ]
     },
     "metadata": {},
     "output_type": "display_data"
    },
    {
     "name": "stdout",
     "output_type": "stream",
     "text": [
      "Considered action: PaymentScreenSuccessful\n",
      "Persentase pengguna yang melakukan tindakan PaymentScreenSuccessful dalam grup 246.\n",
      "Persentase pengguna yang melakukan tindakan PaymentScreenSuccessful dalam grup 248.\n",
      "p-value:  0.2122553275697796\n",
      "Gagal menolak hipotesis nol untuk PaymentScreenSuccessful dan grup 246 & 248.\n",
      "\n"
     ]
    },
    {
     "data": {
      "text/markdown": [
       "<span style='color:red'>Hypothesis test #10</span>"
      ],
      "text/plain": [
       "<IPython.core.display.Markdown object>"
      ]
     },
     "metadata": {},
     "output_type": "display_data"
    },
    {
     "name": "stdout",
     "output_type": "stream",
     "text": [
      "Considered action: Tutorial\n",
      "Persentase pengguna yang melakukan tindakan Tutorial dalam grup 246.\n",
      "Persentase pengguna yang melakukan tindakan Tutorial dalam grup 248.\n",
      "p-value:  0.8264294010087645\n",
      "Gagal menolak hipotesis nol untuk Tutorial dan grup 246 & 248.\n",
      "\n"
     ]
    },
    {
     "data": {
      "text/markdown": [
       "<span style='color:red'>Hypothesis test #11</span>"
      ],
      "text/plain": [
       "<IPython.core.display.Markdown object>"
      ]
     },
     "metadata": {},
     "output_type": "display_data"
    },
    {
     "name": "stdout",
     "output_type": "stream",
     "text": [
      "Considered action: CartScreenAppear\n",
      "Persentase pengguna yang melakukan tindakan CartScreenAppear dalam grup 247.\n",
      "Persentase pengguna yang melakukan tindakan CartScreenAppear dalam grup 248.\n",
      "p-value:  0.5786197879539783\n",
      "Gagal menolak hipotesis nol untuk CartScreenAppear dan grup 247 & 248.\n",
      "\n"
     ]
    },
    {
     "data": {
      "text/markdown": [
       "<span style='color:red'>Hypothesis test #12</span>"
      ],
      "text/plain": [
       "<IPython.core.display.Markdown object>"
      ]
     },
     "metadata": {},
     "output_type": "display_data"
    },
    {
     "name": "stdout",
     "output_type": "stream",
     "text": [
      "Considered action: MainScreenAppear\n",
      "Persentase pengguna yang melakukan tindakan MainScreenAppear dalam grup 247.\n",
      "Persentase pengguna yang melakukan tindakan MainScreenAppear dalam grup 248.\n",
      "p-value:  0.4587053616621515\n",
      "Gagal menolak hipotesis nol untuk MainScreenAppear dan grup 247 & 248.\n",
      "\n"
     ]
    },
    {
     "data": {
      "text/markdown": [
       "<span style='color:red'>Hypothesis test #13</span>"
      ],
      "text/plain": [
       "<IPython.core.display.Markdown object>"
      ]
     },
     "metadata": {},
     "output_type": "display_data"
    },
    {
     "name": "stdout",
     "output_type": "stream",
     "text": [
      "Considered action: OffersScreenAppear\n",
      "Persentase pengguna yang melakukan tindakan OffersScreenAppear dalam grup 247.\n",
      "Persentase pengguna yang melakukan tindakan OffersScreenAppear dalam grup 248.\n",
      "p-value:  0.9197817830592261\n",
      "Gagal menolak hipotesis nol untuk OffersScreenAppear dan grup 247 & 248.\n",
      "\n"
     ]
    },
    {
     "data": {
      "text/markdown": [
       "<span style='color:red'>Hypothesis test #14</span>"
      ],
      "text/plain": [
       "<IPython.core.display.Markdown object>"
      ]
     },
     "metadata": {},
     "output_type": "display_data"
    },
    {
     "name": "stdout",
     "output_type": "stream",
     "text": [
      "Considered action: PaymentScreenSuccessful\n",
      "Persentase pengguna yang melakukan tindakan PaymentScreenSuccessful dalam grup 247.\n",
      "Persentase pengguna yang melakukan tindakan PaymentScreenSuccessful dalam grup 248.\n",
      "p-value:  0.7373415053803964\n",
      "Gagal menolak hipotesis nol untuk PaymentScreenSuccessful dan grup 247 & 248.\n",
      "\n"
     ]
    },
    {
     "data": {
      "text/markdown": [
       "<span style='color:red'>Hypothesis test #15</span>"
      ],
      "text/plain": [
       "<IPython.core.display.Markdown object>"
      ]
     },
     "metadata": {},
     "output_type": "display_data"
    },
    {
     "name": "stdout",
     "output_type": "stream",
     "text": [
      "Considered action: Tutorial\n",
      "Persentase pengguna yang melakukan tindakan Tutorial dalam grup 247.\n",
      "Persentase pengguna yang melakukan tindakan Tutorial dalam grup 248.\n",
      "p-value:  0.765323922474501\n",
      "Gagal menolak hipotesis nol untuk Tutorial dan grup 247 & 248.\n",
      "\n"
     ]
    },
    {
     "data": {
      "text/markdown": [
       "<span style='color:red'>Hypothesis test #16</span>"
      ],
      "text/plain": [
       "<IPython.core.display.Markdown object>"
      ]
     },
     "metadata": {},
     "output_type": "display_data"
    },
    {
     "name": "stdout",
     "output_type": "stream",
     "text": [
      "Considered action: CartScreenAppear\n",
      "Persentase pengguna yang melakukan tindakan CartScreenAppear dalam grup 245.\n",
      "Persentase pengguna yang melakukan tindakan CartScreenAppear dalam grup 248.\n",
      "p-value:  0.18175875284404386\n",
      "Gagal menolak hipotesis nol untuk CartScreenAppear dan grup 245 & 248.\n",
      "\n"
     ]
    },
    {
     "data": {
      "text/markdown": [
       "<span style='color:red'>Hypothesis test #17</span>"
      ],
      "text/plain": [
       "<IPython.core.display.Markdown object>"
      ]
     },
     "metadata": {},
     "output_type": "display_data"
    },
    {
     "name": "stdout",
     "output_type": "stream",
     "text": [
      "Considered action: MainScreenAppear\n",
      "Persentase pengguna yang melakukan tindakan MainScreenAppear dalam grup 245.\n",
      "Persentase pengguna yang melakukan tindakan MainScreenAppear dalam grup 248.\n",
      "p-value:  0.29424526837179577\n",
      "Gagal menolak hipotesis nol untuk MainScreenAppear dan grup 245 & 248.\n",
      "\n"
     ]
    },
    {
     "data": {
      "text/markdown": [
       "<span style='color:red'>Hypothesis test #18</span>"
      ],
      "text/plain": [
       "<IPython.core.display.Markdown object>"
      ]
     },
     "metadata": {},
     "output_type": "display_data"
    },
    {
     "name": "stdout",
     "output_type": "stream",
     "text": [
      "Considered action: OffersScreenAppear\n",
      "Persentase pengguna yang melakukan tindakan OffersScreenAppear dalam grup 245.\n",
      "Persentase pengguna yang melakukan tindakan OffersScreenAppear dalam grup 248.\n",
      "p-value:  0.43425549655188256\n",
      "Gagal menolak hipotesis nol untuk OffersScreenAppear dan grup 245 & 248.\n",
      "\n"
     ]
    },
    {
     "data": {
      "text/markdown": [
       "<span style='color:red'>Hypothesis test #19</span>"
      ],
      "text/plain": [
       "<IPython.core.display.Markdown object>"
      ]
     },
     "metadata": {},
     "output_type": "display_data"
    },
    {
     "name": "stdout",
     "output_type": "stream",
     "text": [
      "Considered action: PaymentScreenSuccessful\n",
      "Persentase pengguna yang melakukan tindakan PaymentScreenSuccessful dalam grup 245.\n",
      "Persentase pengguna yang melakukan tindakan PaymentScreenSuccessful dalam grup 248.\n",
      "p-value:  0.6004294282308704\n",
      "Gagal menolak hipotesis nol untuk PaymentScreenSuccessful dan grup 245 & 248.\n",
      "\n"
     ]
    },
    {
     "data": {
      "text/markdown": [
       "<span style='color:red'>Hypothesis test #20</span>"
      ],
      "text/plain": [
       "<IPython.core.display.Markdown object>"
      ]
     },
     "metadata": {},
     "output_type": "display_data"
    },
    {
     "name": "stdout",
     "output_type": "stream",
     "text": [
      "Considered action: Tutorial\n",
      "Persentase pengguna yang melakukan tindakan Tutorial dalam grup 245.\n",
      "Persentase pengguna yang melakukan tindakan Tutorial dalam grup 248.\n",
      "p-value:  0.764862472531507\n",
      "Gagal menolak hipotesis nol untuk Tutorial dan grup 245 & 248.\n",
      "\n"
     ]
    }
   ],
   "source": [
    "test_count = 0\n",
    "\n",
    "for i in logs_pivot['event_name'].unique():\n",
    "    test_count += 1\n",
    "    printmd('Hypothesis test #{}'.format(test_count), color='red')\n",
    "    check_hypothesis(246, 247, i, alpha=0.0125)\n",
    "    print()\n",
    "\n",
    "for i in logs_pivot['event_name'].unique():\n",
    "    test_count += 1\n",
    "    printmd('Hypothesis test #{}'.format(test_count), color='red')\n",
    "    check_hypothesis(246, 248, i, alpha=0.0125)\n",
    "    print()\n",
    "    \n",
    "for i in logs_pivot['event_name'].unique():\n",
    "    test_count += 1\n",
    "    printmd('Hypothesis test #{}'.format(test_count), color='red')\n",
    "    check_hypothesis(247, 248, i, alpha=0.0125)\n",
    "    print()\n",
    "    \n",
    "for i in logs_pivot_comb['event_name'].unique():\n",
    "    test_count += 1\n",
    "    printmd('Hypothesis test #{}'.format(test_count), color='red')\n",
    "    check_hypothesis_2(245, 248, i, alpha=0.0125)\n",
    "    print()"
   ]
  },
  {
   "cell_type": "markdown",
   "id": "1203265d",
   "metadata": {},
   "source": [
    "**Kesimpulan:**\n",
    "\n",
    "* Pada langkah ini, kami menganalisis hasil uji A/A/B. Kami menjalankan beberapa perbandingan berpasangan antara berbagai kelompok uji untuk memeriksa apakah hasilnya berbeda secara signifikan secara statistik. Kami menjalankan semua uji hipotesis, yang didasarkan pada Z-skor, baik tanpa maupun dengan koreksi Bonferroni.\n",
    "* Data eksperimen kami terdiri dari 5 jenis kejadian yang dicatat untuk 2 kelompok kontrol dan satu kelompok uji. Untuk setiap jenis kejadian, kami melakukan 4 perbandingan berpasangan: 3 di antara 3 kelompok dan 1 di antara gabungan kelompok kontrol dan kelompok uji. Dengan demikian, kami memiliki total 20 uji statistik."
   ]
  },
  {
   "cell_type": "markdown",
   "id": "2120815f",
   "metadata": {},
   "source": [
    "## Kesimpulan Umum"
   ]
  },
  {
   "cell_type": "markdown",
   "id": "50e6b730",
   "metadata": {},
   "source": [
    "#### A. Pra-pemrosesan\n",
    "\n",
    "Dari eksplorasi pra-pemrosesan data, dapat disimpulkan bahwa:\n",
    "1. Data menyangkut data log food online store app. Data tidak terdapat nilai yang hilang.\n",
    "2. Duplikat data ditemukan sebanyak 413 data, dan dihapus. Apabila ada kesalahanpun tidak akan mempengaruhi keseluruhan data.\n",
    "3. Untuk mempermudah analisis data, dilakukan cleaning serta optimasi data.\n",
    "\n",
    "\n",
    "#### B. Analisis Data Esksploratif (EDA)\n",
    "\n",
    "Dari hasil analisis data esksploratif, dapat disimpulkan bahwa:\n",
    "\n",
    "1. Data log yang diperoleh diketahui bahwa, terdapat 243713 events di dalam logs, 7551 pengguna yang tercatat di dalam logs, serta rata-rata 32 peristiwa per pengguna yang tercatat di dalam logs.\n",
    "2. Peristiwa waktu yang dicakup oleh data adalah 14 hari.\n",
    "3. Minggu pertama di buang karena termasuk outlier dan tidak akan mempengaruhi data. \n",
    "4. Setiap kelompok memiliki sekitar 2500 pengguna dan semua kelompok secara rata sehingga pengujian A/B  dapat akurat.\n",
    "5. Corong bisnis log data secara berurutan adalah MainScreenAppear -> OffersScreenAppear -> CartScreenAppear -> PaymentScreenSuccessful.\n",
    "\n",
    "#### C. Analisis Data Statistik (Hyphothesis Testing & A/A/B Testing)\n",
    "\n",
    "Dari hasil analisis data statistik, dapat disimpulkan bahwa:\n",
    "\n",
    "1. Hasil uji A/A/B tidak menunjukkan perbedaan yang signifikan secara statistik antara tindakan yang dilakukan oleh pengguna yang melihat font lama dan yang melihat font baru baik tanpa maupun dengan koreksi Bonferroni.\n",
    "2. Data eksperimen kami terdiri dari 5 jenis kejadian yang dicatat untuk 2 kelompok kontrol dan satu kelompok uji. Untuk setiap jenis kejadian, kami melakukan 4 perbandingan berpasangan: 3 di antara 3 kelompok dan 1 di antara gabungan kelompok kontrol dan kelompok uji. Dengan demikian, kami memiliki total 20 uji statistik.\n",
    "\n",
    "#### Rekomendasi\n",
    "\n",
    "Kepada manajer dan departemen desain:\n",
    "* Hasil uji A/A/B tidak menunjukkan perbedaan yang signifikan secara statistik antara tindakan yang dilakukan oleh pengguna yang melihat font lama dan yang melihat font baru. Jika perubahan font diusulkan untuk meningkatkan tingkat konversi pengguna di berbagai tahap corong acara (yang mengarah ke pembelian produk), maka font baru tidak dibenarkan. Namun, jika perubahan font dibenarkan karena alasan lain, maka desainer/pengembang dapat melanjutkan implementasi font baru. Percobaan menunjukkan bahwa pengguna juga tidak terintimidasi oleh desain baru. \n",
    "\n",
    "* Analisis kami juga menunjukkan bahwa layanan ini kehilangan sekitar setengah dari pengguna setelah mereka mengunjungi halaman utama. Jadi, kami merekomendasikan para desainer untuk fokus pada peningkatan Halaman Utama Aplikasi.\n",
    "\n"
   ]
  }
 ],
 "metadata": {
  "kernelspec": {
   "display_name": "Python 3 (ipykernel)",
   "language": "python",
   "name": "python3"
  },
  "language_info": {
   "codemirror_mode": {
    "name": "ipython",
    "version": 3
   },
   "file_extension": ".py",
   "mimetype": "text/x-python",
   "name": "python",
   "nbconvert_exporter": "python",
   "pygments_lexer": "ipython3",
   "version": "3.9.13"
  }
 },
 "nbformat": 4,
 "nbformat_minor": 5
}
