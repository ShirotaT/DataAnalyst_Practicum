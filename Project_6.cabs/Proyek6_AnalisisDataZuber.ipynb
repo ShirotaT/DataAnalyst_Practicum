{
 "cells": [
  {
   "attachments": {},
   "cell_type": "markdown",
   "metadata": {},
   "source": [
    "# Analisis Data Zuber\n",
    "\n",
    "Anda bekerja sebagai seorang analis untuk Zuber, sebuah perusahaan berbagi tumpangan (ride-sharing) baru yang diluncurkan di Chicago. Tugas Anda adalah untuk menemukan pola pada informasi yang tersedia. Anda ingin memahami preferensi penumpang dan dampak faktor eksternal terhadap perjalanan. Dengan menggunakan basis data, Anda akan menganalisis data dari kompetitor dan menguji hipotesis terkait pengaruh cuaca terhadap frekuensi perjalanan."
   ]
  },
  {
   "attachments": {},
   "cell_type": "markdown",
   "metadata": {},
   "source": [
    "## Tujuan\n",
    "\n",
    "Proyek ini berfokus pada analisis data perusahan taksi. Data sebelumnya telah dilakukan pre-processing untuk membersihkan dan merapihkan data agar dapat diolah. Data yang diperoleh diolah dengan SQL. Untuk analisis ini, selanjutnya dilakukan Exploratory Data Analysis (EDA) dan Data Visualization untuk mengetahui insight dari data. Dan terakhir dilakukan analisis data statistik untuk Hypothesis Testing."
   ]
  },
  {
   "attachments": {},
   "cell_type": "markdown",
   "metadata": {},
   "source": [
    "### Hipotesis\n",
    "\n",
    "1. Durasi rata-rata perjalanan dari Loop ke Bandara Internasional O'Hare berubah pada hari-hari Sabtu yang hujan."
   ]
  },
  {
   "attachments": {},
   "cell_type": "markdown",
   "metadata": {},
   "source": [
    "### Tahapan\n",
    "\n",
    "Data tentang hasil SQL disimpan dalam file:\n",
    "* `/datasets/project_sql_result_01.csv`\n",
    "* `/datasets/project_sql_result_04.csv`\n",
    "* `/datasets/project_sql_result_07.csv`\n",
    "\n",
    "Proyek ini terdiri dari dua tahap:\n",
    "\n",
    "1. Analisis Data Exploratif (EDA)\n",
    "2. Analisis Data Statistik (Hyphothesis Testing)\n"
   ]
  },
  {
   "attachments": {},
   "cell_type": "markdown",
   "metadata": {},
   "source": [
    "## 1. Analisis Data Exploratif (EDA)"
   ]
  },
  {
   "cell_type": "markdown",
   "metadata": {},
   "source": [
    "**Import *library* yang dibutuhkan:**"
   ]
  },
  {
   "cell_type": "code",
   "execution_count": null,
   "metadata": {},
   "outputs": [],
   "source": [
    "# Import library\n",
    "import pandas as pd\n",
    "import matplotlib.pyplot as plt\n",
    "import seaborn as sns\n",
    "from scipy import stats as st"
   ]
  },
  {
   "cell_type": "markdown",
   "metadata": {},
   "source": [
    "### 1.1. Memuat Data"
   ]
  },
  {
   "cell_type": "code",
   "execution_count": null,
   "metadata": {},
   "outputs": [],
   "source": [
    "# Try and except datasets\n",
    "try:\n",
    "    company_data = pd.read_csv('moved_project_sql_result_01.csv')\n",
    "    dropoff_data = pd.read_csv('moved_project_sql_result_04.csv')\n",
    "    travel_data = pd.read_csv('moved_project_sql_result_07.csv')\n",
    "except:\n",
    "    company_data = pd.read_csv('/datasets/project_sql_result_01.csv')\n",
    "    dropoff_data = pd.read_csv('/datasets/project_sql_result_01.csv')\n",
    "    travel_data = pd.read_csv('/datasets/project_sql_result_01.csv')"
   ]
  },
  {
   "cell_type": "markdown",
   "metadata": {},
   "source": [
    "### 1.2. Mengeksplorasi Data Awal"
   ]
  },
  {
   "attachments": {},
   "cell_type": "markdown",
   "metadata": {},
   "source": [
    "#### **Data Perusahaan**"
   ]
  },
  {
   "cell_type": "code",
   "execution_count": null,
   "metadata": {},
   "outputs": [],
   "source": [
    "company_data"
   ]
  },
  {
   "attachments": {},
   "cell_type": "markdown",
   "metadata": {},
   "source": [
    "**Deskripsi company_data**: \n",
    "\n",
    "\n",
    "- `company_name` — nama perusahaan taksi\n",
    "- `trips_amount` —  jumlah perjalanan untuk setiap perusahaan taksi pada tanggal 15-16 November 2017"
   ]
  },
  {
   "cell_type": "code",
   "execution_count": null,
   "metadata": {},
   "outputs": [],
   "source": [
    "# Check data info\n",
    "company_data.info()"
   ]
  },
  {
   "cell_type": "code",
   "execution_count": null,
   "metadata": {},
   "outputs": [],
   "source": [
    "# Check statistics data\n",
    "company_data.describe()"
   ]
  },
  {
   "attachments": {},
   "cell_type": "markdown",
   "metadata": {},
   "source": [
    "#### **Data Dropoff Location**"
   ]
  },
  {
   "cell_type": "code",
   "execution_count": null,
   "metadata": {},
   "outputs": [],
   "source": [
    "dropoff_data"
   ]
  },
  {
   "attachments": {},
   "cell_type": "markdown",
   "metadata": {},
   "source": [
    "**Deskripsi dropoff_data**: \n",
    "\n",
    "\n",
    "- `dropoff_location_name` — nama wilayah di Chicago tempat perjalanan berakhir\n",
    "- `average_trips` —  jumlah rata-rata perjalanan yang berakhir di setiap wilayah pada bulan November 2017"
   ]
  },
  {
   "cell_type": "code",
   "execution_count": null,
   "metadata": {},
   "outputs": [],
   "source": [
    "# Check data info\n",
    "dropoff_data.info()"
   ]
  },
  {
   "cell_type": "code",
   "execution_count": null,
   "metadata": {},
   "outputs": [],
   "source": [
    "# Check statistics data\n",
    "dropoff_data.describe()"
   ]
  },
  {
   "cell_type": "code",
   "execution_count": null,
   "metadata": {},
   "outputs": [],
   "source": [
    "# Check duplicated data\n",
    "dropoff_data.duplicated().sum()"
   ]
  },
  {
   "attachments": {},
   "cell_type": "markdown",
   "metadata": {},
   "source": [
    "### 1.3. Mempelajari Parameter Inti "
   ]
  },
  {
   "attachments": {},
   "cell_type": "markdown",
   "metadata": {},
   "source": [
    "#### Identifikasi 10 wilayah teratas"
   ]
  },
  {
   "cell_type": "code",
   "execution_count": null,
   "metadata": {},
   "outputs": [],
   "source": [
    "top_ten = dropoff_data.sort_values(by='average_trips', ascending=False).head(10)\n",
    "top_ten"
   ]
  },
  {
   "cell_type": "code",
   "execution_count": null,
   "metadata": {},
   "outputs": [],
   "source": [
    "# Create a bar plot\n",
    "plt.figure(figsize=(8,6))\n",
    "plt.xticks(rotation=45)\n",
    "sns.barplot(x=\"dropoff_location_name\", y=\"average_trips\", data=top_ten, color='#BCD8C1')\n",
    "plt.title('Top Ten Dropoff Location')\n",
    "plt.show()"
   ]
  },
  {
   "attachments": {},
   "cell_type": "markdown",
   "metadata": {},
   "source": [
    "**Kesimpulan sementara:**\n",
    "\n",
    "* Sepuluh dropoff location yang memiliki rata-rata perjalanan tertinggi yaitu di lokasi Loop, River North, Streeterville, West Loop, O'Hare, Lake View, Grant Park, Museum Campus, Gold Coast, dan Sheffield & DePaul."
   ]
  },
  {
   "attachments": {},
   "cell_type": "markdown",
   "metadata": {},
   "source": [
    "#### Grafik Perusahaan Taksi"
   ]
  },
  {
   "cell_type": "code",
   "execution_count": null,
   "metadata": {},
   "outputs": [],
   "source": [
    "company_data.head(20)"
   ]
  },
  {
   "attachments": {},
   "cell_type": "markdown",
   "metadata": {},
   "source": [
    "* Untuk mempermudah analisa, perusahaan tertinggi yang akan diambil yaitu perusahaan dengan perjalanan yang diatas 5000."
   ]
  },
  {
   "cell_type": "code",
   "execution_count": null,
   "metadata": {},
   "outputs": [],
   "source": [
    "top_company = company_data.sort_values(by='trips_amount', ascending=False).head(11)"
   ]
  },
  {
   "cell_type": "code",
   "execution_count": null,
   "metadata": {},
   "outputs": [],
   "source": [
    "# Create a bar plot\n",
    "plt.figure(figsize=(8,6))\n",
    "sns.barplot(x=\"trips_amount\", y=\"company_name\", data=top_company, color='#BCD8C1')\n",
    "plt.title('Top Cabs Company')\n",
    "plt.show()"
   ]
  },
  {
   "attachments": {},
   "cell_type": "markdown",
   "metadata": {},
   "source": [
    "**Kesimpulan:**\n",
    "\n",
    "* Perusahaan tertinggi yaitu Flash Cab dengan jumlah perjalanan 19558 perjalanan. Kemudian Taxi Affiliation Services dengan 11422 perjalanan. Kemudian Medallion Leasin dengan 10367 perjalanan dan Yellow Cab dengan 9888 perjalanan."
   ]
  },
  {
   "attachments": {},
   "cell_type": "markdown",
   "metadata": {},
   "source": [
    "## 2. Analisis Data Statistik (Hypothesis Testing)"
   ]
  },
  {
   "attachments": {},
   "cell_type": "markdown",
   "metadata": {},
   "source": [
    "### 2.1. Mengeksplorasi Data Perjalanan dari Loop ke Bandara Internasional O'Hare"
   ]
  },
  {
   "attachments": {},
   "cell_type": "markdown",
   "metadata": {},
   "source": [
    "**Hipotesis:**\n",
    "\n",
    "**Durasi rata-rata perjalanan dari Loop ke Bandara Internasional O'Hare berubah pada hari-hari Sabtu yang hujan.**"
   ]
  },
  {
   "attachments": {},
   "cell_type": "markdown",
   "metadata": {},
   "source": [
    "Sebelum menguji perlu ditemukan data-data yang mendukung hipotesis tersebut."
   ]
  },
  {
   "cell_type": "code",
   "execution_count": null,
   "metadata": {},
   "outputs": [],
   "source": [
    "travel_data"
   ]
  },
  {
   "attachments": {},
   "cell_type": "markdown",
   "metadata": {},
   "source": [
    "**Deskripsi travel_data**: \n",
    "\n",
    "- `start_ts` — tanggal dan waktu penjemputan\n",
    "- `weather_conditions` —  kondisi cuaca saat perjalanan dimulai\n",
    "- `duration_seconds` —  durasi perjalanan dalam satuan detik"
   ]
  },
  {
   "cell_type": "code",
   "execution_count": null,
   "metadata": {},
   "outputs": [],
   "source": [
    "travel_data.info()"
   ]
  },
  {
   "attachments": {},
   "cell_type": "markdown",
   "metadata": {},
   "source": [
    "data pada kolom start_ts diubah menjadi datetime dan menambahkan beberapa kolom baru"
   ]
  },
  {
   "cell_type": "code",
   "execution_count": null,
   "metadata": {},
   "outputs": [],
   "source": [
    "# Cast 'start_ts' column to datetime\n",
    "travel_data['start_ts'] = pd.to_datetime(travel_data['start_ts'], format='%Y-%m-%d %H:%M:%S', errors='coerce')\n",
    "travel_data['start_date'] = travel_data['start_ts'].dt.date\n",
    "travel_data['start_time'] = travel_data['start_ts'].dt.time\n",
    "travel_data['start_day'] = travel_data['start_ts'].dt.day_name()"
   ]
  },
  {
   "cell_type": "code",
   "execution_count": null,
   "metadata": {},
   "outputs": [],
   "source": [
    "travel_data.info()"
   ]
  },
  {
   "cell_type": "code",
   "execution_count": null,
   "metadata": {},
   "outputs": [],
   "source": [
    "#creates slice for the weather condition that \"Good\" \n",
    "good_weather = travel_data.query('weather_conditions == \"Good\"')"
   ]
  },
  {
   "cell_type": "code",
   "execution_count": null,
   "metadata": {},
   "outputs": [],
   "source": [
    "#creates slice for the weather condition that \"Bad\" \n",
    "bad_weather = travel_data.query('weather_conditions == \"Bad\"')"
   ]
  },
  {
   "cell_type": "code",
   "execution_count": null,
   "metadata": {},
   "outputs": [],
   "source": [
    "travel_data"
   ]
  },
  {
   "attachments": {},
   "cell_type": "markdown",
   "metadata": {},
   "source": [
    "### 2.2. Menguji Hipotesis"
   ]
  },
  {
   "cell_type": "markdown",
   "metadata": {},
   "source": [
    "**Hipotesis:**\n",
    "\n",
    "**Durasi rata-rata perjalanan dari Loop ke Bandara Internasional O'Hare berubah pada hari-hari Sabtu yang hujan.**"
   ]
  },
  {
   "attachments": {},
   "cell_type": "markdown",
   "metadata": {},
   "source": [
    "Dalam uji variansi, jika rasio sampel dengan varians yang lebih besar dibandingkan dengan sample yang variansnya lebih kecil <4, maka bisa kita assumsikan varians keduanya setara. Atau bisa menggunakan uji levene dimana H0 nya adalah kedua grup memiliki varians setara dan H1 nya adalah kedua grup memiliki varians yang berbeda. Jika di hasil levene test menunjukkan p-value < dari critical value (alpha) maka kita bisa menolak H0, dan sebaliknya."
   ]
  },
  {
   "cell_type": "code",
   "execution_count": null,
   "metadata": {},
   "outputs": [],
   "source": [
    "# Create a sample for levene test\n",
    "sample_1 = good_weather['duration_seconds']\n",
    "sample_2 = bad_weather['duration_seconds']"
   ]
  },
  {
   "cell_type": "code",
   "execution_count": null,
   "metadata": {},
   "outputs": [],
   "source": [
    "# Levene test\n",
    "st.levene(sample_1, sample_2)"
   ]
  },
  {
   "cell_type": "markdown",
   "metadata": {},
   "source": [
    "Dikarenakan p-value > dari critical value (alpha = 0.05) maka kita tidak bisa menolak H0 dan kedua sampel dianggap memiliki varians yang sama (equal_var = True)"
   ]
  },
  {
   "attachments": {},
   "cell_type": "markdown",
   "metadata": {},
   "source": [
    "* H0 (Null Hypothesis) : Durasi rata-rata perjalanan dari Loop ke Bandara Internasional O'Hare sama pada hari-hari Sabtu yang hujan.\n",
    "* H1 (Alternative Hypothesis) : Durasi rata-rata perjalanan dari Loop ke Bandara Internasional O'Hare berubah pada hari-hari Sabtu yang hujan."
   ]
  },
  {
   "cell_type": "code",
   "execution_count": null,
   "metadata": {},
   "outputs": [],
   "source": [
    "# ttest_ind for sample 1 and 2\n",
    "alpha = 0.05\n",
    "\n",
    "results = st.ttest_ind(sample_1, sample_2, equal_var=True)\n",
    "\n",
    "print('p-value: ', results.pvalue)\n",
    "\n",
    "if results.pvalue < alpha:\n",
    "    print(\"Kita menolak hipotesis nol\")\n",
    "else:\n",
    "    print(\"Kita tidak dapat menolak hipotesis nol\")"
   ]
  },
  {
   "attachments": {},
   "cell_type": "markdown",
   "metadata": {},
   "source": [
    "**Kesimpulan:**\n",
    "\n",
    "* Hasil yang didapat dari uji hipotesis yaitu Durasi rata-rata perjalanan dari Loop ke Bandara Internasional O'Hare berubah pada hari-hari Sabtu yang hujan adalah **BENAR**."
   ]
  },
  {
   "cell_type": "markdown",
   "metadata": {},
   "source": [
    "## Kesimpulan Umum"
   ]
  },
  {
   "attachments": {},
   "cell_type": "markdown",
   "metadata": {},
   "source": [
    "#### A. Analisis Data Esksploratif (EDA)\n",
    "\n",
    "Dari hasil analisis data esksploratif, dapat disimpulkan bahwa:\n",
    "1. Data sudah dilakukan pra-pemrosesan data dengan SQL, sehingga data yang diperoleh sudah bersih dan rapih.\n",
    "2. Wilayah dengan rata-rata perjalanan yang paling tinggi yaitu di lokasi Loop, River North, Streeterville, West Loop, O'Hare, Lake View, Grant Park, Museum Campus, Gold Coast, dan Sheffield & DePaul.\n",
    "3. Perusahaan taksi yang paling banyak melakukan perjalanan yaitu Flash Cab. Kemudian Taxi Affiliation Services dan Medallion Leasin.\n",
    "\n",
    "#### B. Analisis Data Statistik (Hypothesis Testing)\n",
    "\n",
    "Dari hasil analisis pengujian hipotesis, dapat disimpulkan bahwa:\n",
    "1. Hasil yang didapat dari uji hipotesis yaitu Durasi rata-rata perjalanan dari Loop ke Bandara Internasional O'Hare berubah pada hari-hari Sabtu yang hujan adalah benar."
   ]
  }
 ],
 "metadata": {
  "kernelspec": {
   "display_name": "Python 3",
   "language": "python",
   "name": "python3"
  },
  "language_info": {
   "codemirror_mode": {
    "name": "ipython",
    "version": 3
   },
   "file_extension": ".py",
   "mimetype": "text/x-python",
   "name": "python",
   "nbconvert_exporter": "python",
   "pygments_lexer": "ipython3",
   "version": "3.11.1"
  },
  "orig_nbformat": 4,
  "vscode": {
   "interpreter": {
    "hash": "5238573367df39f7286bb46f9ff5f08f63a01a80960060ce41e3c79b190280fa"
   }
  }
 },
 "nbformat": 4,
 "nbformat_minor": 2
}
