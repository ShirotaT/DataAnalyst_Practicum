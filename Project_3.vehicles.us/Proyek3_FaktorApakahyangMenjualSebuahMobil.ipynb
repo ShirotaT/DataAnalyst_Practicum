{
 "cells": [
  {
   "cell_type": "markdown",
   "metadata": {},
   "source": [
    "# Faktor Apakah yang Menjual Sebuah Mobil?\n",
    "\n",
    "Anda adalah seorang analis di Crankshaft List. Ratusan iklan kendaraan gratis ditayangkan di situs web Anda setiap hari. Anda perlu mempelajari kumpulan data selama beberapa tahun terakhir dan menentukan faktor-faktor yang memengaruhi harga sebuah kendaraan."
   ]
  },
  {
   "cell_type": "markdown",
   "metadata": {},
   "source": [
    "## Tujuan\n",
    "\n",
    "Proyek ini befokus pada Exploratory Data Analysis(EDA) dan Data Visualization. Analisis yang dilakukan yaitu menentukan hubungan antara harga sebuah mobil dengan usia, jarak tempuh, kondisi, tipe transmisi, dan warnanya. Selanjutnya ditentukan faktor yang paling memengaruhi harga kendaraan. Data dianalisis menggunakan teknik statistik atau alat visualisasi untuk mengidentifikasi pola atau tren serta untuk mengungkap insights dalam data."
   ]
  },
  {
   "cell_type": "markdown",
   "metadata": {},
   "source": [
    "### Hipotesis\n",
    "\n",
    "1. Mobil yang memiliki usia yang lebih tua memiliki harga mobil yang lebih murah.\n",
    "2. Jarak tempuh mobil yang lebih kecil memiliki harga mobil yang lebih murah.\n",
    "3. Mobil dengan kondisi yang bagus memiliki harga mobil yang lebih mahal.\n",
    "4. Tipe transmisi mobil matic lebih mahal daripadi tipe transisi mobil manual.\n",
    "5. Warna-warna yang tidak umum, seperti kuning, hijau, biru, merah, cenderung kurang peminat. Ini menjadikan dari segi harga tidak sebaik warna hitam, putih atau silver."
   ]
  },
  {
   "cell_type": "markdown",
   "metadata": {},
   "source": [
    "### Tahapan\n",
    "\n",
    "Data tentang spesifikasi mobil disimpan dalam file `/datasets/vehicles_us.csv`. Tidak ada informasi terkait kualitas data tersebut, jadi perlu dilakukan pemeriksaan terlebih dahulu sebelum menguji hipotesis.\n",
    "\n",
    "Proyek ini terdiri dari dua tahap:\n",
    "\n",
    "1. Pra-pemrosesan Data\n",
    "2. Analisis Data Exploratif (EDA)\n"
   ]
  },
  {
   "cell_type": "markdown",
   "metadata": {},
   "source": [
    "## 1. Pra-pemrosesan"
   ]
  },
  {
   "cell_type": "markdown",
   "metadata": {},
   "source": [
    "**Import *library* yang dibutuhkan:**"
   ]
  },
  {
   "cell_type": "code",
   "execution_count": 1,
   "metadata": {},
   "outputs": [],
   "source": [
    "# Import library\n",
    "import pandas as pd\n",
    "import matplotlib.pyplot as plt"
   ]
  },
  {
   "cell_type": "markdown",
   "metadata": {},
   "source": [
    "### 1.1. Memuat Data"
   ]
  },
  {
   "cell_type": "code",
   "execution_count": 2,
   "metadata": {},
   "outputs": [
    {
     "data": {
      "text/html": [
       "<div>\n",
       "<style scoped>\n",
       "    .dataframe tbody tr th:only-of-type {\n",
       "        vertical-align: middle;\n",
       "    }\n",
       "\n",
       "    .dataframe tbody tr th {\n",
       "        vertical-align: top;\n",
       "    }\n",
       "\n",
       "    .dataframe thead th {\n",
       "        text-align: right;\n",
       "    }\n",
       "</style>\n",
       "<table border=\"1\" class=\"dataframe\">\n",
       "  <thead>\n",
       "    <tr style=\"text-align: right;\">\n",
       "      <th></th>\n",
       "      <th>price</th>\n",
       "      <th>model_year</th>\n",
       "      <th>model</th>\n",
       "      <th>condition</th>\n",
       "      <th>cylinders</th>\n",
       "      <th>fuel</th>\n",
       "      <th>odometer</th>\n",
       "      <th>transmission</th>\n",
       "      <th>type</th>\n",
       "      <th>paint_color</th>\n",
       "      <th>is_4wd</th>\n",
       "      <th>date_posted</th>\n",
       "      <th>days_listed</th>\n",
       "    </tr>\n",
       "  </thead>\n",
       "  <tbody>\n",
       "    <tr>\n",
       "      <th>0</th>\n",
       "      <td>9400</td>\n",
       "      <td>2011.0</td>\n",
       "      <td>bmw x5</td>\n",
       "      <td>good</td>\n",
       "      <td>6.0</td>\n",
       "      <td>gas</td>\n",
       "      <td>145000.0</td>\n",
       "      <td>automatic</td>\n",
       "      <td>SUV</td>\n",
       "      <td>NaN</td>\n",
       "      <td>1.0</td>\n",
       "      <td>2018-06-23</td>\n",
       "      <td>19</td>\n",
       "    </tr>\n",
       "    <tr>\n",
       "      <th>1</th>\n",
       "      <td>25500</td>\n",
       "      <td>NaN</td>\n",
       "      <td>ford f-150</td>\n",
       "      <td>good</td>\n",
       "      <td>6.0</td>\n",
       "      <td>gas</td>\n",
       "      <td>88705.0</td>\n",
       "      <td>automatic</td>\n",
       "      <td>pickup</td>\n",
       "      <td>white</td>\n",
       "      <td>1.0</td>\n",
       "      <td>2018-10-19</td>\n",
       "      <td>50</td>\n",
       "    </tr>\n",
       "    <tr>\n",
       "      <th>2</th>\n",
       "      <td>5500</td>\n",
       "      <td>2013.0</td>\n",
       "      <td>hyundai sonata</td>\n",
       "      <td>like new</td>\n",
       "      <td>4.0</td>\n",
       "      <td>gas</td>\n",
       "      <td>110000.0</td>\n",
       "      <td>automatic</td>\n",
       "      <td>sedan</td>\n",
       "      <td>red</td>\n",
       "      <td>NaN</td>\n",
       "      <td>2019-02-07</td>\n",
       "      <td>79</td>\n",
       "    </tr>\n",
       "    <tr>\n",
       "      <th>3</th>\n",
       "      <td>1500</td>\n",
       "      <td>2003.0</td>\n",
       "      <td>ford f-150</td>\n",
       "      <td>fair</td>\n",
       "      <td>8.0</td>\n",
       "      <td>gas</td>\n",
       "      <td>NaN</td>\n",
       "      <td>automatic</td>\n",
       "      <td>pickup</td>\n",
       "      <td>NaN</td>\n",
       "      <td>NaN</td>\n",
       "      <td>2019-03-22</td>\n",
       "      <td>9</td>\n",
       "    </tr>\n",
       "    <tr>\n",
       "      <th>4</th>\n",
       "      <td>14900</td>\n",
       "      <td>2017.0</td>\n",
       "      <td>chrysler 200</td>\n",
       "      <td>excellent</td>\n",
       "      <td>4.0</td>\n",
       "      <td>gas</td>\n",
       "      <td>80903.0</td>\n",
       "      <td>automatic</td>\n",
       "      <td>sedan</td>\n",
       "      <td>black</td>\n",
       "      <td>NaN</td>\n",
       "      <td>2019-04-02</td>\n",
       "      <td>28</td>\n",
       "    </tr>\n",
       "    <tr>\n",
       "      <th>...</th>\n",
       "      <td>...</td>\n",
       "      <td>...</td>\n",
       "      <td>...</td>\n",
       "      <td>...</td>\n",
       "      <td>...</td>\n",
       "      <td>...</td>\n",
       "      <td>...</td>\n",
       "      <td>...</td>\n",
       "      <td>...</td>\n",
       "      <td>...</td>\n",
       "      <td>...</td>\n",
       "      <td>...</td>\n",
       "      <td>...</td>\n",
       "    </tr>\n",
       "    <tr>\n",
       "      <th>51520</th>\n",
       "      <td>9249</td>\n",
       "      <td>2013.0</td>\n",
       "      <td>nissan maxima</td>\n",
       "      <td>like new</td>\n",
       "      <td>6.0</td>\n",
       "      <td>gas</td>\n",
       "      <td>88136.0</td>\n",
       "      <td>automatic</td>\n",
       "      <td>sedan</td>\n",
       "      <td>black</td>\n",
       "      <td>NaN</td>\n",
       "      <td>2018-10-03</td>\n",
       "      <td>37</td>\n",
       "    </tr>\n",
       "    <tr>\n",
       "      <th>51521</th>\n",
       "      <td>2700</td>\n",
       "      <td>2002.0</td>\n",
       "      <td>honda civic</td>\n",
       "      <td>salvage</td>\n",
       "      <td>4.0</td>\n",
       "      <td>gas</td>\n",
       "      <td>181500.0</td>\n",
       "      <td>automatic</td>\n",
       "      <td>sedan</td>\n",
       "      <td>white</td>\n",
       "      <td>NaN</td>\n",
       "      <td>2018-11-14</td>\n",
       "      <td>22</td>\n",
       "    </tr>\n",
       "    <tr>\n",
       "      <th>51522</th>\n",
       "      <td>3950</td>\n",
       "      <td>2009.0</td>\n",
       "      <td>hyundai sonata</td>\n",
       "      <td>excellent</td>\n",
       "      <td>4.0</td>\n",
       "      <td>gas</td>\n",
       "      <td>128000.0</td>\n",
       "      <td>automatic</td>\n",
       "      <td>sedan</td>\n",
       "      <td>blue</td>\n",
       "      <td>NaN</td>\n",
       "      <td>2018-11-15</td>\n",
       "      <td>32</td>\n",
       "    </tr>\n",
       "    <tr>\n",
       "      <th>51523</th>\n",
       "      <td>7455</td>\n",
       "      <td>2013.0</td>\n",
       "      <td>toyota corolla</td>\n",
       "      <td>good</td>\n",
       "      <td>4.0</td>\n",
       "      <td>gas</td>\n",
       "      <td>139573.0</td>\n",
       "      <td>automatic</td>\n",
       "      <td>sedan</td>\n",
       "      <td>black</td>\n",
       "      <td>NaN</td>\n",
       "      <td>2018-07-02</td>\n",
       "      <td>71</td>\n",
       "    </tr>\n",
       "    <tr>\n",
       "      <th>51524</th>\n",
       "      <td>6300</td>\n",
       "      <td>2014.0</td>\n",
       "      <td>nissan altima</td>\n",
       "      <td>good</td>\n",
       "      <td>4.0</td>\n",
       "      <td>gas</td>\n",
       "      <td>NaN</td>\n",
       "      <td>automatic</td>\n",
       "      <td>sedan</td>\n",
       "      <td>NaN</td>\n",
       "      <td>NaN</td>\n",
       "      <td>2018-06-05</td>\n",
       "      <td>10</td>\n",
       "    </tr>\n",
       "  </tbody>\n",
       "</table>\n",
       "<p>51525 rows × 13 columns</p>\n",
       "</div>"
      ],
      "text/plain": [
       "       price  model_year           model  condition  cylinders fuel  odometer  \\\n",
       "0       9400      2011.0          bmw x5       good        6.0  gas  145000.0   \n",
       "1      25500         NaN      ford f-150       good        6.0  gas   88705.0   \n",
       "2       5500      2013.0  hyundai sonata   like new        4.0  gas  110000.0   \n",
       "3       1500      2003.0      ford f-150       fair        8.0  gas       NaN   \n",
       "4      14900      2017.0    chrysler 200  excellent        4.0  gas   80903.0   \n",
       "...      ...         ...             ...        ...        ...  ...       ...   \n",
       "51520   9249      2013.0   nissan maxima   like new        6.0  gas   88136.0   \n",
       "51521   2700      2002.0     honda civic    salvage        4.0  gas  181500.0   \n",
       "51522   3950      2009.0  hyundai sonata  excellent        4.0  gas  128000.0   \n",
       "51523   7455      2013.0  toyota corolla       good        4.0  gas  139573.0   \n",
       "51524   6300      2014.0   nissan altima       good        4.0  gas       NaN   \n",
       "\n",
       "      transmission    type paint_color  is_4wd date_posted  days_listed  \n",
       "0        automatic     SUV         NaN     1.0  2018-06-23           19  \n",
       "1        automatic  pickup       white     1.0  2018-10-19           50  \n",
       "2        automatic   sedan         red     NaN  2019-02-07           79  \n",
       "3        automatic  pickup         NaN     NaN  2019-03-22            9  \n",
       "4        automatic   sedan       black     NaN  2019-04-02           28  \n",
       "...            ...     ...         ...     ...         ...          ...  \n",
       "51520    automatic   sedan       black     NaN  2018-10-03           37  \n",
       "51521    automatic   sedan       white     NaN  2018-11-14           22  \n",
       "51522    automatic   sedan        blue     NaN  2018-11-15           32  \n",
       "51523    automatic   sedan       black     NaN  2018-07-02           71  \n",
       "51524    automatic   sedan         NaN     NaN  2018-06-05           10  \n",
       "\n",
       "[51525 rows x 13 columns]"
      ]
     },
     "execution_count": 2,
     "metadata": {},
     "output_type": "execute_result"
    }
   ],
   "source": [
    "# Try and except datasets\n",
    "try:\n",
    "    data = pd.read_csv('vehicles_us.csv')\n",
    "except:\n",
    "    data = pd.read_csv('/datasets/vehicles_us.csv') \n",
    "\n",
    "data"
   ]
  },
  {
   "cell_type": "markdown",
   "metadata": {},
   "source": [
    "### 1.2. Mengeksplorasi Data Awal"
   ]
  },
  {
   "cell_type": "markdown",
   "metadata": {},
   "source": [
    "**Deskripsi Data**: \n",
    "\n",
    "\n",
    "- `price` — harga mobil\n",
    "- `model_year` — tahun produksi mobil\n",
    "- `model` — merk dan seri mobil\n",
    "- `condition`  — kondisi mobil\n",
    "- `cylinders` — jumlah silinder mesin mobil\n",
    "- `fuel` — gas, disel, dan lain-lain.\n",
    "- `odometer` — jarak tempuh kendaraan saat iklan ditayangkan  \n",
    "- `transmission` — tipe transisi mobil\n",
    "- `type` — tipe mobil\n",
    "- `paint_color` — warna mobil\n",
    "- `is_4wd` — apakah kendaraan memiliki penggerak 4 roda (tipe Boolean)\n",
    "- `date_posted` — tanggal iklan ditayangkan \n",
    "- `days_listed` — jumlah hari iklan ditayangkan hingga dihapus "
   ]
  },
  {
   "cell_type": "code",
   "execution_count": 3,
   "metadata": {},
   "outputs": [
    {
     "name": "stdout",
     "output_type": "stream",
     "text": [
      "<class 'pandas.core.frame.DataFrame'>\n",
      "RangeIndex: 51525 entries, 0 to 51524\n",
      "Data columns (total 13 columns):\n",
      " #   Column        Non-Null Count  Dtype  \n",
      "---  ------        --------------  -----  \n",
      " 0   price         51525 non-null  int64  \n",
      " 1   model_year    47906 non-null  float64\n",
      " 2   model         51525 non-null  object \n",
      " 3   condition     51525 non-null  object \n",
      " 4   cylinders     46265 non-null  float64\n",
      " 5   fuel          51525 non-null  object \n",
      " 6   odometer      43633 non-null  float64\n",
      " 7   transmission  51525 non-null  object \n",
      " 8   type          51525 non-null  object \n",
      " 9   paint_color   42258 non-null  object \n",
      " 10  is_4wd        25572 non-null  float64\n",
      " 11  date_posted   51525 non-null  object \n",
      " 12  days_listed   51525 non-null  int64  \n",
      "dtypes: float64(4), int64(2), object(7)\n",
      "memory usage: 5.1+ MB\n"
     ]
    }
   ],
   "source": [
    "# Check data info\n",
    "data.info()"
   ]
  },
  {
   "cell_type": "code",
   "execution_count": 4,
   "metadata": {},
   "outputs": [
    {
     "data": {
      "text/html": [
       "<div>\n",
       "<style scoped>\n",
       "    .dataframe tbody tr th:only-of-type {\n",
       "        vertical-align: middle;\n",
       "    }\n",
       "\n",
       "    .dataframe tbody tr th {\n",
       "        vertical-align: top;\n",
       "    }\n",
       "\n",
       "    .dataframe thead th {\n",
       "        text-align: right;\n",
       "    }\n",
       "</style>\n",
       "<table border=\"1\" class=\"dataframe\">\n",
       "  <thead>\n",
       "    <tr style=\"text-align: right;\">\n",
       "      <th></th>\n",
       "      <th>price</th>\n",
       "      <th>model_year</th>\n",
       "      <th>model</th>\n",
       "      <th>condition</th>\n",
       "      <th>cylinders</th>\n",
       "      <th>fuel</th>\n",
       "      <th>odometer</th>\n",
       "      <th>transmission</th>\n",
       "      <th>type</th>\n",
       "      <th>paint_color</th>\n",
       "      <th>is_4wd</th>\n",
       "      <th>date_posted</th>\n",
       "      <th>days_listed</th>\n",
       "    </tr>\n",
       "  </thead>\n",
       "  <tbody>\n",
       "    <tr>\n",
       "      <th>0</th>\n",
       "      <td>9400</td>\n",
       "      <td>2011.0</td>\n",
       "      <td>bmw x5</td>\n",
       "      <td>good</td>\n",
       "      <td>6.0</td>\n",
       "      <td>gas</td>\n",
       "      <td>145000.0</td>\n",
       "      <td>automatic</td>\n",
       "      <td>SUV</td>\n",
       "      <td>NaN</td>\n",
       "      <td>1.0</td>\n",
       "      <td>2018-06-23</td>\n",
       "      <td>19</td>\n",
       "    </tr>\n",
       "    <tr>\n",
       "      <th>1</th>\n",
       "      <td>25500</td>\n",
       "      <td>NaN</td>\n",
       "      <td>ford f-150</td>\n",
       "      <td>good</td>\n",
       "      <td>6.0</td>\n",
       "      <td>gas</td>\n",
       "      <td>88705.0</td>\n",
       "      <td>automatic</td>\n",
       "      <td>pickup</td>\n",
       "      <td>white</td>\n",
       "      <td>1.0</td>\n",
       "      <td>2018-10-19</td>\n",
       "      <td>50</td>\n",
       "    </tr>\n",
       "    <tr>\n",
       "      <th>2</th>\n",
       "      <td>5500</td>\n",
       "      <td>2013.0</td>\n",
       "      <td>hyundai sonata</td>\n",
       "      <td>like new</td>\n",
       "      <td>4.0</td>\n",
       "      <td>gas</td>\n",
       "      <td>110000.0</td>\n",
       "      <td>automatic</td>\n",
       "      <td>sedan</td>\n",
       "      <td>red</td>\n",
       "      <td>NaN</td>\n",
       "      <td>2019-02-07</td>\n",
       "      <td>79</td>\n",
       "    </tr>\n",
       "    <tr>\n",
       "      <th>3</th>\n",
       "      <td>1500</td>\n",
       "      <td>2003.0</td>\n",
       "      <td>ford f-150</td>\n",
       "      <td>fair</td>\n",
       "      <td>8.0</td>\n",
       "      <td>gas</td>\n",
       "      <td>NaN</td>\n",
       "      <td>automatic</td>\n",
       "      <td>pickup</td>\n",
       "      <td>NaN</td>\n",
       "      <td>NaN</td>\n",
       "      <td>2019-03-22</td>\n",
       "      <td>9</td>\n",
       "    </tr>\n",
       "    <tr>\n",
       "      <th>4</th>\n",
       "      <td>14900</td>\n",
       "      <td>2017.0</td>\n",
       "      <td>chrysler 200</td>\n",
       "      <td>excellent</td>\n",
       "      <td>4.0</td>\n",
       "      <td>gas</td>\n",
       "      <td>80903.0</td>\n",
       "      <td>automatic</td>\n",
       "      <td>sedan</td>\n",
       "      <td>black</td>\n",
       "      <td>NaN</td>\n",
       "      <td>2019-04-02</td>\n",
       "      <td>28</td>\n",
       "    </tr>\n",
       "    <tr>\n",
       "      <th>5</th>\n",
       "      <td>14990</td>\n",
       "      <td>2014.0</td>\n",
       "      <td>chrysler 300</td>\n",
       "      <td>excellent</td>\n",
       "      <td>6.0</td>\n",
       "      <td>gas</td>\n",
       "      <td>57954.0</td>\n",
       "      <td>automatic</td>\n",
       "      <td>sedan</td>\n",
       "      <td>black</td>\n",
       "      <td>1.0</td>\n",
       "      <td>2018-06-20</td>\n",
       "      <td>15</td>\n",
       "    </tr>\n",
       "    <tr>\n",
       "      <th>6</th>\n",
       "      <td>12990</td>\n",
       "      <td>2015.0</td>\n",
       "      <td>toyota camry</td>\n",
       "      <td>excellent</td>\n",
       "      <td>4.0</td>\n",
       "      <td>gas</td>\n",
       "      <td>79212.0</td>\n",
       "      <td>automatic</td>\n",
       "      <td>sedan</td>\n",
       "      <td>white</td>\n",
       "      <td>NaN</td>\n",
       "      <td>2018-12-27</td>\n",
       "      <td>73</td>\n",
       "    </tr>\n",
       "    <tr>\n",
       "      <th>7</th>\n",
       "      <td>15990</td>\n",
       "      <td>2013.0</td>\n",
       "      <td>honda pilot</td>\n",
       "      <td>excellent</td>\n",
       "      <td>6.0</td>\n",
       "      <td>gas</td>\n",
       "      <td>109473.0</td>\n",
       "      <td>automatic</td>\n",
       "      <td>SUV</td>\n",
       "      <td>black</td>\n",
       "      <td>1.0</td>\n",
       "      <td>2019-01-07</td>\n",
       "      <td>68</td>\n",
       "    </tr>\n",
       "    <tr>\n",
       "      <th>8</th>\n",
       "      <td>11500</td>\n",
       "      <td>2012.0</td>\n",
       "      <td>kia sorento</td>\n",
       "      <td>excellent</td>\n",
       "      <td>4.0</td>\n",
       "      <td>gas</td>\n",
       "      <td>104174.0</td>\n",
       "      <td>automatic</td>\n",
       "      <td>SUV</td>\n",
       "      <td>NaN</td>\n",
       "      <td>1.0</td>\n",
       "      <td>2018-07-16</td>\n",
       "      <td>19</td>\n",
       "    </tr>\n",
       "    <tr>\n",
       "      <th>9</th>\n",
       "      <td>9200</td>\n",
       "      <td>2008.0</td>\n",
       "      <td>honda pilot</td>\n",
       "      <td>excellent</td>\n",
       "      <td>NaN</td>\n",
       "      <td>gas</td>\n",
       "      <td>147191.0</td>\n",
       "      <td>automatic</td>\n",
       "      <td>SUV</td>\n",
       "      <td>blue</td>\n",
       "      <td>1.0</td>\n",
       "      <td>2019-02-15</td>\n",
       "      <td>17</td>\n",
       "    </tr>\n",
       "  </tbody>\n",
       "</table>\n",
       "</div>"
      ],
      "text/plain": [
       "   price  model_year           model  condition  cylinders fuel  odometer  \\\n",
       "0   9400      2011.0          bmw x5       good        6.0  gas  145000.0   \n",
       "1  25500         NaN      ford f-150       good        6.0  gas   88705.0   \n",
       "2   5500      2013.0  hyundai sonata   like new        4.0  gas  110000.0   \n",
       "3   1500      2003.0      ford f-150       fair        8.0  gas       NaN   \n",
       "4  14900      2017.0    chrysler 200  excellent        4.0  gas   80903.0   \n",
       "5  14990      2014.0    chrysler 300  excellent        6.0  gas   57954.0   \n",
       "6  12990      2015.0    toyota camry  excellent        4.0  gas   79212.0   \n",
       "7  15990      2013.0     honda pilot  excellent        6.0  gas  109473.0   \n",
       "8  11500      2012.0     kia sorento  excellent        4.0  gas  104174.0   \n",
       "9   9200      2008.0     honda pilot  excellent        NaN  gas  147191.0   \n",
       "\n",
       "  transmission    type paint_color  is_4wd date_posted  days_listed  \n",
       "0    automatic     SUV         NaN     1.0  2018-06-23           19  \n",
       "1    automatic  pickup       white     1.0  2018-10-19           50  \n",
       "2    automatic   sedan         red     NaN  2019-02-07           79  \n",
       "3    automatic  pickup         NaN     NaN  2019-03-22            9  \n",
       "4    automatic   sedan       black     NaN  2019-04-02           28  \n",
       "5    automatic   sedan       black     1.0  2018-06-20           15  \n",
       "6    automatic   sedan       white     NaN  2018-12-27           73  \n",
       "7    automatic     SUV       black     1.0  2019-01-07           68  \n",
       "8    automatic     SUV         NaN     1.0  2018-07-16           19  \n",
       "9    automatic     SUV        blue     1.0  2019-02-15           17  "
      ]
     },
     "execution_count": 4,
     "metadata": {},
     "output_type": "execute_result"
    }
   ],
   "source": [
    "# Check first 10 data\n",
    "data.head(10)"
   ]
  },
  {
   "cell_type": "code",
   "execution_count": 5,
   "metadata": {},
   "outputs": [
    {
     "data": {
      "text/html": [
       "<div>\n",
       "<style scoped>\n",
       "    .dataframe tbody tr th:only-of-type {\n",
       "        vertical-align: middle;\n",
       "    }\n",
       "\n",
       "    .dataframe tbody tr th {\n",
       "        vertical-align: top;\n",
       "    }\n",
       "\n",
       "    .dataframe thead th {\n",
       "        text-align: right;\n",
       "    }\n",
       "</style>\n",
       "<table border=\"1\" class=\"dataframe\">\n",
       "  <thead>\n",
       "    <tr style=\"text-align: right;\">\n",
       "      <th></th>\n",
       "      <th>price</th>\n",
       "      <th>model_year</th>\n",
       "      <th>model</th>\n",
       "      <th>condition</th>\n",
       "      <th>cylinders</th>\n",
       "      <th>fuel</th>\n",
       "      <th>odometer</th>\n",
       "      <th>transmission</th>\n",
       "      <th>type</th>\n",
       "      <th>paint_color</th>\n",
       "      <th>is_4wd</th>\n",
       "      <th>date_posted</th>\n",
       "      <th>days_listed</th>\n",
       "    </tr>\n",
       "  </thead>\n",
       "  <tbody>\n",
       "    <tr>\n",
       "      <th>39796</th>\n",
       "      <td>2200</td>\n",
       "      <td>2005.0</td>\n",
       "      <td>ford focus</td>\n",
       "      <td>excellent</td>\n",
       "      <td>NaN</td>\n",
       "      <td>gas</td>\n",
       "      <td>260712.0</td>\n",
       "      <td>automatic</td>\n",
       "      <td>sedan</td>\n",
       "      <td>white</td>\n",
       "      <td>NaN</td>\n",
       "      <td>2018-06-21</td>\n",
       "      <td>102</td>\n",
       "    </tr>\n",
       "    <tr>\n",
       "      <th>6277</th>\n",
       "      <td>15995</td>\n",
       "      <td>2017.0</td>\n",
       "      <td>chevrolet impala</td>\n",
       "      <td>good</td>\n",
       "      <td>6.0</td>\n",
       "      <td>gas</td>\n",
       "      <td>59245.0</td>\n",
       "      <td>automatic</td>\n",
       "      <td>sedan</td>\n",
       "      <td>blue</td>\n",
       "      <td>NaN</td>\n",
       "      <td>2019-02-21</td>\n",
       "      <td>16</td>\n",
       "    </tr>\n",
       "    <tr>\n",
       "      <th>21243</th>\n",
       "      <td>26900</td>\n",
       "      <td>2016.0</td>\n",
       "      <td>ram 2500</td>\n",
       "      <td>excellent</td>\n",
       "      <td>NaN</td>\n",
       "      <td>diesel</td>\n",
       "      <td>184800.0</td>\n",
       "      <td>automatic</td>\n",
       "      <td>truck</td>\n",
       "      <td>NaN</td>\n",
       "      <td>1.0</td>\n",
       "      <td>2018-11-01</td>\n",
       "      <td>37</td>\n",
       "    </tr>\n",
       "    <tr>\n",
       "      <th>17872</th>\n",
       "      <td>3995</td>\n",
       "      <td>2009.0</td>\n",
       "      <td>ford focus</td>\n",
       "      <td>excellent</td>\n",
       "      <td>4.0</td>\n",
       "      <td>gas</td>\n",
       "      <td>NaN</td>\n",
       "      <td>automatic</td>\n",
       "      <td>sedan</td>\n",
       "      <td>red</td>\n",
       "      <td>NaN</td>\n",
       "      <td>2018-10-12</td>\n",
       "      <td>38</td>\n",
       "    </tr>\n",
       "    <tr>\n",
       "      <th>12438</th>\n",
       "      <td>5200</td>\n",
       "      <td>NaN</td>\n",
       "      <td>nissan frontier</td>\n",
       "      <td>good</td>\n",
       "      <td>6.0</td>\n",
       "      <td>gas</td>\n",
       "      <td>140000.0</td>\n",
       "      <td>manual</td>\n",
       "      <td>truck</td>\n",
       "      <td>brown</td>\n",
       "      <td>1.0</td>\n",
       "      <td>2019-01-09</td>\n",
       "      <td>9</td>\n",
       "    </tr>\n",
       "    <tr>\n",
       "      <th>19263</th>\n",
       "      <td>21900</td>\n",
       "      <td>2014.0</td>\n",
       "      <td>ford f-150</td>\n",
       "      <td>excellent</td>\n",
       "      <td>6.0</td>\n",
       "      <td>gas</td>\n",
       "      <td>78000.0</td>\n",
       "      <td>automatic</td>\n",
       "      <td>pickup</td>\n",
       "      <td>blue</td>\n",
       "      <td>1.0</td>\n",
       "      <td>2018-07-20</td>\n",
       "      <td>8</td>\n",
       "    </tr>\n",
       "    <tr>\n",
       "      <th>19420</th>\n",
       "      <td>6495</td>\n",
       "      <td>2008.0</td>\n",
       "      <td>toyota camry le</td>\n",
       "      <td>excellent</td>\n",
       "      <td>4.0</td>\n",
       "      <td>gas</td>\n",
       "      <td>NaN</td>\n",
       "      <td>automatic</td>\n",
       "      <td>sedan</td>\n",
       "      <td>brown</td>\n",
       "      <td>NaN</td>\n",
       "      <td>2018-10-26</td>\n",
       "      <td>57</td>\n",
       "    </tr>\n",
       "    <tr>\n",
       "      <th>34373</th>\n",
       "      <td>1200</td>\n",
       "      <td>2002.0</td>\n",
       "      <td>ford f150</td>\n",
       "      <td>good</td>\n",
       "      <td>8.0</td>\n",
       "      <td>gas</td>\n",
       "      <td>290000.0</td>\n",
       "      <td>automatic</td>\n",
       "      <td>truck</td>\n",
       "      <td>green</td>\n",
       "      <td>1.0</td>\n",
       "      <td>2019-01-23</td>\n",
       "      <td>99</td>\n",
       "    </tr>\n",
       "    <tr>\n",
       "      <th>18471</th>\n",
       "      <td>28900</td>\n",
       "      <td>2013.0</td>\n",
       "      <td>ford f-250 super duty</td>\n",
       "      <td>excellent</td>\n",
       "      <td>8.0</td>\n",
       "      <td>gas</td>\n",
       "      <td>36851.0</td>\n",
       "      <td>automatic</td>\n",
       "      <td>truck</td>\n",
       "      <td>green</td>\n",
       "      <td>1.0</td>\n",
       "      <td>2018-07-07</td>\n",
       "      <td>80</td>\n",
       "    </tr>\n",
       "    <tr>\n",
       "      <th>20252</th>\n",
       "      <td>7999</td>\n",
       "      <td>2013.0</td>\n",
       "      <td>hyundai elantra</td>\n",
       "      <td>excellent</td>\n",
       "      <td>4.0</td>\n",
       "      <td>gas</td>\n",
       "      <td>73937.0</td>\n",
       "      <td>automatic</td>\n",
       "      <td>sedan</td>\n",
       "      <td>silver</td>\n",
       "      <td>NaN</td>\n",
       "      <td>2018-11-09</td>\n",
       "      <td>18</td>\n",
       "    </tr>\n",
       "  </tbody>\n",
       "</table>\n",
       "</div>"
      ],
      "text/plain": [
       "       price  model_year                  model  condition  cylinders    fuel  \\\n",
       "39796   2200      2005.0             ford focus  excellent        NaN     gas   \n",
       "6277   15995      2017.0       chevrolet impala       good        6.0     gas   \n",
       "21243  26900      2016.0               ram 2500  excellent        NaN  diesel   \n",
       "17872   3995      2009.0             ford focus  excellent        4.0     gas   \n",
       "12438   5200         NaN        nissan frontier       good        6.0     gas   \n",
       "19263  21900      2014.0             ford f-150  excellent        6.0     gas   \n",
       "19420   6495      2008.0        toyota camry le  excellent        4.0     gas   \n",
       "34373   1200      2002.0              ford f150       good        8.0     gas   \n",
       "18471  28900      2013.0  ford f-250 super duty  excellent        8.0     gas   \n",
       "20252   7999      2013.0        hyundai elantra  excellent        4.0     gas   \n",
       "\n",
       "       odometer transmission    type paint_color  is_4wd date_posted  \\\n",
       "39796  260712.0    automatic   sedan       white     NaN  2018-06-21   \n",
       "6277    59245.0    automatic   sedan        blue     NaN  2019-02-21   \n",
       "21243  184800.0    automatic   truck         NaN     1.0  2018-11-01   \n",
       "17872       NaN    automatic   sedan         red     NaN  2018-10-12   \n",
       "12438  140000.0       manual   truck       brown     1.0  2019-01-09   \n",
       "19263   78000.0    automatic  pickup        blue     1.0  2018-07-20   \n",
       "19420       NaN    automatic   sedan       brown     NaN  2018-10-26   \n",
       "34373  290000.0    automatic   truck       green     1.0  2019-01-23   \n",
       "18471   36851.0    automatic   truck       green     1.0  2018-07-07   \n",
       "20252   73937.0    automatic   sedan      silver     NaN  2018-11-09   \n",
       "\n",
       "       days_listed  \n",
       "39796          102  \n",
       "6277            16  \n",
       "21243           37  \n",
       "17872           38  \n",
       "12438            9  \n",
       "19263            8  \n",
       "19420           57  \n",
       "34373           99  \n",
       "18471           80  \n",
       "20252           18  "
      ]
     },
     "execution_count": 5,
     "metadata": {},
     "output_type": "execute_result"
    }
   ],
   "source": [
    "# Check 10 sample data\n",
    "data.sample(10)"
   ]
  },
  {
   "cell_type": "markdown",
   "metadata": {},
   "source": [
    "**Kesimpulan sementara:**\n",
    "\n",
    "* Dari 10 data pertama, terlihat ada beberapa nilai yang hilang. \n",
    "* Kolom `model_year` akan terlihat lebih rapih apabila menggunakan integer.\n",
    "* Kolom `condition` terlihat lebih rapih apabila nilai string diganti dengan skala numerik.\n",
    "* Kolom `date_posted` sebaiknya menggunakan format dtype datetime64."
   ]
  },
  {
   "cell_type": "code",
   "execution_count": 6,
   "metadata": {},
   "outputs": [
    {
     "data": {
      "text/plain": [
       "is_4wd          25953\n",
       "paint_color      9267\n",
       "odometer         7892\n",
       "cylinders        5260\n",
       "model_year       3619\n",
       "price               0\n",
       "model               0\n",
       "condition           0\n",
       "fuel                0\n",
       "transmission        0\n",
       "type                0\n",
       "date_posted         0\n",
       "days_listed         0\n",
       "dtype: int64"
      ]
     },
     "execution_count": 6,
     "metadata": {},
     "output_type": "execute_result"
    }
   ],
   "source": [
    "# Check total missing values descending\n",
    "data.isna().sum().sort_values(ascending=False)"
   ]
  },
  {
   "cell_type": "code",
   "execution_count": 7,
   "metadata": {
    "scrolled": true
   },
   "outputs": [
    {
     "name": "stdout",
     "output_type": "stream",
     "text": [
      "['automatic' 'manual' 'other']\n",
      "['SUV' 'pickup' 'sedan' 'truck' 'coupe' 'van' 'convertible' 'hatchback'\n",
      " 'wagon' 'mini-van' 'other' 'offroad' 'bus']\n"
     ]
    }
   ],
   "source": [
    "# Check unique data from 'transmisson' and 'type' column\n",
    "print(data['transmission'].unique())\n",
    "print(data['type'].unique())"
   ]
  },
  {
   "cell_type": "code",
   "execution_count": 8,
   "metadata": {},
   "outputs": [
    {
     "data": {
      "text/plain": [
       "0"
      ]
     },
     "execution_count": 8,
     "metadata": {},
     "output_type": "execute_result"
    }
   ],
   "source": [
    "# Check duplicated data\n",
    "data.duplicated().sum()"
   ]
  },
  {
   "cell_type": "markdown",
   "metadata": {},
   "source": [
    "**Kesimpulan sementara:**\n",
    "\n",
    "* Kolom `model_year`, `cylinders`, `odometer`, `paint_color`, dan  `is_4wd` terdapat nilai hilang yang perlu dianalisis.\n",
    "* Kolom `transmission` dan `type` terdapat nilai other yang merupakan anomali sehingga perlu dianalisis lebih dalam.\n",
    "* Dataset tidak memiliki duplikat pada datanya.\n"
   ]
  },
  {
   "cell_type": "code",
   "execution_count": 9,
   "metadata": {},
   "outputs": [
    {
     "data": {
      "text/html": [
       "<div>\n",
       "<style scoped>\n",
       "    .dataframe tbody tr th:only-of-type {\n",
       "        vertical-align: middle;\n",
       "    }\n",
       "\n",
       "    .dataframe tbody tr th {\n",
       "        vertical-align: top;\n",
       "    }\n",
       "\n",
       "    .dataframe thead th {\n",
       "        text-align: right;\n",
       "    }\n",
       "</style>\n",
       "<table border=\"1\" class=\"dataframe\">\n",
       "  <thead>\n",
       "    <tr style=\"text-align: right;\">\n",
       "      <th></th>\n",
       "      <th>price</th>\n",
       "      <th>model_year</th>\n",
       "      <th>cylinders</th>\n",
       "      <th>odometer</th>\n",
       "      <th>is_4wd</th>\n",
       "      <th>days_listed</th>\n",
       "    </tr>\n",
       "  </thead>\n",
       "  <tbody>\n",
       "    <tr>\n",
       "      <th>count</th>\n",
       "      <td>51525.000000</td>\n",
       "      <td>47906.000000</td>\n",
       "      <td>46265.000000</td>\n",
       "      <td>43633.000000</td>\n",
       "      <td>25572.0</td>\n",
       "      <td>51525.00000</td>\n",
       "    </tr>\n",
       "    <tr>\n",
       "      <th>mean</th>\n",
       "      <td>12132.464920</td>\n",
       "      <td>2009.750470</td>\n",
       "      <td>6.125235</td>\n",
       "      <td>115553.461738</td>\n",
       "      <td>1.0</td>\n",
       "      <td>39.55476</td>\n",
       "    </tr>\n",
       "    <tr>\n",
       "      <th>std</th>\n",
       "      <td>10040.803015</td>\n",
       "      <td>6.282065</td>\n",
       "      <td>1.660360</td>\n",
       "      <td>65094.611341</td>\n",
       "      <td>0.0</td>\n",
       "      <td>28.20427</td>\n",
       "    </tr>\n",
       "    <tr>\n",
       "      <th>min</th>\n",
       "      <td>1.000000</td>\n",
       "      <td>1908.000000</td>\n",
       "      <td>3.000000</td>\n",
       "      <td>0.000000</td>\n",
       "      <td>1.0</td>\n",
       "      <td>0.00000</td>\n",
       "    </tr>\n",
       "    <tr>\n",
       "      <th>25%</th>\n",
       "      <td>5000.000000</td>\n",
       "      <td>2006.000000</td>\n",
       "      <td>4.000000</td>\n",
       "      <td>70000.000000</td>\n",
       "      <td>1.0</td>\n",
       "      <td>19.00000</td>\n",
       "    </tr>\n",
       "    <tr>\n",
       "      <th>50%</th>\n",
       "      <td>9000.000000</td>\n",
       "      <td>2011.000000</td>\n",
       "      <td>6.000000</td>\n",
       "      <td>113000.000000</td>\n",
       "      <td>1.0</td>\n",
       "      <td>33.00000</td>\n",
       "    </tr>\n",
       "    <tr>\n",
       "      <th>75%</th>\n",
       "      <td>16839.000000</td>\n",
       "      <td>2014.000000</td>\n",
       "      <td>8.000000</td>\n",
       "      <td>155000.000000</td>\n",
       "      <td>1.0</td>\n",
       "      <td>53.00000</td>\n",
       "    </tr>\n",
       "    <tr>\n",
       "      <th>max</th>\n",
       "      <td>375000.000000</td>\n",
       "      <td>2019.000000</td>\n",
       "      <td>12.000000</td>\n",
       "      <td>990000.000000</td>\n",
       "      <td>1.0</td>\n",
       "      <td>271.00000</td>\n",
       "    </tr>\n",
       "  </tbody>\n",
       "</table>\n",
       "</div>"
      ],
      "text/plain": [
       "               price    model_year     cylinders       odometer   is_4wd  \\\n",
       "count   51525.000000  47906.000000  46265.000000   43633.000000  25572.0   \n",
       "mean    12132.464920   2009.750470      6.125235  115553.461738      1.0   \n",
       "std     10040.803015      6.282065      1.660360   65094.611341      0.0   \n",
       "min         1.000000   1908.000000      3.000000       0.000000      1.0   \n",
       "25%      5000.000000   2006.000000      4.000000   70000.000000      1.0   \n",
       "50%      9000.000000   2011.000000      6.000000  113000.000000      1.0   \n",
       "75%     16839.000000   2014.000000      8.000000  155000.000000      1.0   \n",
       "max    375000.000000   2019.000000     12.000000  990000.000000      1.0   \n",
       "\n",
       "       days_listed  \n",
       "count  51525.00000  \n",
       "mean      39.55476  \n",
       "std       28.20427  \n",
       "min        0.00000  \n",
       "25%       19.00000  \n",
       "50%       33.00000  \n",
       "75%       53.00000  \n",
       "max      271.00000  "
      ]
     },
     "execution_count": 9,
     "metadata": {},
     "output_type": "execute_result"
    }
   ],
   "source": [
    "# Calculating some statistical data \n",
    "data.describe()"
   ]
  },
  {
   "cell_type": "markdown",
   "metadata": {},
   "source": [
    "**Kesimpulan sementara:**\n",
    "\n",
    "* Kolom `price` terdapat nilai yang tidak wajar, yaitu min price adalah 1.000000 sehingga perlu dianalisis.\n",
    "* Kolom `transmission` dan `type` terdapat nilai other yang merupakan anomali sehingga perlu dianalisis lebih dalam.\n",
    "* Dataset tidak memiliki duplikat pada datanya.\n"
   ]
  },
  {
   "cell_type": "markdown",
   "metadata": {},
   "source": [
    "### Kesimpulan dan Langkah-Langkah Selanjutnya\n",
    "\n",
    "#### **Nilai yang Hilang**\n",
    "\n",
    "Setiap baris dalam tabel menyimpan data terkait harga sebuah mobil yang telah terjual. Sejumlah kolom menyimpan data yang mendeskripsikan mobil itu sendiri: tahun produksi, merk mobil, kondisi mobil, silinder mesin, tipe gas, jarak tembuh mobil, tipe transisi, tipe mobil, warna mobil, dan tipe kendaraan yang memiliki penggerak 4 roda. Sisanya menyimpan data terkait informasi mobil terjual: tanggal iklan ditayangkan serta hari iklan ditayangkan hingga dihapus.\n",
    "\n",
    "Jelas bahwa data yang kita miliki cukup untuk menguji hipotesis. Meski demikian, kita memiliki nilai-nilai yang hilang.\n",
    "\n",
    "* Nilai yang hilang dalam kolom `cylinders` dan `is_4wd` tidak begitu penting karena nilai yang hilang tersebut tidak berpengaruh terhadap penelitian. Cukup menggantinya dengan penanda yang jelas. \n",
    "* Nilai yang hilang dalam kolom `model_year`, `odometer`, dan `paint_color` dapat memengaruhi perbandingan harga sebuah kendaraan. Oleh sebab itu perlu dilakukan evaluasi mengenai seberapa besar nilai yang hilang dapat memengaruhi perhitungan.\n",
    "\n",
    "Alasan mengapa data tersebut hilang sangatlah berguna untuk mempelajari dan mencoba memperbaikinya namun sayangnya, kita belum memiliki kesempatan tersebut dalam proyek ini.\n",
    "\n",
    "#### **Gaya Penulisan**\n",
    "\n",
    "Setelah mengatasi nilai-nilai yang hilang, langkah selanjutnya yaitu merapihkan data:\n",
    "\n",
    "* Mengubah nilai pada kolom `model_year` menjadi integer.\n",
    "* Mengganti nilai pada kolom `condition` menjadi skala numerik.\n",
    "* Mengubah format dtype pada kolom `date_posted` menjadi format datetime64.\n",
    "* Akan lebih baik apabila terdapat data tentang hari dalam minggu, bulan, dan tahun iklan ditayangkan.\n",
    "* Menambahkan kolom baru tentang usia kendaraan (dalam tahun) ketika iklan ditayangkan dan jarak tempuh rata-rata kendaraan per tahun.\n",
    "\n",
    "#### **Duplikat**\n",
    "\n",
    "Selanjutnya memeriksa duplikat pada data. Namun, pada dataset ini tidak memiliki data duplikat pada data. Sehingga tidak perlu dilakukan analisis duplikat awal.\n",
    "\n",
    "#### **Anomali Data**\n",
    "\n",
    "Setelah memeriksa data duplikat perlu memepertimbangkan data anomali berikut, karena data tersebut mempengaruhi analisis penelitian.\n",
    "\n",
    "* Pada kolom `price` terdapat nilai harga mobil yang tidak wajar, yaitu 1.000000.\n",
    "* Pada kolom `transmission` dan `type` terdapat nilai **other** yang seharusnya diketahui karena merupakan data yang mendeskripsikan mobil itu sendiri."
   ]
  },
  {
   "cell_type": "markdown",
   "metadata": {},
   "source": [
    "### 1.3. Mengatasi Nilai-Nilai yang Hilang"
   ]
  },
  {
   "cell_type": "code",
   "execution_count": 10,
   "metadata": {},
   "outputs": [
    {
     "data": {
      "text/plain": [
       "is_4wd          25953\n",
       "paint_color      9267\n",
       "odometer         7892\n",
       "cylinders        5260\n",
       "model_year       3619\n",
       "price               0\n",
       "model               0\n",
       "condition           0\n",
       "fuel                0\n",
       "transmission        0\n",
       "type                0\n",
       "date_posted         0\n",
       "days_listed         0\n",
       "dtype: int64"
      ]
     },
     "execution_count": 10,
     "metadata": {},
     "output_type": "execute_result"
    }
   ],
   "source": [
    "# Check total missing values descending\n",
    "data.isna().sum().sort_values(ascending=False)"
   ]
  },
  {
   "cell_type": "markdown",
   "metadata": {},
   "source": [
    "**Langkah pertama** dalam menangani nilai-nilai yang hilang yaitu menghitung persentasenya serta dibandingkan dengan keseluruhan data untuk mengetahui dampak dari nilai-nilai yang hilang tersebut terhadap dataset."
   ]
  },
  {
   "cell_type": "code",
   "execution_count": 11,
   "metadata": {},
   "outputs": [
    {
     "name": "stdout",
     "output_type": "stream",
     "text": [
      "Kolom price: 0.00% nilai yang hilang.\n",
      "Kolom model_year: 7.02% nilai yang hilang.\n",
      "Kolom model: 0.00% nilai yang hilang.\n",
      "Kolom condition: 0.00% nilai yang hilang.\n",
      "Kolom cylinders: 10.21% nilai yang hilang.\n",
      "Kolom fuel: 0.00% nilai yang hilang.\n",
      "Kolom odometer: 15.32% nilai yang hilang.\n",
      "Kolom transmission: 0.00% nilai yang hilang.\n",
      "Kolom type: 0.00% nilai yang hilang.\n",
      "Kolom paint_color: 17.99% nilai yang hilang.\n",
      "Kolom is_4wd: 50.37% nilai yang hilang.\n",
      "Kolom date_posted: 0.00% nilai yang hilang.\n",
      "Kolom days_listed: 0.00% nilai yang hilang.\n"
     ]
    }
   ],
   "source": [
    "# Loop for checking the percentage of missing values per total values each column\n",
    "for col in data.columns:\n",
    "    missing = data[col].isnull().sum()\n",
    "    total = data[col].shape[0]\n",
    "    percent = (missing/total) * 100\n",
    "    print(f\"Kolom {col}: {percent:.2f}% nilai yang hilang.\")"
   ]
  },
  {
   "cell_type": "markdown",
   "metadata": {},
   "source": [
    "**Kesimpulan sementara:**\n",
    "\n",
    "* Persentase data yang hilang pada pada kolom `is_4wd` yaitu 50.37%.\n",
    "* Persentase data yang hilang pada pada kolom `paint_color` yaitu 17.99%. \n",
    "* Persentase data yang hilang pada pada kolom `odometer` yaitu 15.32%.\n",
    "* Persentase data yang hilang pada pada kolom `cylinders` yaitu 10.21%.\n",
    "* Persentase data yang hilang pada pada kolom `model_year` yaitu 7.02%.\n",
    "\n",
    "Dalam beberapa situasi, nilai yang hilang jika bagiannya tidak banyak (katakanlah, 5-10%), nilai tersebut dapat dihapus.\n"
   ]
  },
  {
   "cell_type": "markdown",
   "metadata": {},
   "source": [
    "**Langkah kedua** dalam menangani nilai-nilai yang hilang yaitu menentukan nilai yang hilang termasuk dalam variabel kategoris atau kuantitatif."
   ]
  },
  {
   "cell_type": "code",
   "execution_count": 12,
   "metadata": {},
   "outputs": [],
   "source": [
    "# Function for finding variable type each column\n",
    "def find_missing_variable_type(data):\n",
    "    \n",
    "    missing_variable_type = {}\n",
    "    \n",
    "    for col in data.columns:\n",
    "        unique_values = data[col].nunique()\n",
    "        \n",
    "        # If there are less than 400 unique values, assume the column is categorical\n",
    "        if unique_values < 400:\n",
    "            missing_variable_type[col] = \"kategoris\"\n",
    "        # Otherwise, assume the column is quantitative\n",
    "        else:\n",
    "            missing_variable_type[col] = \"kuantitatif\"\n",
    "    \n",
    "    return missing_variable_type"
   ]
  },
  {
   "cell_type": "code",
   "execution_count": 13,
   "metadata": {},
   "outputs": [
    {
     "name": "stdout",
     "output_type": "stream",
     "text": [
      "{'price': 'kuantitatif', 'model_year': 'kategoris', 'model': 'kategoris', 'condition': 'kategoris', 'cylinders': 'kategoris', 'fuel': 'kategoris', 'odometer': 'kuantitatif', 'transmission': 'kategoris', 'type': 'kategoris', 'paint_color': 'kategoris', 'is_4wd': 'kategoris', 'date_posted': 'kategoris', 'days_listed': 'kategoris'}\n"
     ]
    }
   ],
   "source": [
    "missing_variable_type = find_missing_variable_type(data)\n",
    "print(missing_variable_type)"
   ]
  },
  {
   "cell_type": "markdown",
   "metadata": {},
   "source": [
    "**Kesimpulan sementara:**\n",
    "\n",
    "* Kolom `is_4wd` memiliki nilai hilang yang termasuk variabel katagoris.\n",
    "* Kolom `paint_color` memiliki nilai hilang yang termasuk variabel kategoris. \n",
    "* Kolom `odometer` memiliki nilai hilang yang termasuk variabel kuantitatif.\n",
    "* Kolom `cylinders` memiliki nilai hilang yang termasuk variabel katagoris.\n",
    "* Kolom `model_year` memiliki nilai hilang yang termasuk variabel katagoris."
   ]
  },
  {
   "cell_type": "markdown",
   "metadata": {},
   "source": [
    "**Langkah ketiga** dalam menangani nilai-nilai yang hilang yaitu:\n",
    "\n",
    "\n",
    "1. Jika kategoris maka ditentukan apakah nilai yang hilang memiliki suatu pola. \n",
    "* Jika nilainya tidak terdapat pola, nilai tersebut dapat diganti dengan nilai default, seperti string kosong atau kata tertentu. \n",
    "* Jika berpola, maka perlu analisis lebih lanjut.\n",
    "\n",
    "\n",
    "2. Jika kuantitatif maka ditentukan apakah data memiliki outlier yang signifikan.\n",
    "* Jika tidak terdapat outlier yang signifikan, nilai tersebut dapat dihitung rata-rata data pada kolom atau seluruh dataset.\n",
    "* Jika data memiliki oulier yang signifikan, nilai tersebut dapat dihitung median data pada kolom atau seluruh dataset."
   ]
  },
  {
   "cell_type": "code",
   "execution_count": 14,
   "metadata": {},
   "outputs": [],
   "source": [
    "# Function for checking missing pattern\n",
    "def check_missing_pattern(data):\n",
    "    \n",
    "    missing_pattern = {}\n",
    "    \n",
    "    for col in data.columns:\n",
    "        # Create a boolean mask to identify missing values\n",
    "        mask = data[col].isnull()\n",
    "        # Get sum of missing values\n",
    "        missing = data[col].isnull().sum()\n",
    "        \n",
    "        # If there are no missing values, the pattern is \"none\"\n",
    "        if missing == 0:\n",
    "            missing_pattern[col] = \"none\"\n",
    "        # If there is a missing value, check if there is a pattern\n",
    "        else:\n",
    "            # Create a boolean mask to identify non-missing values\n",
    "            mask_not_missing = ~mask\n",
    "            # Count the number of unique values in a column\n",
    "            unique_values = data[col].nunique()\n",
    "            # If there are fewer unique values than missing values, the pattern is \"random\"\n",
    "            if unique_values < missing:\n",
    "                missing_pattern[col] = \"random\"\n",
    "            # Otherwise, the pattern is \"pattern\"\n",
    "            else:\n",
    "                missing_pattern[col] = \"pattern\"\n",
    "    \n",
    "    return missing_pattern\n"
   ]
  },
  {
   "cell_type": "code",
   "execution_count": 15,
   "metadata": {},
   "outputs": [
    {
     "name": "stdout",
     "output_type": "stream",
     "text": [
      "{'price': 'none', 'model_year': 'random', 'model': 'none', 'condition': 'none', 'cylinders': 'random', 'fuel': 'none', 'odometer': 'pattern', 'transmission': 'none', 'type': 'none', 'paint_color': 'random', 'is_4wd': 'random', 'date_posted': 'none', 'days_listed': 'none'}\n"
     ]
    }
   ],
   "source": [
    "# Check the missing pattern\n",
    "missing_pattern = check_missing_pattern(data)\n",
    "print(missing_pattern)"
   ]
  },
  {
   "cell_type": "markdown",
   "metadata": {},
   "source": [
    "**Kesimpulan sementara:**\n",
    "\n",
    "* Kolom `is_4wd` memiliki nilai hilang yang tidak berpola.\n",
    "* Kolom `paint_color` memiliki nilai tidak berpola. \n",
    "* Kolom `odometer` memiliki nilai hilang yang berpola.\n",
    "* Kolom `cylinders` memiliki nilai hilang yang tidak berpola.\n",
    "* Kolom `model_year` memiliki nilai hilang yang tidak berpola."
   ]
  },
  {
   "cell_type": "markdown",
   "metadata": {},
   "source": [
    "**Kolom `is_4wd`** memiliki nilai hilang sebesar 50.37% dengan variabel katagoris dan tidak berpola. Maka nilai hilang tersebut dapat diisi dengan nilai yang lainnya, yaitu 1.0."
   ]
  },
  {
   "cell_type": "code",
   "execution_count": 16,
   "metadata": {},
   "outputs": [],
   "source": [
    "# Filling the missing values with fillna()\n",
    "data['is_4wd'] = data['is_4wd'].fillna(1.0)"
   ]
  },
  {
   "cell_type": "markdown",
   "metadata": {},
   "source": [
    "**Kolom `paint_color`** memiliki nilai hilang sebesar 17.99% dengan variabel katagoris dan tidak berpola. Maka nilai hilang tersebut dapat diisi dengan nilai yang lainnya, 'unknown'."
   ]
  },
  {
   "cell_type": "code",
   "execution_count": 17,
   "metadata": {},
   "outputs": [],
   "source": [
    "# Filling the missing values with fillna()\n",
    "data['paint_color'] = data['paint_color'].fillna('unknown')"
   ]
  },
  {
   "cell_type": "markdown",
   "metadata": {},
   "source": [
    "**Kolom `odometer`** memiliki nilai hilang sebesar 15.32% dengan variabel kuantitatif. Maka nilai hilang tersebut ditentukan terlebih dahulu outliernya."
   ]
  },
  {
   "cell_type": "markdown",
   "metadata": {},
   "source": [
    "**Kolom `cylinders`** memiliki nilai hilang sebesar 10.21% dengan variabel katagoris dan tidak berpola. Maka nilai hilang tersebut dapat diisi dengan nilai yang lainnya, yaitu 0.0"
   ]
  },
  {
   "cell_type": "code",
   "execution_count": 18,
   "metadata": {},
   "outputs": [],
   "source": [
    "# Filling the missing values with fillna()\n",
    "data['cylinders'] = data['cylinders'].fillna(0.0)"
   ]
  },
  {
   "cell_type": "markdown",
   "metadata": {},
   "source": [
    "**Kolom `model_year`** memiliki nilai hilang sebesar 7.02% dengan variabel variabel katagoris dan tidak berpola. Maka nilai hilang tersebut dapat diisi dengan nilai yang lainnya. Namun karena kolom ini akan mempengaruhi penelitan, maka nilai hilang akan diisi dengan median. "
   ]
  },
  {
   "cell_type": "code",
   "execution_count": 19,
   "metadata": {},
   "outputs": [
    {
     "data": {
      "text/plain": [
       "odometer        7892\n",
       "model_year      3619\n",
       "price              0\n",
       "model              0\n",
       "condition          0\n",
       "cylinders          0\n",
       "fuel               0\n",
       "transmission       0\n",
       "type               0\n",
       "paint_color        0\n",
       "is_4wd             0\n",
       "date_posted        0\n",
       "days_listed        0\n",
       "dtype: int64"
      ]
     },
     "execution_count": 19,
     "metadata": {},
     "output_type": "execute_result"
    }
   ],
   "source": [
    "# Check the missing values descending\n",
    "data.isna().sum().sort_values(ascending=False)"
   ]
  },
  {
   "cell_type": "markdown",
   "metadata": {},
   "source": [
    "Nilai hilang pada tiap kolom sementara diisi dengan median untuk mempermudah riset penelitan. Hipotesis awal adalah nilai tersebut memiliki outlier yang signifikan. Data dibuat baru agar tidak mempengaruhi data awal."
   ]
  },
  {
   "cell_type": "code",
   "execution_count": 20,
   "metadata": {},
   "outputs": [],
   "source": [
    "# Create new dataset\n",
    "data_new = data.copy()\n",
    "\n",
    "# Function for filling missing values with median\n",
    "def fill_missing_value (dataframe, agg_column, value_column):\n",
    "    \n",
    "    # Calculates the median value for each group in the aggregation column\n",
    "    grouped_values = dataframe.groupby(agg_column)[value_column].median().reset_index()\n",
    "    \n",
    "    # Fill in the missing values in the column with the median value calculated for each group\n",
    "    dataframe[value_column] = dataframe[value_column].fillna(dataframe[agg_column].map(grouped_values.set_index(agg_column)[value_column]))\n",
    "    \n",
    "    return dataframe"
   ]
  },
  {
   "cell_type": "code",
   "execution_count": 21,
   "metadata": {},
   "outputs": [],
   "source": [
    "# Fill in the missing values in the odometer column\n",
    "data_new = fill_missing_value(data_new, 'condition', 'odometer')\n",
    "\n",
    "# Fill in the missing values in the model_year column\n",
    "data_new = fill_missing_value(data_new, 'model', 'model_year') \n"
   ]
  },
  {
   "cell_type": "code",
   "execution_count": 22,
   "metadata": {},
   "outputs": [
    {
     "data": {
      "text/plain": [
       "price           0\n",
       "model_year      0\n",
       "model           0\n",
       "condition       0\n",
       "cylinders       0\n",
       "fuel            0\n",
       "odometer        0\n",
       "transmission    0\n",
       "type            0\n",
       "paint_color     0\n",
       "is_4wd          0\n",
       "date_posted     0\n",
       "days_listed     0\n",
       "dtype: int64"
      ]
     },
     "execution_count": 22,
     "metadata": {},
     "output_type": "execute_result"
    }
   ],
   "source": [
    "# Check the missing values\n",
    "data_new.isna().sum()"
   ]
  },
  {
   "cell_type": "markdown",
   "metadata": {},
   "source": [
    "### 1.4. Memperbaiki Tipe Data"
   ]
  },
  {
   "cell_type": "markdown",
   "metadata": {},
   "source": [
    "Data pada kolom `model_year` diubah menjadi integer."
   ]
  },
  {
   "cell_type": "code",
   "execution_count": 23,
   "metadata": {},
   "outputs": [],
   "source": [
    "# Change the model_year type to integer\n",
    "data_new['model_year'] = data_new['model_year'].astype(int)"
   ]
  },
  {
   "cell_type": "markdown",
   "metadata": {},
   "source": [
    "Data pada kolom `condition` diubah menjadi skala numerik."
   ]
  },
  {
   "cell_type": "code",
   "execution_count": 24,
   "metadata": {},
   "outputs": [],
   "source": [
    "# Function to change the condition values into numeric scale\n",
    "def conditions(scale):   \n",
    "    if scale == 'new':\n",
    "        return 5\n",
    "    if scale == 'like new':\n",
    "        return 4\n",
    "    if scale == 'excellent':\n",
    "        return 3\n",
    "    if scale == 'good':\n",
    "        return 2\n",
    "    if scale == 'fair':\n",
    "        return 1\n",
    "    else:\n",
    "        return 0\n",
    "    return 'Unidentified' "
   ]
  },
  {
   "cell_type": "code",
   "execution_count": 25,
   "metadata": {},
   "outputs": [
    {
     "data": {
      "text/plain": [
       "3    24773\n",
       "2    20145\n",
       "4     4742\n",
       "1     1607\n",
       "5      143\n",
       "0      115\n",
       "Name: condition, dtype: int64"
      ]
     },
     "execution_count": 25,
     "metadata": {},
     "output_type": "execute_result"
    }
   ],
   "source": [
    "# Apply the function\n",
    "data_new['condition'] = data_new['condition'].apply(conditions)\n",
    "data_new['condition'].value_counts()"
   ]
  },
  {
   "cell_type": "markdown",
   "metadata": {},
   "source": [
    "Data pada kolom `date_posted` diubah formatnya menjadi format datetime64."
   ]
  },
  {
   "cell_type": "code",
   "execution_count": 26,
   "metadata": {},
   "outputs": [
    {
     "name": "stdout",
     "output_type": "stream",
     "text": [
      "<class 'pandas.core.frame.DataFrame'>\n",
      "RangeIndex: 51525 entries, 0 to 51524\n",
      "Data columns (total 13 columns):\n",
      " #   Column        Non-Null Count  Dtype         \n",
      "---  ------        --------------  -----         \n",
      " 0   price         51525 non-null  int64         \n",
      " 1   model_year    51525 non-null  int64         \n",
      " 2   model         51525 non-null  object        \n",
      " 3   condition     51525 non-null  int64         \n",
      " 4   cylinders     51525 non-null  float64       \n",
      " 5   fuel          51525 non-null  object        \n",
      " 6   odometer      51525 non-null  float64       \n",
      " 7   transmission  51525 non-null  object        \n",
      " 8   type          51525 non-null  object        \n",
      " 9   paint_color   51525 non-null  object        \n",
      " 10  is_4wd        51525 non-null  float64       \n",
      " 11  date_posted   51525 non-null  datetime64[ns]\n",
      " 12  days_listed   51525 non-null  int64         \n",
      "dtypes: datetime64[ns](1), float64(3), int64(4), object(5)\n",
      "memory usage: 5.1+ MB\n"
     ]
    }
   ],
   "source": [
    "# Change date_posted format to datetime64\n",
    "data_new['date_posted'] = pd.to_datetime(data_new['date_posted'], format='%Y-%m-%d')\n",
    "data_new.info()"
   ]
  },
  {
   "cell_type": "markdown",
   "metadata": {},
   "source": [
    "### 1.5. Memperbaiki Kualitas Data"
   ]
  },
  {
   "cell_type": "markdown",
   "metadata": {},
   "source": [
    "Menambahkan kolom hari dalam minggu, bulan, dan tahun iklan ditayangkan."
   ]
  },
  {
   "cell_type": "code",
   "execution_count": 27,
   "metadata": {},
   "outputs": [],
   "source": [
    "# Add day_of_week, month, and year column\n",
    "data_new['day_of_week'] = data_new['date_posted'].dt.day_name()\n",
    "data_new['month'] = data_new['date_posted'].dt.month_name()\n",
    "data_new['year'] = data_new['date_posted'].dt.year"
   ]
  },
  {
   "cell_type": "markdown",
   "metadata": {},
   "source": [
    "Menambahkan kolom usia kendaraan (dalam tahun) ketika iklan ditayangkan."
   ]
  },
  {
   "cell_type": "code",
   "execution_count": 28,
   "metadata": {},
   "outputs": [],
   "source": [
    "# Add car_age column\n",
    "data_new['car_age'] = (data_new['year'] + 1) - data_new['model_year']"
   ]
  },
  {
   "cell_type": "markdown",
   "metadata": {},
   "source": [
    "Menambahkan kolom jarak tempuh rata-rata kendaraan per tahun."
   ]
  },
  {
   "cell_type": "code",
   "execution_count": 29,
   "metadata": {},
   "outputs": [],
   "source": [
    "# Add avg_mileage column\n",
    "data_new['avg_mileage'] = data_new['odometer'] / data_new['car_age']"
   ]
  },
  {
   "cell_type": "markdown",
   "metadata": {},
   "source": [
    "## 2. Analisis Data Exploratif (EDA)"
   ]
  },
  {
   "cell_type": "markdown",
   "metadata": {},
   "source": [
    "### 2.1. Memeriksa Data yang Sudah Bersih"
   ]
  },
  {
   "cell_type": "code",
   "execution_count": 30,
   "metadata": {
    "scrolled": true
   },
   "outputs": [
    {
     "name": "stdout",
     "output_type": "stream",
     "text": [
      "<class 'pandas.core.frame.DataFrame'>\n",
      "RangeIndex: 51525 entries, 0 to 51524\n",
      "Data columns (total 18 columns):\n",
      " #   Column        Non-Null Count  Dtype         \n",
      "---  ------        --------------  -----         \n",
      " 0   price         51525 non-null  int64         \n",
      " 1   model_year    51525 non-null  int64         \n",
      " 2   model         51525 non-null  object        \n",
      " 3   condition     51525 non-null  int64         \n",
      " 4   cylinders     51525 non-null  float64       \n",
      " 5   fuel          51525 non-null  object        \n",
      " 6   odometer      51525 non-null  float64       \n",
      " 7   transmission  51525 non-null  object        \n",
      " 8   type          51525 non-null  object        \n",
      " 9   paint_color   51525 non-null  object        \n",
      " 10  is_4wd        51525 non-null  float64       \n",
      " 11  date_posted   51525 non-null  datetime64[ns]\n",
      " 12  days_listed   51525 non-null  int64         \n",
      " 13  day_of_week   51525 non-null  object        \n",
      " 14  month         51525 non-null  object        \n",
      " 15  year          51525 non-null  int64         \n",
      " 16  car_age       51525 non-null  int64         \n",
      " 17  avg_mileage   51525 non-null  float64       \n",
      "dtypes: datetime64[ns](1), float64(4), int64(6), object(7)\n",
      "memory usage: 7.1+ MB\n"
     ]
    }
   ],
   "source": [
    "# Check general data_new info\n",
    "data_new.info()"
   ]
  },
  {
   "cell_type": "code",
   "execution_count": 31,
   "metadata": {},
   "outputs": [
    {
     "data": {
      "text/html": [
       "<div>\n",
       "<style scoped>\n",
       "    .dataframe tbody tr th:only-of-type {\n",
       "        vertical-align: middle;\n",
       "    }\n",
       "\n",
       "    .dataframe tbody tr th {\n",
       "        vertical-align: top;\n",
       "    }\n",
       "\n",
       "    .dataframe thead th {\n",
       "        text-align: right;\n",
       "    }\n",
       "</style>\n",
       "<table border=\"1\" class=\"dataframe\">\n",
       "  <thead>\n",
       "    <tr style=\"text-align: right;\">\n",
       "      <th></th>\n",
       "      <th>price</th>\n",
       "      <th>model_year</th>\n",
       "      <th>model</th>\n",
       "      <th>condition</th>\n",
       "      <th>cylinders</th>\n",
       "      <th>fuel</th>\n",
       "      <th>odometer</th>\n",
       "      <th>transmission</th>\n",
       "      <th>type</th>\n",
       "      <th>paint_color</th>\n",
       "      <th>is_4wd</th>\n",
       "      <th>date_posted</th>\n",
       "      <th>days_listed</th>\n",
       "      <th>day_of_week</th>\n",
       "      <th>month</th>\n",
       "      <th>year</th>\n",
       "      <th>car_age</th>\n",
       "      <th>avg_mileage</th>\n",
       "    </tr>\n",
       "  </thead>\n",
       "  <tbody>\n",
       "    <tr>\n",
       "      <th>4771</th>\n",
       "      <td>69</td>\n",
       "      <td>2018</td>\n",
       "      <td>ford escape</td>\n",
       "      <td>3</td>\n",
       "      <td>4.0</td>\n",
       "      <td>gas</td>\n",
       "      <td>70057.0</td>\n",
       "      <td>automatic</td>\n",
       "      <td>SUV</td>\n",
       "      <td>white</td>\n",
       "      <td>1.0</td>\n",
       "      <td>2018-05-29</td>\n",
       "      <td>12</td>\n",
       "      <td>Tuesday</td>\n",
       "      <td>May</td>\n",
       "      <td>2018</td>\n",
       "      <td>1</td>\n",
       "      <td>70057.000000</td>\n",
       "    </tr>\n",
       "    <tr>\n",
       "      <th>50447</th>\n",
       "      <td>7500</td>\n",
       "      <td>2003</td>\n",
       "      <td>ford f-150</td>\n",
       "      <td>3</td>\n",
       "      <td>8.0</td>\n",
       "      <td>gas</td>\n",
       "      <td>140000.0</td>\n",
       "      <td>automatic</td>\n",
       "      <td>pickup</td>\n",
       "      <td>red</td>\n",
       "      <td>1.0</td>\n",
       "      <td>2018-09-23</td>\n",
       "      <td>4</td>\n",
       "      <td>Sunday</td>\n",
       "      <td>September</td>\n",
       "      <td>2018</td>\n",
       "      <td>16</td>\n",
       "      <td>8750.000000</td>\n",
       "    </tr>\n",
       "    <tr>\n",
       "      <th>41513</th>\n",
       "      <td>16490</td>\n",
       "      <td>2017</td>\n",
       "      <td>ford fusion</td>\n",
       "      <td>4</td>\n",
       "      <td>4.0</td>\n",
       "      <td>gas</td>\n",
       "      <td>40915.0</td>\n",
       "      <td>automatic</td>\n",
       "      <td>sedan</td>\n",
       "      <td>red</td>\n",
       "      <td>1.0</td>\n",
       "      <td>2018-07-26</td>\n",
       "      <td>26</td>\n",
       "      <td>Thursday</td>\n",
       "      <td>July</td>\n",
       "      <td>2018</td>\n",
       "      <td>2</td>\n",
       "      <td>20457.500000</td>\n",
       "    </tr>\n",
       "    <tr>\n",
       "      <th>29838</th>\n",
       "      <td>5888</td>\n",
       "      <td>2011</td>\n",
       "      <td>nissan sentra</td>\n",
       "      <td>3</td>\n",
       "      <td>4.0</td>\n",
       "      <td>gas</td>\n",
       "      <td>107000.0</td>\n",
       "      <td>automatic</td>\n",
       "      <td>sedan</td>\n",
       "      <td>unknown</td>\n",
       "      <td>1.0</td>\n",
       "      <td>2019-03-22</td>\n",
       "      <td>39</td>\n",
       "      <td>Friday</td>\n",
       "      <td>March</td>\n",
       "      <td>2019</td>\n",
       "      <td>9</td>\n",
       "      <td>11888.888889</td>\n",
       "    </tr>\n",
       "    <tr>\n",
       "      <th>38813</th>\n",
       "      <td>44750</td>\n",
       "      <td>2016</td>\n",
       "      <td>chevrolet tahoe</td>\n",
       "      <td>3</td>\n",
       "      <td>8.0</td>\n",
       "      <td>gas</td>\n",
       "      <td>24142.0</td>\n",
       "      <td>automatic</td>\n",
       "      <td>SUV</td>\n",
       "      <td>white</td>\n",
       "      <td>1.0</td>\n",
       "      <td>2018-08-07</td>\n",
       "      <td>28</td>\n",
       "      <td>Tuesday</td>\n",
       "      <td>August</td>\n",
       "      <td>2018</td>\n",
       "      <td>3</td>\n",
       "      <td>8047.333333</td>\n",
       "    </tr>\n",
       "    <tr>\n",
       "      <th>11421</th>\n",
       "      <td>9500</td>\n",
       "      <td>2010</td>\n",
       "      <td>ram 1500</td>\n",
       "      <td>3</td>\n",
       "      <td>8.0</td>\n",
       "      <td>gas</td>\n",
       "      <td>169000.0</td>\n",
       "      <td>automatic</td>\n",
       "      <td>pickup</td>\n",
       "      <td>white</td>\n",
       "      <td>1.0</td>\n",
       "      <td>2018-05-24</td>\n",
       "      <td>45</td>\n",
       "      <td>Thursday</td>\n",
       "      <td>May</td>\n",
       "      <td>2018</td>\n",
       "      <td>9</td>\n",
       "      <td>18777.777778</td>\n",
       "    </tr>\n",
       "    <tr>\n",
       "      <th>4268</th>\n",
       "      <td>22100</td>\n",
       "      <td>2013</td>\n",
       "      <td>ford f150 supercrew cab xlt</td>\n",
       "      <td>2</td>\n",
       "      <td>6.0</td>\n",
       "      <td>gas</td>\n",
       "      <td>80854.0</td>\n",
       "      <td>other</td>\n",
       "      <td>pickup</td>\n",
       "      <td>white</td>\n",
       "      <td>1.0</td>\n",
       "      <td>2018-12-31</td>\n",
       "      <td>70</td>\n",
       "      <td>Monday</td>\n",
       "      <td>December</td>\n",
       "      <td>2018</td>\n",
       "      <td>6</td>\n",
       "      <td>13475.666667</td>\n",
       "    </tr>\n",
       "    <tr>\n",
       "      <th>14693</th>\n",
       "      <td>400</td>\n",
       "      <td>1999</td>\n",
       "      <td>honda accord</td>\n",
       "      <td>1</td>\n",
       "      <td>0.0</td>\n",
       "      <td>gas</td>\n",
       "      <td>100000.0</td>\n",
       "      <td>other</td>\n",
       "      <td>coupe</td>\n",
       "      <td>orange</td>\n",
       "      <td>1.0</td>\n",
       "      <td>2018-07-02</td>\n",
       "      <td>11</td>\n",
       "      <td>Monday</td>\n",
       "      <td>July</td>\n",
       "      <td>2018</td>\n",
       "      <td>20</td>\n",
       "      <td>5000.000000</td>\n",
       "    </tr>\n",
       "    <tr>\n",
       "      <th>33652</th>\n",
       "      <td>9999</td>\n",
       "      <td>2012</td>\n",
       "      <td>chrysler 300</td>\n",
       "      <td>3</td>\n",
       "      <td>6.0</td>\n",
       "      <td>gas</td>\n",
       "      <td>144652.0</td>\n",
       "      <td>automatic</td>\n",
       "      <td>sedan</td>\n",
       "      <td>unknown</td>\n",
       "      <td>1.0</td>\n",
       "      <td>2018-12-19</td>\n",
       "      <td>12</td>\n",
       "      <td>Wednesday</td>\n",
       "      <td>December</td>\n",
       "      <td>2018</td>\n",
       "      <td>7</td>\n",
       "      <td>20664.571429</td>\n",
       "    </tr>\n",
       "    <tr>\n",
       "      <th>50487</th>\n",
       "      <td>9995</td>\n",
       "      <td>2013</td>\n",
       "      <td>honda pilot</td>\n",
       "      <td>2</td>\n",
       "      <td>6.0</td>\n",
       "      <td>gas</td>\n",
       "      <td>127914.0</td>\n",
       "      <td>automatic</td>\n",
       "      <td>SUV</td>\n",
       "      <td>grey</td>\n",
       "      <td>1.0</td>\n",
       "      <td>2018-07-10</td>\n",
       "      <td>30</td>\n",
       "      <td>Tuesday</td>\n",
       "      <td>July</td>\n",
       "      <td>2018</td>\n",
       "      <td>6</td>\n",
       "      <td>21319.000000</td>\n",
       "    </tr>\n",
       "  </tbody>\n",
       "</table>\n",
       "</div>"
      ],
      "text/plain": [
       "       price  model_year                        model  condition  cylinders  \\\n",
       "4771      69        2018                  ford escape          3        4.0   \n",
       "50447   7500        2003                   ford f-150          3        8.0   \n",
       "41513  16490        2017                  ford fusion          4        4.0   \n",
       "29838   5888        2011                nissan sentra          3        4.0   \n",
       "38813  44750        2016              chevrolet tahoe          3        8.0   \n",
       "11421   9500        2010                     ram 1500          3        8.0   \n",
       "4268   22100        2013  ford f150 supercrew cab xlt          2        6.0   \n",
       "14693    400        1999                 honda accord          1        0.0   \n",
       "33652   9999        2012                 chrysler 300          3        6.0   \n",
       "50487   9995        2013                  honda pilot          2        6.0   \n",
       "\n",
       "      fuel  odometer transmission    type paint_color  is_4wd date_posted  \\\n",
       "4771   gas   70057.0    automatic     SUV       white     1.0  2018-05-29   \n",
       "50447  gas  140000.0    automatic  pickup         red     1.0  2018-09-23   \n",
       "41513  gas   40915.0    automatic   sedan         red     1.0  2018-07-26   \n",
       "29838  gas  107000.0    automatic   sedan     unknown     1.0  2019-03-22   \n",
       "38813  gas   24142.0    automatic     SUV       white     1.0  2018-08-07   \n",
       "11421  gas  169000.0    automatic  pickup       white     1.0  2018-05-24   \n",
       "4268   gas   80854.0        other  pickup       white     1.0  2018-12-31   \n",
       "14693  gas  100000.0        other   coupe      orange     1.0  2018-07-02   \n",
       "33652  gas  144652.0    automatic   sedan     unknown     1.0  2018-12-19   \n",
       "50487  gas  127914.0    automatic     SUV        grey     1.0  2018-07-10   \n",
       "\n",
       "       days_listed day_of_week      month  year  car_age   avg_mileage  \n",
       "4771            12     Tuesday        May  2018        1  70057.000000  \n",
       "50447            4      Sunday  September  2018       16   8750.000000  \n",
       "41513           26    Thursday       July  2018        2  20457.500000  \n",
       "29838           39      Friday      March  2019        9  11888.888889  \n",
       "38813           28     Tuesday     August  2018        3   8047.333333  \n",
       "11421           45    Thursday        May  2018        9  18777.777778  \n",
       "4268            70      Monday   December  2018        6  13475.666667  \n",
       "14693           11      Monday       July  2018       20   5000.000000  \n",
       "33652           12   Wednesday   December  2018        7  20664.571429  \n",
       "50487           30     Tuesday       July  2018        6  21319.000000  "
      ]
     },
     "execution_count": 31,
     "metadata": {},
     "output_type": "execute_result"
    }
   ],
   "source": [
    "# Check 10 sample\n",
    "data_new.sample(10)"
   ]
  },
  {
   "cell_type": "code",
   "execution_count": 32,
   "metadata": {},
   "outputs": [
    {
     "data": {
      "text/html": [
       "<div>\n",
       "<style scoped>\n",
       "    .dataframe tbody tr th:only-of-type {\n",
       "        vertical-align: middle;\n",
       "    }\n",
       "\n",
       "    .dataframe tbody tr th {\n",
       "        vertical-align: top;\n",
       "    }\n",
       "\n",
       "    .dataframe thead th {\n",
       "        text-align: right;\n",
       "    }\n",
       "</style>\n",
       "<table border=\"1\" class=\"dataframe\">\n",
       "  <thead>\n",
       "    <tr style=\"text-align: right;\">\n",
       "      <th></th>\n",
       "      <th>price</th>\n",
       "      <th>model_year</th>\n",
       "      <th>condition</th>\n",
       "      <th>cylinders</th>\n",
       "      <th>odometer</th>\n",
       "      <th>is_4wd</th>\n",
       "      <th>days_listed</th>\n",
       "      <th>year</th>\n",
       "      <th>car_age</th>\n",
       "      <th>avg_mileage</th>\n",
       "    </tr>\n",
       "  </thead>\n",
       "  <tbody>\n",
       "    <tr>\n",
       "      <th>count</th>\n",
       "      <td>51525.000000</td>\n",
       "      <td>51525.000000</td>\n",
       "      <td>51525.000000</td>\n",
       "      <td>51525.000000</td>\n",
       "      <td>51525.000000</td>\n",
       "      <td>51525.0</td>\n",
       "      <td>51525.00000</td>\n",
       "      <td>51525.000000</td>\n",
       "      <td>51525.000000</td>\n",
       "      <td>51525.000000</td>\n",
       "    </tr>\n",
       "    <tr>\n",
       "      <th>mean</th>\n",
       "      <td>12132.464920</td>\n",
       "      <td>2009.793557</td>\n",
       "      <td>2.637535</td>\n",
       "      <td>5.499932</td>\n",
       "      <td>115199.014508</td>\n",
       "      <td>1.0</td>\n",
       "      <td>39.55476</td>\n",
       "      <td>2018.307462</td>\n",
       "      <td>9.513906</td>\n",
       "      <td>15378.482765</td>\n",
       "    </tr>\n",
       "    <tr>\n",
       "      <th>std</th>\n",
       "      <td>10040.803015</td>\n",
       "      <td>6.099381</td>\n",
       "      <td>0.712447</td>\n",
       "      <td>2.431985</td>\n",
       "      <td>60484.863376</td>\n",
       "      <td>0.0</td>\n",
       "      <td>28.20427</td>\n",
       "      <td>0.461447</td>\n",
       "      <td>6.112976</td>\n",
       "      <td>11808.757090</td>\n",
       "    </tr>\n",
       "    <tr>\n",
       "      <th>min</th>\n",
       "      <td>1.000000</td>\n",
       "      <td>1908.000000</td>\n",
       "      <td>0.000000</td>\n",
       "      <td>0.000000</td>\n",
       "      <td>0.000000</td>\n",
       "      <td>1.0</td>\n",
       "      <td>0.00000</td>\n",
       "      <td>2018.000000</td>\n",
       "      <td>1.000000</td>\n",
       "      <td>0.000000</td>\n",
       "    </tr>\n",
       "    <tr>\n",
       "      <th>25%</th>\n",
       "      <td>5000.000000</td>\n",
       "      <td>2007.000000</td>\n",
       "      <td>2.000000</td>\n",
       "      <td>4.000000</td>\n",
       "      <td>75668.000000</td>\n",
       "      <td>1.0</td>\n",
       "      <td>19.00000</td>\n",
       "      <td>2018.000000</td>\n",
       "      <td>5.000000</td>\n",
       "      <td>9363.636364</td>\n",
       "    </tr>\n",
       "    <tr>\n",
       "      <th>50%</th>\n",
       "      <td>9000.000000</td>\n",
       "      <td>2011.000000</td>\n",
       "      <td>3.000000</td>\n",
       "      <td>6.000000</td>\n",
       "      <td>110908.000000</td>\n",
       "      <td>1.0</td>\n",
       "      <td>33.00000</td>\n",
       "      <td>2018.000000</td>\n",
       "      <td>9.000000</td>\n",
       "      <td>13036.181818</td>\n",
       "    </tr>\n",
       "    <tr>\n",
       "      <th>75%</th>\n",
       "      <td>16839.000000</td>\n",
       "      <td>2014.000000</td>\n",
       "      <td>3.000000</td>\n",
       "      <td>8.000000</td>\n",
       "      <td>147821.000000</td>\n",
       "      <td>1.0</td>\n",
       "      <td>53.00000</td>\n",
       "      <td>2019.000000</td>\n",
       "      <td>13.000000</td>\n",
       "      <td>18222.222222</td>\n",
       "    </tr>\n",
       "    <tr>\n",
       "      <th>max</th>\n",
       "      <td>375000.000000</td>\n",
       "      <td>2019.000000</td>\n",
       "      <td>5.000000</td>\n",
       "      <td>12.000000</td>\n",
       "      <td>990000.000000</td>\n",
       "      <td>1.0</td>\n",
       "      <td>271.00000</td>\n",
       "      <td>2019.000000</td>\n",
       "      <td>111.000000</td>\n",
       "      <td>373200.000000</td>\n",
       "    </tr>\n",
       "  </tbody>\n",
       "</table>\n",
       "</div>"
      ],
      "text/plain": [
       "               price    model_year     condition     cylinders       odometer  \\\n",
       "count   51525.000000  51525.000000  51525.000000  51525.000000   51525.000000   \n",
       "mean    12132.464920   2009.793557      2.637535      5.499932  115199.014508   \n",
       "std     10040.803015      6.099381      0.712447      2.431985   60484.863376   \n",
       "min         1.000000   1908.000000      0.000000      0.000000       0.000000   \n",
       "25%      5000.000000   2007.000000      2.000000      4.000000   75668.000000   \n",
       "50%      9000.000000   2011.000000      3.000000      6.000000  110908.000000   \n",
       "75%     16839.000000   2014.000000      3.000000      8.000000  147821.000000   \n",
       "max    375000.000000   2019.000000      5.000000     12.000000  990000.000000   \n",
       "\n",
       "        is_4wd  days_listed          year       car_age    avg_mileage  \n",
       "count  51525.0  51525.00000  51525.000000  51525.000000   51525.000000  \n",
       "mean       1.0     39.55476   2018.307462      9.513906   15378.482765  \n",
       "std        0.0     28.20427      0.461447      6.112976   11808.757090  \n",
       "min        1.0      0.00000   2018.000000      1.000000       0.000000  \n",
       "25%        1.0     19.00000   2018.000000      5.000000    9363.636364  \n",
       "50%        1.0     33.00000   2018.000000      9.000000   13036.181818  \n",
       "75%        1.0     53.00000   2019.000000     13.000000   18222.222222  \n",
       "max        1.0    271.00000   2019.000000    111.000000  373200.000000  "
      ]
     },
     "execution_count": 32,
     "metadata": {},
     "output_type": "execute_result"
    }
   ],
   "source": [
    "# Calculating some statistical data\n",
    "data_new.describe()"
   ]
  },
  {
   "cell_type": "markdown",
   "metadata": {},
   "source": [
    "### 2.2. Mempelajari Parameter Inti "
   ]
  },
  {
   "cell_type": "markdown",
   "metadata": {},
   "source": [
    "Untuk mempelajari outlier memengaruhi bentuk dan kemudahan pembacaan analisis, dilakukan pendekatan kepada beberapa parameter berikut:\n",
    "\n",
    "- Harga,\n",
    "- Usia kendaraan ketika iklan ditayangkan,\n",
    "- Jarak tempuh,\n",
    "- Kondisi, dan\n",
    "- Jumlah silinder "
   ]
  },
  {
   "cell_type": "code",
   "execution_count": 33,
   "metadata": {},
   "outputs": [
    {
     "data": {
      "text/html": [
       "<div>\n",
       "<style scoped>\n",
       "    .dataframe tbody tr th:only-of-type {\n",
       "        vertical-align: middle;\n",
       "    }\n",
       "\n",
       "    .dataframe tbody tr th {\n",
       "        vertical-align: top;\n",
       "    }\n",
       "\n",
       "    .dataframe thead th {\n",
       "        text-align: right;\n",
       "    }\n",
       "</style>\n",
       "<table border=\"1\" class=\"dataframe\">\n",
       "  <thead>\n",
       "    <tr style=\"text-align: right;\">\n",
       "      <th></th>\n",
       "      <th>price</th>\n",
       "      <th>car_age</th>\n",
       "      <th>avg_mileage</th>\n",
       "      <th>condition</th>\n",
       "      <th>cylinders</th>\n",
       "    </tr>\n",
       "  </thead>\n",
       "  <tbody>\n",
       "    <tr>\n",
       "      <th>count</th>\n",
       "      <td>51525.000000</td>\n",
       "      <td>51525.000000</td>\n",
       "      <td>51525.000000</td>\n",
       "      <td>51525.000000</td>\n",
       "      <td>51525.000000</td>\n",
       "    </tr>\n",
       "    <tr>\n",
       "      <th>mean</th>\n",
       "      <td>12132.464920</td>\n",
       "      <td>9.513906</td>\n",
       "      <td>15378.482765</td>\n",
       "      <td>2.637535</td>\n",
       "      <td>5.499932</td>\n",
       "    </tr>\n",
       "    <tr>\n",
       "      <th>std</th>\n",
       "      <td>10040.803015</td>\n",
       "      <td>6.112976</td>\n",
       "      <td>11808.757090</td>\n",
       "      <td>0.712447</td>\n",
       "      <td>2.431985</td>\n",
       "    </tr>\n",
       "    <tr>\n",
       "      <th>min</th>\n",
       "      <td>1.000000</td>\n",
       "      <td>1.000000</td>\n",
       "      <td>0.000000</td>\n",
       "      <td>0.000000</td>\n",
       "      <td>0.000000</td>\n",
       "    </tr>\n",
       "    <tr>\n",
       "      <th>25%</th>\n",
       "      <td>5000.000000</td>\n",
       "      <td>5.000000</td>\n",
       "      <td>9363.636364</td>\n",
       "      <td>2.000000</td>\n",
       "      <td>4.000000</td>\n",
       "    </tr>\n",
       "    <tr>\n",
       "      <th>50%</th>\n",
       "      <td>9000.000000</td>\n",
       "      <td>9.000000</td>\n",
       "      <td>13036.181818</td>\n",
       "      <td>3.000000</td>\n",
       "      <td>6.000000</td>\n",
       "    </tr>\n",
       "    <tr>\n",
       "      <th>75%</th>\n",
       "      <td>16839.000000</td>\n",
       "      <td>13.000000</td>\n",
       "      <td>18222.222222</td>\n",
       "      <td>3.000000</td>\n",
       "      <td>8.000000</td>\n",
       "    </tr>\n",
       "    <tr>\n",
       "      <th>max</th>\n",
       "      <td>375000.000000</td>\n",
       "      <td>111.000000</td>\n",
       "      <td>373200.000000</td>\n",
       "      <td>5.000000</td>\n",
       "      <td>12.000000</td>\n",
       "    </tr>\n",
       "  </tbody>\n",
       "</table>\n",
       "</div>"
      ],
      "text/plain": [
       "               price       car_age    avg_mileage     condition     cylinders\n",
       "count   51525.000000  51525.000000   51525.000000  51525.000000  51525.000000\n",
       "mean    12132.464920      9.513906   15378.482765      2.637535      5.499932\n",
       "std     10040.803015      6.112976   11808.757090      0.712447      2.431985\n",
       "min         1.000000      1.000000       0.000000      0.000000      0.000000\n",
       "25%      5000.000000      5.000000    9363.636364      2.000000      4.000000\n",
       "50%      9000.000000      9.000000   13036.181818      3.000000      6.000000\n",
       "75%     16839.000000     13.000000   18222.222222      3.000000      8.000000\n",
       "max    375000.000000    111.000000  373200.000000      5.000000     12.000000"
      ]
     },
     "execution_count": 33,
     "metadata": {},
     "output_type": "execute_result"
    }
   ],
   "source": [
    "# Calculating some statistical data\n",
    "data_new[['price', 'car_age', 'avg_mileage', 'condition', 'cylinders']].describe()"
   ]
  },
  {
   "cell_type": "markdown",
   "metadata": {},
   "source": [
    "Berikut beberapa pertanyaan-pertanyaan dasar untuk memeriksa keakuratan data:\n",
    "\n",
    "* Berapa jumlah mobil terjual yang tercatat dalam data?\n",
    "* Berapa banyak model yang diamati?\n",
    "* Berapa jumlah mobil yang terjual per harinya?\n",
    "* Model mobil mana yang paling populer?\n",
    "* Pada hari apa mobil paling banyak terjual?"
   ]
  },
  {
   "cell_type": "code",
   "execution_count": 34,
   "metadata": {},
   "outputs": [
    {
     "name": "stdout",
     "output_type": "stream",
     "text": [
      "Jawaban pertanyaan dasar tersebut yaitu:\n",
      "Jumlah mobil terjual: 51525\n",
      "Jumlah model mobil: 100\n",
      "Rentang tanggal data diambil: 2018-05-01 00:00:00 hingga 2019-04-19\n",
      "Jumlah mobil terjual per hari: 73.60714285714286\n",
      "Mobil paling populer yaitu: ford f-150                  2796\n",
      "chevrolet silverado 1500    2171\n",
      "Name: model, dtype: int64\n",
      "Hari paling ramai yaitu: Thursday    7510\n",
      "Name: day_of_week, dtype: int64\n"
     ]
    }
   ],
   "source": [
    "# Ansewering basic question\n",
    "print('Jawaban pertanyaan dasar tersebut yaitu:')\n",
    "total_car_sold = data_new.shape[0]\n",
    "print('Jumlah mobil terjual:', total_car_sold)\n",
    "total_model_car = len(data_new['model'].unique())\n",
    "print('Jumlah model mobil:', total_model_car)\n",
    "print('Rentang tanggal data diambil:', data_new['date_posted'].min(),'hingga', data['date_posted'].max())\n",
    "total_days = 7 # simpan jumlah hari observasi\n",
    "car_sold_per_day =  total_car_sold/total_model_car/total_days\n",
    "print('Jumlah mobil terjual per hari:', car_sold_per_day)\n",
    "print('Mobil paling populer yaitu:',data_new['model'].value_counts().head(2))\n",
    "print('Hari paling ramai yaitu:', data_new['day_of_week'].value_counts().head(1))"
   ]
  },
  {
   "cell_type": "markdown",
   "metadata": {},
   "source": [
    "Pemeriksaan selanjutnya akan menggunakan diagram data. Setiap batang atau bar yang ada pada diagram merepresentasikan sebuah nilai: semakin tinggi nilainya, semakin tinggi pula batangnya. Perbedaan antar nilai dapat terlihat dengan jelas."
   ]
  },
  {
   "cell_type": "code",
   "execution_count": 35,
   "metadata": {},
   "outputs": [
    {
     "data": {
      "text/html": [
       "<div>\n",
       "<style scoped>\n",
       "    .dataframe tbody tr th:only-of-type {\n",
       "        vertical-align: middle;\n",
       "    }\n",
       "\n",
       "    .dataframe tbody tr th {\n",
       "        vertical-align: top;\n",
       "    }\n",
       "\n",
       "    .dataframe thead th {\n",
       "        text-align: right;\n",
       "    }\n",
       "</style>\n",
       "<table border=\"1\" class=\"dataframe\">\n",
       "  <thead>\n",
       "    <tr style=\"text-align: right;\">\n",
       "      <th></th>\n",
       "      <th>price</th>\n",
       "      <th>car_age</th>\n",
       "      <th>avg_mileage</th>\n",
       "      <th>condition</th>\n",
       "      <th>cylinders</th>\n",
       "    </tr>\n",
       "  </thead>\n",
       "  <tbody>\n",
       "    <tr>\n",
       "      <th>0</th>\n",
       "      <td>9400</td>\n",
       "      <td>8</td>\n",
       "      <td>18125.000000</td>\n",
       "      <td>2</td>\n",
       "      <td>6.0</td>\n",
       "    </tr>\n",
       "    <tr>\n",
       "      <th>1</th>\n",
       "      <td>25500</td>\n",
       "      <td>8</td>\n",
       "      <td>11088.125000</td>\n",
       "      <td>2</td>\n",
       "      <td>6.0</td>\n",
       "    </tr>\n",
       "    <tr>\n",
       "      <th>2</th>\n",
       "      <td>5500</td>\n",
       "      <td>7</td>\n",
       "      <td>15714.285714</td>\n",
       "      <td>4</td>\n",
       "      <td>4.0</td>\n",
       "    </tr>\n",
       "    <tr>\n",
       "      <th>3</th>\n",
       "      <td>1500</td>\n",
       "      <td>17</td>\n",
       "      <td>10683.117647</td>\n",
       "      <td>1</td>\n",
       "      <td>8.0</td>\n",
       "    </tr>\n",
       "    <tr>\n",
       "      <th>4</th>\n",
       "      <td>14900</td>\n",
       "      <td>3</td>\n",
       "      <td>26967.666667</td>\n",
       "      <td>3</td>\n",
       "      <td>4.0</td>\n",
       "    </tr>\n",
       "    <tr>\n",
       "      <th>...</th>\n",
       "      <td>...</td>\n",
       "      <td>...</td>\n",
       "      <td>...</td>\n",
       "      <td>...</td>\n",
       "      <td>...</td>\n",
       "    </tr>\n",
       "    <tr>\n",
       "      <th>51520</th>\n",
       "      <td>9249</td>\n",
       "      <td>6</td>\n",
       "      <td>14689.333333</td>\n",
       "      <td>4</td>\n",
       "      <td>6.0</td>\n",
       "    </tr>\n",
       "    <tr>\n",
       "      <th>51521</th>\n",
       "      <td>2700</td>\n",
       "      <td>17</td>\n",
       "      <td>10676.470588</td>\n",
       "      <td>0</td>\n",
       "      <td>4.0</td>\n",
       "    </tr>\n",
       "    <tr>\n",
       "      <th>51522</th>\n",
       "      <td>3950</td>\n",
       "      <td>10</td>\n",
       "      <td>12800.000000</td>\n",
       "      <td>3</td>\n",
       "      <td>4.0</td>\n",
       "    </tr>\n",
       "    <tr>\n",
       "      <th>51523</th>\n",
       "      <td>7455</td>\n",
       "      <td>6</td>\n",
       "      <td>23262.166667</td>\n",
       "      <td>2</td>\n",
       "      <td>4.0</td>\n",
       "    </tr>\n",
       "    <tr>\n",
       "      <th>51524</th>\n",
       "      <td>6300</td>\n",
       "      <td>5</td>\n",
       "      <td>25800.000000</td>\n",
       "      <td>2</td>\n",
       "      <td>4.0</td>\n",
       "    </tr>\n",
       "  </tbody>\n",
       "</table>\n",
       "<p>51525 rows × 5 columns</p>\n",
       "</div>"
      ],
      "text/plain": [
       "       price  car_age   avg_mileage  condition  cylinders\n",
       "0       9400        8  18125.000000          2        6.0\n",
       "1      25500        8  11088.125000          2        6.0\n",
       "2       5500        7  15714.285714          4        4.0\n",
       "3       1500       17  10683.117647          1        8.0\n",
       "4      14900        3  26967.666667          3        4.0\n",
       "...      ...      ...           ...        ...        ...\n",
       "51520   9249        6  14689.333333          4        6.0\n",
       "51521   2700       17  10676.470588          0        4.0\n",
       "51522   3950       10  12800.000000          3        4.0\n",
       "51523   7455        6  23262.166667          2        4.0\n",
       "51524   6300        5  25800.000000          2        4.0\n",
       "\n",
       "[51525 rows x 5 columns]"
      ]
     },
     "execution_count": 35,
     "metadata": {},
     "output_type": "execute_result"
    }
   ],
   "source": [
    "# Calculating some statistical data\n",
    "data_new[['price', 'car_age', 'avg_mileage', 'condition', 'cylinders']]"
   ]
  },
  {
   "cell_type": "markdown",
   "metadata": {},
   "source": [
    "Kolom `price` dan `odometer` memiliki variabel kuantitatif. Maka diagram Histogram dan Boxplot dapat digunakan."
   ]
  },
  {
   "cell_type": "code",
   "execution_count": 36,
   "metadata": {},
   "outputs": [
    {
     "data": {
      "image/png": "[encoded data removed]",
      "text/plain": [
       "<Figure size 432x288 with 1 Axes>"
      ]
     },
     "metadata": {
      "needs_background": "light"
     },
     "output_type": "display_data"
    },
    {
     "data": {
      "image/png": "[encoded data removed]",
      "text/plain": [
       "<Figure size 432x288 with 1 Axes>"
      ]
     },
     "metadata": {
      "needs_background": "light"
     },
     "output_type": "display_data"
    }
   ],
   "source": [
    "kuantitatif_column = ['price', 'avg_mileage']\n",
    "\n",
    "for column in kuantitatif_column:\n",
    "    # Create a figure and axis\n",
    "    fig, ax = plt.subplots()\n",
    "\n",
    "    # Plot a histogram for the column\n",
    "    ax.hist(data_new[column], bins=100)\n",
    "\n",
    "    # Set the x-axis and y-axis labels\n",
    "    plt.xlabel('')\n",
    "    plt.ylabel('Jumlah Iklan')\n",
    "    plt.title(column)\n",
    "\n",
    "    # Show the plot\n",
    "    plt.show()"
   ]
  },
  {
   "cell_type": "markdown",
   "metadata": {},
   "source": [
    "**Kesimpulan sementara:**\n",
    "\n",
    "* Sebagian besar histogram nilainya mendekati nol. Berdasarkan histogram harga median, dapat disimpulkan bahwa ini adalah outlier. Nilai-nilai yang berada pada angka 0 ini bukanlah harga yang sebenarnya; melainkan adalah perhitungan yang salah — mereka mungkin mewakili para penjual yang mengambil harga murah untuk menarik pelanggan secara iklan dan bukan harga asli saat transaksi, atau semacamnya.\n",
    "\n",
    "* Nilai yang mendekati nol pada kolom `avg_mileage` tidak menjadi masalah, karena mobil bisa memiliki odometer yang masih nol atau belum dipakai.\n"
   ]
  },
  {
   "cell_type": "code",
   "execution_count": 37,
   "metadata": {
    "scrolled": true
   },
   "outputs": [
    {
     "data": {
      "image/png": "[encoded data removed]",
      "text/plain": [
       "<Figure size 432x288 with 1 Axes>"
      ]
     },
     "metadata": {
      "needs_background": "light"
     },
     "output_type": "display_data"
    },
    {
     "data": {
      "image/png": "[encoded data removed]",
      "text/plain": [
       "<Figure size 432x288 with 1 Axes>"
      ]
     },
     "metadata": {
      "needs_background": "light"
     },
     "output_type": "display_data"
    }
   ],
   "source": [
    "for column in kuantitatif_column:\n",
    "    # Create a figure and axis\n",
    "    fig, ax = plt.subplots()\n",
    "\n",
    "    # Plot a boxplot for the column\n",
    "    ax.boxplot(data_new[column])\n",
    "\n",
    "    plt.xlabel('')\n",
    "    plt.ylabel(column)\n",
    "\n",
    "    # Show the plot\n",
    "    plt.show()"
   ]
  },
  {
   "cell_type": "code",
   "execution_count": 38,
   "metadata": {},
   "outputs": [
    {
     "data": {
      "text/html": [
       "<div>\n",
       "<style scoped>\n",
       "    .dataframe tbody tr th:only-of-type {\n",
       "        vertical-align: middle;\n",
       "    }\n",
       "\n",
       "    .dataframe tbody tr th {\n",
       "        vertical-align: top;\n",
       "    }\n",
       "\n",
       "    .dataframe thead th {\n",
       "        text-align: right;\n",
       "    }\n",
       "</style>\n",
       "<table border=\"1\" class=\"dataframe\">\n",
       "  <thead>\n",
       "    <tr style=\"text-align: right;\">\n",
       "      <th></th>\n",
       "      <th>price</th>\n",
       "      <th>avg_mileage</th>\n",
       "    </tr>\n",
       "  </thead>\n",
       "  <tbody>\n",
       "    <tr>\n",
       "      <th>count</th>\n",
       "      <td>51525.000000</td>\n",
       "      <td>51525.000000</td>\n",
       "    </tr>\n",
       "    <tr>\n",
       "      <th>mean</th>\n",
       "      <td>12132.464920</td>\n",
       "      <td>15378.482765</td>\n",
       "    </tr>\n",
       "    <tr>\n",
       "      <th>std</th>\n",
       "      <td>10040.803015</td>\n",
       "      <td>11808.757090</td>\n",
       "    </tr>\n",
       "    <tr>\n",
       "      <th>min</th>\n",
       "      <td>1.000000</td>\n",
       "      <td>0.000000</td>\n",
       "    </tr>\n",
       "    <tr>\n",
       "      <th>25%</th>\n",
       "      <td>5000.000000</td>\n",
       "      <td>9363.636364</td>\n",
       "    </tr>\n",
       "    <tr>\n",
       "      <th>50%</th>\n",
       "      <td>9000.000000</td>\n",
       "      <td>13036.181818</td>\n",
       "    </tr>\n",
       "    <tr>\n",
       "      <th>75%</th>\n",
       "      <td>16839.000000</td>\n",
       "      <td>18222.222222</td>\n",
       "    </tr>\n",
       "    <tr>\n",
       "      <th>max</th>\n",
       "      <td>375000.000000</td>\n",
       "      <td>373200.000000</td>\n",
       "    </tr>\n",
       "  </tbody>\n",
       "</table>\n",
       "</div>"
      ],
      "text/plain": [
       "               price    avg_mileage\n",
       "count   51525.000000   51525.000000\n",
       "mean    12132.464920   15378.482765\n",
       "std     10040.803015   11808.757090\n",
       "min         1.000000       0.000000\n",
       "25%      5000.000000    9363.636364\n",
       "50%      9000.000000   13036.181818\n",
       "75%     16839.000000   18222.222222\n",
       "max    375000.000000  373200.000000"
      ]
     },
     "execution_count": 38,
     "metadata": {},
     "output_type": "execute_result"
    }
   ],
   "source": [
    "# Calculating some statistical data\n",
    "data_new[['price', 'avg_mileage']].describe()"
   ]
  },
  {
   "cell_type": "markdown",
   "metadata": {},
   "source": [
    "**Kesimpulan sementara:**\n",
    "\n",
    "Nilai rata-rata kolom `price` lebih tinggi dari mediannya yang berarti bahwa distribusinya banyak nilai yang tinggi, sehingga  menggeser nilai rata-rata ke atas tanpa memengaruhi mediannya.\n"
   ]
  },
  {
   "cell_type": "markdown",
   "metadata": {},
   "source": [
    "Kolom `car_age`, `condition` dan `cylinders` memiliki variabel katagorik. Maka diagram batang dapat digunakan."
   ]
  },
  {
   "cell_type": "code",
   "execution_count": 39,
   "metadata": {},
   "outputs": [
    {
     "data": {
      "image/png": "[encoded data removed]",
      "text/plain": [
       "<Figure size 432x288 with 1 Axes>"
      ]
     },
     "metadata": {
      "needs_background": "light"
     },
     "output_type": "display_data"
    },
    {
     "data": {
      "image/png": "[encoded data removed]",
      "text/plain": [
       "<Figure size 432x288 with 1 Axes>"
      ]
     },
     "metadata": {
      "needs_background": "light"
     },
     "output_type": "display_data"
    },
    {
     "data": {
      "image/png": "[encoded data removed]",
      "text/plain": [
       "<Figure size 432x288 with 1 Axes>"
      ]
     },
     "metadata": {
      "needs_background": "light"
     },
     "output_type": "display_data"
    }
   ],
   "source": [
    "katagoris_column = ['car_age', 'condition', 'cylinders']\n",
    "\n",
    "# Loop through the column names\n",
    "for column in katagoris_column:\n",
    "# Create a figure and axis\n",
    "    fig, ax = plt.subplots()\n",
    "\n",
    "    # Get the counts of each category in the column\n",
    "    counts = data_new[column].value_counts()\n",
    "\n",
    "    # Set the x-axis values\n",
    "    x_pos = range(len(counts))\n",
    "\n",
    "    # Plot a bar chart with the counts\n",
    "    ax.bar(x_pos, counts)\n",
    "\n",
    "    # Set the x-axis labels\n",
    "    ax.set_xticks(x_pos)\n",
    "    ax.set_xticklabels(counts.index)\n",
    "    \n",
    "\n",
    "    plt.xlabel(column)\n",
    "    plt.ylabel('Jumlah Iklan')\n",
    "    plt.show()"
   ]
  },
  {
   "cell_type": "markdown",
   "metadata": {},
   "source": [
    "**Kesimpulan sementara:**\n",
    "\n",
    "* Jumlah mobil yang paling banyak terjual yaitu berusia 7 tahun.\n",
    "* Kondisi mobil yang paling banyak terjual yaitu 3 (excellent).\n",
    "* Silinder mobil yang paling banya terjual yaitu 8.0."
   ]
  },
  {
   "cell_type": "markdown",
   "metadata": {},
   "source": [
    "### Kesimpulan\n",
    "\n",
    "1. Jumlah mobil yang terjual yaitu 51525 dengan 100 model mobil. Data diambil dari 2018-05-01 hingga 2019-04-19. Sekitar 73 mobil terjual perharinya. Mobil paling populer terjual yaitu ford f-150 dengan total penjualan 2796 unit. Penjualan mobil paling banyak setiap hari Kamis.\n",
    "2. Sekitar 7800 data mobil berada pada harga mendekati nol, beberapa mobil memiliki harga 1 dolar. Harga ini sepertinya salah, 1 dolar terlalu murah untuk sebuah mobil. \n",
    "3. Dalam grafik diketahui terdapat outlier. Terdapat angka di sekitar 40000 dolar hingga sekitar 360000 dolar.\n",
    "4. Lebih dari 7000 unit mobil terjual memilii rata-rata jarak tempuh seitar 15000 mile/year. Outlier berada di sekitar 21000 hingga sekitar 373200 mile/year.\n",
    "5. Usia kendaran paling banyak terjual yaitu adalah 7 tahun. Beberapa mobil berusia sangat tua yaitu 110 tahun.\n",
    "6. Mobil dengan kondisi 3 dan 2 paling banyak terjual. Namun tampa menarik ada beberapa mobil dengan kondisi 0.\n",
    "7. Silinder mobil dengan nilai 8.0, 6.0, dan 4.0 silinder mesin paling banyak terjual. Silinder yang tidak diketahui dan di isi 0.0 cukup signifikan sekitar 5000 unit."
   ]
  },
  {
   "cell_type": "markdown",
   "metadata": {},
   "source": [
    "### 2.3. Mempelajari dan Menangani Outlier"
   ]
  },
  {
   "cell_type": "markdown",
   "metadata": {},
   "source": [
    "Dengan hasil pembacaan beberapa parameter sebelumnya, kolom yang mungkin berisi *outlier* yaitu `price`, `avg_milage` dan `car_age`. Langkah selanjutnya dibuat DataFrame tanpa *outlier* tersebut. *Outlier* dapat diidentifikasi dengan menentukan batas bawah/atas untuk rentang nilai normal."
   ]
  },
  {
   "cell_type": "code",
   "execution_count": 40,
   "metadata": {},
   "outputs": [],
   "source": [
    "# Function for removing outlier, determine upper and lower whisker\n",
    "def upper_lower_whisker(column):\n",
    "    Q1  = data_new[column].quantile(0.25)\n",
    "    Q3  = data_new[column].quantile(0.75)\n",
    "    IQR = Q3 - Q1\n",
    "    lower_whisker = Q1 - 1.5*IQR\n",
    "    upper_whisker = Q3 + 1.5*IQR\n",
    "    return lower_whisker, upper_whisker"
   ]
  },
  {
   "cell_type": "code",
   "execution_count": 41,
   "metadata": {},
   "outputs": [],
   "source": [
    "outlier_column = ['price', 'avg_mileage', 'car_age']"
   ]
  },
  {
   "cell_type": "code",
   "execution_count": 42,
   "metadata": {},
   "outputs": [
    {
     "name": "stdout",
     "output_type": "stream",
     "text": [
      "Batas bawah outlier dari price -12758.5\n",
      "Batas atas outlier dari price 34597.5\n",
      "\n",
      "Batas bawah outlier dari avg_mileage -3924.242424242424\n",
      "Batas atas outlier dari avg_mileage 31510.10101010101\n",
      "\n",
      "Batas bawah outlier dari car_age -7.0\n",
      "Batas atas outlier dari car_age 25.0\n",
      "\n"
     ]
    }
   ],
   "source": [
    "# Loop for applying the function\n",
    "for column in outlier_column:\n",
    "    lower, upper = upper_lower_whisker(column)\n",
    "    print('Batas bawah outlier dari',column, lower)\n",
    "    print('Batas atas outlier dari',column, upper)\n",
    "    print('')\n",
    "    "
   ]
  },
  {
   "cell_type": "code",
   "execution_count": 43,
   "metadata": {},
   "outputs": [],
   "source": [
    "# Loop for cleaning the outlier\n",
    "data_clean = data_new.copy()\n",
    "\n",
    "for column in outlier_column:\n",
    "    lower, upper = upper_lower_whisker(column)\n",
    "    data_clean = data_clean[(data_clean[column] > lower) & (data_clean[column] < upper)]"
   ]
  },
  {
   "cell_type": "markdown",
   "metadata": {},
   "source": [
    "Untuk membersihkan `price` mobil yang anomali, diperiksa terlebih dahulu persentase kesalahannya."
   ]
  },
  {
   "cell_type": "code",
   "execution_count": 44,
   "metadata": {},
   "outputs": [
    {
     "name": "stdout",
     "output_type": "stream",
     "text": [
      "Persentase data yang bermasalah pada kolom 'price' yaitu:2% dari keseluruhan data.\n"
     ]
    }
   ],
   "source": [
    "# Check the percentage of wrong price data\n",
    "wrong_data_price = data_clean[data_clean['price'] < 100]\n",
    "\n",
    "percentage_wrong_data_price = wrong_data_price['price'].count() / data_clean['price'].count()\n",
    "print(\"Persentase data yang bermasalah pada kolom 'price' yaitu:{:.0%} dari keseluruhan data.\".format(percentage_wrong_data_price))"
   ]
  },
  {
   "cell_type": "markdown",
   "metadata": {},
   "source": [
    "Karena hanya 2%, data bisa diiris."
   ]
  },
  {
   "cell_type": "code",
   "execution_count": 45,
   "metadata": {},
   "outputs": [],
   "source": [
    "# Slicing data\n",
    "too_cheap = 100\n",
    "\n",
    "data_clean = data_clean.query('price > @too_cheap')"
   ]
  },
  {
   "cell_type": "code",
   "execution_count": 46,
   "metadata": {},
   "outputs": [
    {
     "data": {
      "text/plain": [
       "45660"
      ]
     },
     "execution_count": 46,
     "metadata": {},
     "output_type": "execute_result"
    }
   ],
   "source": [
    "# Check new dataset line after slicing\n",
    "data_clean.shape[0]"
   ]
  },
  {
   "cell_type": "code",
   "execution_count": 47,
   "metadata": {},
   "outputs": [
    {
     "data": {
      "text/plain": [
       "51525"
      ]
     },
     "execution_count": 47,
     "metadata": {},
     "output_type": "execute_result"
    }
   ],
   "source": [
    "# Check new dataset line before slicing\n",
    "data_new.shape[0]"
   ]
  },
  {
   "cell_type": "markdown",
   "metadata": {},
   "source": [
    "**Kesimpulan sementara:**\n",
    "\n",
    "* Setelah outlier dihilangkan, data berubah dari 51525 menjadi 45660"
   ]
  },
  {
   "cell_type": "markdown",
   "metadata": {},
   "source": [
    "Langkah selanjutnya membandingkan grafik dengan outlier dan tanpa outlier."
   ]
  },
  {
   "cell_type": "code",
   "execution_count": 48,
   "metadata": {},
   "outputs": [
    {
     "data": {
      "image/png": "[encoded data removed]",
      "text/plain": [
       "<Figure size 432x288 with 1 Axes>"
      ]
     },
     "metadata": {
      "needs_background": "light"
     },
     "output_type": "display_data"
    },
    {
     "data": {
      "image/png": "[encoded data removed]",
      "text/plain": [
       "<Figure size 432x288 with 1 Axes>"
      ]
     },
     "metadata": {
      "needs_background": "light"
     },
     "output_type": "display_data"
    },
    {
     "data": {
      "image/png": "[encoded data removed]",
      "text/plain": [
       "<Figure size 432x288 with 1 Axes>"
      ]
     },
     "metadata": {
      "needs_background": "light"
     },
     "output_type": "display_data"
    }
   ],
   "source": [
    "for column in outlier_column:\n",
    "    # Create a figure and axis\n",
    "    fig, ax = plt.subplots()\n",
    "\n",
    "    # Plot a histogram for the column\n",
    "    ax.hist(data_clean[column], bins=50)\n",
    "\n",
    "    # Set the x-axis and y-axis labels\n",
    "    plt.xlabel('')\n",
    "    plt.ylabel('Jumlah Iklan')\n",
    "    plt.title(column)\n",
    "\n",
    "    # Show the plot\n",
    "    plt.show()"
   ]
  },
  {
   "cell_type": "code",
   "execution_count": 49,
   "metadata": {},
   "outputs": [
    {
     "data": {
      "image/png": "[encoded data removed]",
      "text/plain": [
       "<Figure size 432x288 with 1 Axes>"
      ]
     },
     "metadata": {
      "needs_background": "light"
     },
     "output_type": "display_data"
    },
    {
     "data": {
      "image/png": "[encoded data removed]",
      "text/plain": [
       "<Figure size 432x288 with 1 Axes>"
      ]
     },
     "metadata": {
      "needs_background": "light"
     },
     "output_type": "display_data"
    },
    {
     "data": {
      "image/png": "[encoded data removed]",
      "text/plain": [
       "<Figure size 432x288 with 1 Axes>"
      ]
     },
     "metadata": {
      "needs_background": "light"
     },
     "output_type": "display_data"
    }
   ],
   "source": [
    "for column in outlier_column:\n",
    "    # Create a figure and axis\n",
    "    fig, ax = plt.subplots()\n",
    "\n",
    "    # Plot a boxplot for the column\n",
    "    ax.boxplot(data_clean[column])\n",
    "\n",
    "    plt.xlabel('')\n",
    "    plt.ylabel(column)\n",
    "\n",
    "    # Show the plot\n",
    "    plt.show()"
   ]
  },
  {
   "cell_type": "code",
   "execution_count": 50,
   "metadata": {},
   "outputs": [
    {
     "data": {
      "text/html": [
       "<div>\n",
       "<style scoped>\n",
       "    .dataframe tbody tr th:only-of-type {\n",
       "        vertical-align: middle;\n",
       "    }\n",
       "\n",
       "    .dataframe tbody tr th {\n",
       "        vertical-align: top;\n",
       "    }\n",
       "\n",
       "    .dataframe thead th {\n",
       "        text-align: right;\n",
       "    }\n",
       "</style>\n",
       "<table border=\"1\" class=\"dataframe\">\n",
       "  <thead>\n",
       "    <tr style=\"text-align: right;\">\n",
       "      <th></th>\n",
       "      <th>price</th>\n",
       "      <th>model_year</th>\n",
       "      <th>condition</th>\n",
       "      <th>cylinders</th>\n",
       "      <th>odometer</th>\n",
       "      <th>is_4wd</th>\n",
       "      <th>days_listed</th>\n",
       "      <th>year</th>\n",
       "      <th>car_age</th>\n",
       "      <th>avg_mileage</th>\n",
       "    </tr>\n",
       "  </thead>\n",
       "  <tbody>\n",
       "    <tr>\n",
       "      <th>count</th>\n",
       "      <td>45660.000000</td>\n",
       "      <td>45660.000000</td>\n",
       "      <td>45660.000000</td>\n",
       "      <td>45660.000000</td>\n",
       "      <td>45660.000000</td>\n",
       "      <td>45660.0</td>\n",
       "      <td>45660.000000</td>\n",
       "      <td>45660.00000</td>\n",
       "      <td>45660.000000</td>\n",
       "      <td>45660.000000</td>\n",
       "    </tr>\n",
       "    <tr>\n",
       "      <th>mean</th>\n",
       "      <td>11034.611389</td>\n",
       "      <td>2009.584604</td>\n",
       "      <td>2.615462</td>\n",
       "      <td>5.429369</td>\n",
       "      <td>117765.866086</td>\n",
       "      <td>1.0</td>\n",
       "      <td>39.547722</td>\n",
       "      <td>2018.31417</td>\n",
       "      <td>9.729566</td>\n",
       "      <td>13520.102821</td>\n",
       "    </tr>\n",
       "    <tr>\n",
       "      <th>std</th>\n",
       "      <td>7597.973114</td>\n",
       "      <td>4.887329</td>\n",
       "      <td>0.705196</td>\n",
       "      <td>2.394177</td>\n",
       "      <td>57683.037981</td>\n",
       "      <td>0.0</td>\n",
       "      <td>28.216237</td>\n",
       "      <td>0.46419</td>\n",
       "      <td>4.890793</td>\n",
       "      <td>6072.296031</td>\n",
       "    </tr>\n",
       "    <tr>\n",
       "      <th>min</th>\n",
       "      <td>105.000000</td>\n",
       "      <td>1995.000000</td>\n",
       "      <td>0.000000</td>\n",
       "      <td>0.000000</td>\n",
       "      <td>0.000000</td>\n",
       "      <td>1.0</td>\n",
       "      <td>0.000000</td>\n",
       "      <td>2018.00000</td>\n",
       "      <td>1.000000</td>\n",
       "      <td>0.000000</td>\n",
       "    </tr>\n",
       "    <tr>\n",
       "      <th>25%</th>\n",
       "      <td>4999.000000</td>\n",
       "      <td>2006.000000</td>\n",
       "      <td>2.000000</td>\n",
       "      <td>4.000000</td>\n",
       "      <td>81207.000000</td>\n",
       "      <td>1.0</td>\n",
       "      <td>19.000000</td>\n",
       "      <td>2018.00000</td>\n",
       "      <td>6.000000</td>\n",
       "      <td>9373.781250</td>\n",
       "    </tr>\n",
       "    <tr>\n",
       "      <th>50%</th>\n",
       "      <td>8900.000000</td>\n",
       "      <td>2010.000000</td>\n",
       "      <td>3.000000</td>\n",
       "      <td>6.000000</td>\n",
       "      <td>114901.500000</td>\n",
       "      <td>1.0</td>\n",
       "      <td>33.000000</td>\n",
       "      <td>2018.00000</td>\n",
       "      <td>9.000000</td>\n",
       "      <td>12861.390756</td>\n",
       "    </tr>\n",
       "    <tr>\n",
       "      <th>75%</th>\n",
       "      <td>15312.500000</td>\n",
       "      <td>2013.000000</td>\n",
       "      <td>3.000000</td>\n",
       "      <td>8.000000</td>\n",
       "      <td>150027.000000</td>\n",
       "      <td>1.0</td>\n",
       "      <td>53.000000</td>\n",
       "      <td>2019.00000</td>\n",
       "      <td>13.000000</td>\n",
       "      <td>17155.731250</td>\n",
       "    </tr>\n",
       "    <tr>\n",
       "      <th>max</th>\n",
       "      <td>34595.000000</td>\n",
       "      <td>2019.000000</td>\n",
       "      <td>5.000000</td>\n",
       "      <td>12.000000</td>\n",
       "      <td>527835.000000</td>\n",
       "      <td>1.0</td>\n",
       "      <td>271.000000</td>\n",
       "      <td>2019.00000</td>\n",
       "      <td>24.000000</td>\n",
       "      <td>31505.750000</td>\n",
       "    </tr>\n",
       "  </tbody>\n",
       "</table>\n",
       "</div>"
      ],
      "text/plain": [
       "              price    model_year     condition     cylinders       odometer  \\\n",
       "count  45660.000000  45660.000000  45660.000000  45660.000000   45660.000000   \n",
       "mean   11034.611389   2009.584604      2.615462      5.429369  117765.866086   \n",
       "std     7597.973114      4.887329      0.705196      2.394177   57683.037981   \n",
       "min      105.000000   1995.000000      0.000000      0.000000       0.000000   \n",
       "25%     4999.000000   2006.000000      2.000000      4.000000   81207.000000   \n",
       "50%     8900.000000   2010.000000      3.000000      6.000000  114901.500000   \n",
       "75%    15312.500000   2013.000000      3.000000      8.000000  150027.000000   \n",
       "max    34595.000000   2019.000000      5.000000     12.000000  527835.000000   \n",
       "\n",
       "        is_4wd   days_listed         year       car_age   avg_mileage  \n",
       "count  45660.0  45660.000000  45660.00000  45660.000000  45660.000000  \n",
       "mean       1.0     39.547722   2018.31417      9.729566  13520.102821  \n",
       "std        0.0     28.216237      0.46419      4.890793   6072.296031  \n",
       "min        1.0      0.000000   2018.00000      1.000000      0.000000  \n",
       "25%        1.0     19.000000   2018.00000      6.000000   9373.781250  \n",
       "50%        1.0     33.000000   2018.00000      9.000000  12861.390756  \n",
       "75%        1.0     53.000000   2019.00000     13.000000  17155.731250  \n",
       "max        1.0    271.000000   2019.00000     24.000000  31505.750000  "
      ]
     },
     "execution_count": 50,
     "metadata": {},
     "output_type": "execute_result"
    }
   ],
   "source": [
    "# Check new dataset statistical data after slicing\n",
    "data_clean.describe()"
   ]
  },
  {
   "cell_type": "code",
   "execution_count": 51,
   "metadata": {},
   "outputs": [
    {
     "data": {
      "text/html": [
       "<div>\n",
       "<style scoped>\n",
       "    .dataframe tbody tr th:only-of-type {\n",
       "        vertical-align: middle;\n",
       "    }\n",
       "\n",
       "    .dataframe tbody tr th {\n",
       "        vertical-align: top;\n",
       "    }\n",
       "\n",
       "    .dataframe thead th {\n",
       "        text-align: right;\n",
       "    }\n",
       "</style>\n",
       "<table border=\"1\" class=\"dataframe\">\n",
       "  <thead>\n",
       "    <tr style=\"text-align: right;\">\n",
       "      <th></th>\n",
       "      <th>price</th>\n",
       "      <th>model_year</th>\n",
       "      <th>condition</th>\n",
       "      <th>cylinders</th>\n",
       "      <th>odometer</th>\n",
       "      <th>is_4wd</th>\n",
       "      <th>days_listed</th>\n",
       "      <th>year</th>\n",
       "      <th>car_age</th>\n",
       "      <th>avg_mileage</th>\n",
       "    </tr>\n",
       "  </thead>\n",
       "  <tbody>\n",
       "    <tr>\n",
       "      <th>count</th>\n",
       "      <td>51525.000000</td>\n",
       "      <td>51525.000000</td>\n",
       "      <td>51525.000000</td>\n",
       "      <td>51525.000000</td>\n",
       "      <td>51525.000000</td>\n",
       "      <td>51525.0</td>\n",
       "      <td>51525.00000</td>\n",
       "      <td>51525.000000</td>\n",
       "      <td>51525.000000</td>\n",
       "      <td>51525.000000</td>\n",
       "    </tr>\n",
       "    <tr>\n",
       "      <th>mean</th>\n",
       "      <td>12132.464920</td>\n",
       "      <td>2009.793557</td>\n",
       "      <td>2.637535</td>\n",
       "      <td>5.499932</td>\n",
       "      <td>115199.014508</td>\n",
       "      <td>1.0</td>\n",
       "      <td>39.55476</td>\n",
       "      <td>2018.307462</td>\n",
       "      <td>9.513906</td>\n",
       "      <td>15378.482765</td>\n",
       "    </tr>\n",
       "    <tr>\n",
       "      <th>std</th>\n",
       "      <td>10040.803015</td>\n",
       "      <td>6.099381</td>\n",
       "      <td>0.712447</td>\n",
       "      <td>2.431985</td>\n",
       "      <td>60484.863376</td>\n",
       "      <td>0.0</td>\n",
       "      <td>28.20427</td>\n",
       "      <td>0.461447</td>\n",
       "      <td>6.112976</td>\n",
       "      <td>11808.757090</td>\n",
       "    </tr>\n",
       "    <tr>\n",
       "      <th>min</th>\n",
       "      <td>1.000000</td>\n",
       "      <td>1908.000000</td>\n",
       "      <td>0.000000</td>\n",
       "      <td>0.000000</td>\n",
       "      <td>0.000000</td>\n",
       "      <td>1.0</td>\n",
       "      <td>0.00000</td>\n",
       "      <td>2018.000000</td>\n",
       "      <td>1.000000</td>\n",
       "      <td>0.000000</td>\n",
       "    </tr>\n",
       "    <tr>\n",
       "      <th>25%</th>\n",
       "      <td>5000.000000</td>\n",
       "      <td>2007.000000</td>\n",
       "      <td>2.000000</td>\n",
       "      <td>4.000000</td>\n",
       "      <td>75668.000000</td>\n",
       "      <td>1.0</td>\n",
       "      <td>19.00000</td>\n",
       "      <td>2018.000000</td>\n",
       "      <td>5.000000</td>\n",
       "      <td>9363.636364</td>\n",
       "    </tr>\n",
       "    <tr>\n",
       "      <th>50%</th>\n",
       "      <td>9000.000000</td>\n",
       "      <td>2011.000000</td>\n",
       "      <td>3.000000</td>\n",
       "      <td>6.000000</td>\n",
       "      <td>110908.000000</td>\n",
       "      <td>1.0</td>\n",
       "      <td>33.00000</td>\n",
       "      <td>2018.000000</td>\n",
       "      <td>9.000000</td>\n",
       "      <td>13036.181818</td>\n",
       "    </tr>\n",
       "    <tr>\n",
       "      <th>75%</th>\n",
       "      <td>16839.000000</td>\n",
       "      <td>2014.000000</td>\n",
       "      <td>3.000000</td>\n",
       "      <td>8.000000</td>\n",
       "      <td>147821.000000</td>\n",
       "      <td>1.0</td>\n",
       "      <td>53.00000</td>\n",
       "      <td>2019.000000</td>\n",
       "      <td>13.000000</td>\n",
       "      <td>18222.222222</td>\n",
       "    </tr>\n",
       "    <tr>\n",
       "      <th>max</th>\n",
       "      <td>375000.000000</td>\n",
       "      <td>2019.000000</td>\n",
       "      <td>5.000000</td>\n",
       "      <td>12.000000</td>\n",
       "      <td>990000.000000</td>\n",
       "      <td>1.0</td>\n",
       "      <td>271.00000</td>\n",
       "      <td>2019.000000</td>\n",
       "      <td>111.000000</td>\n",
       "      <td>373200.000000</td>\n",
       "    </tr>\n",
       "  </tbody>\n",
       "</table>\n",
       "</div>"
      ],
      "text/plain": [
       "               price    model_year     condition     cylinders       odometer  \\\n",
       "count   51525.000000  51525.000000  51525.000000  51525.000000   51525.000000   \n",
       "mean    12132.464920   2009.793557      2.637535      5.499932  115199.014508   \n",
       "std     10040.803015      6.099381      0.712447      2.431985   60484.863376   \n",
       "min         1.000000   1908.000000      0.000000      0.000000       0.000000   \n",
       "25%      5000.000000   2007.000000      2.000000      4.000000   75668.000000   \n",
       "50%      9000.000000   2011.000000      3.000000      6.000000  110908.000000   \n",
       "75%     16839.000000   2014.000000      3.000000      8.000000  147821.000000   \n",
       "max    375000.000000   2019.000000      5.000000     12.000000  990000.000000   \n",
       "\n",
       "        is_4wd  days_listed          year       car_age    avg_mileage  \n",
       "count  51525.0  51525.00000  51525.000000  51525.000000   51525.000000  \n",
       "mean       1.0     39.55476   2018.307462      9.513906   15378.482765  \n",
       "std        0.0     28.20427      0.461447      6.112976   11808.757090  \n",
       "min        1.0      0.00000   2018.000000      1.000000       0.000000  \n",
       "25%        1.0     19.00000   2018.000000      5.000000    9363.636364  \n",
       "50%        1.0     33.00000   2018.000000      9.000000   13036.181818  \n",
       "75%        1.0     53.00000   2019.000000     13.000000   18222.222222  \n",
       "max        1.0    271.00000   2019.000000    111.000000  373200.000000  "
      ]
     },
     "execution_count": 51,
     "metadata": {},
     "output_type": "execute_result"
    }
   ],
   "source": [
    "# Check new dataset statistical data before slicing\n",
    "data_new.describe()"
   ]
  },
  {
   "cell_type": "markdown",
   "metadata": {},
   "source": [
    "Data sudah terlihat lebih rapih tanpa outlier."
   ]
  },
  {
   "cell_type": "markdown",
   "metadata": {},
   "source": [
    "### 2.4. Masa Berlaku Iklan "
   ]
  },
  {
   "cell_type": "code",
   "execution_count": 52,
   "metadata": {},
   "outputs": [
    {
     "data": {
      "text/plain": [
       "count    45660.000000\n",
       "mean        39.547722\n",
       "std         28.216237\n",
       "min          0.000000\n",
       "25%         19.000000\n",
       "50%         33.000000\n",
       "75%         53.000000\n",
       "max        271.000000\n",
       "Name: days_listed, dtype: float64"
      ]
     },
     "execution_count": 52,
     "metadata": {},
     "output_type": "execute_result"
    }
   ],
   "source": [
    "# Check statisctial info about days_listed\n",
    "data_clean['days_listed'].describe()"
   ]
  },
  {
   "cell_type": "code",
   "execution_count": 53,
   "metadata": {},
   "outputs": [
    {
     "data": {
      "image/png": "[encoded data removed]",
      "text/plain": [
       "<Figure size 432x288 with 1 Axes>"
      ]
     },
     "metadata": {
      "needs_background": "light"
     },
     "output_type": "display_data"
    }
   ],
   "source": [
    "days_mean = data_clean['days_listed'].mean()\n",
    "days_median = data_clean['days_listed'].median()\n",
    "\n",
    "fig, ax = plt.subplots()\n",
    "\n",
    "# plot histogram using the 'days_listed' column of the 'data_clean' DataFrame\n",
    "ax.hist(data_clean['days_listed'], bins=50)\n",
    "ax.axvline(days_mean, color='red', linestyle='-', label='Mean')\n",
    "ax.axvline(days_median, color='green', linestyle='--', label='Median')\n",
    "\n",
    "ax.set_xlabel('Days')\n",
    "ax.set_ylabel('Iklan')\n",
    "ax.set_title('Masa Berlaku Iklan')\n",
    "\n",
    "plt.show()\n"
   ]
  },
  {
   "cell_type": "code",
   "execution_count": 54,
   "metadata": {},
   "outputs": [
    {
     "data": {
      "text/plain": [
       "<AxesSubplot:>"
      ]
     },
     "execution_count": 54,
     "metadata": {},
     "output_type": "execute_result"
    },
    {
     "data": {
      "image/png": "[encoded data removed]",
      "text/plain": [
       "<Figure size 432x288 with 1 Axes>"
      ]
     },
     "metadata": {
      "needs_background": "light"
     },
     "output_type": "display_data"
    }
   ],
   "source": [
    "# Compare old and new dataset\n",
    "data_new['days_listed'].hist(bins=50)\n",
    "data_clean['days_listed'].hist(bins=50)"
   ]
  },
  {
   "cell_type": "markdown",
   "metadata": {},
   "source": [
    "Iklan ditayangkan dari 0-271 hari. Hari iklan dihapus paling banyak sebelum 50 hari. Rata-rata iklan ditayangkan sebelum dihapus hingga 40 hari. Median iklan ditayangan sebelum dihapus hingga 33 hari. Iklan paling lama ditayangkan hingga 271 hari, sedangkan paling cepat yaitu 0 hari (di hari yang sama langsung dihapus/terjual)"
   ]
  },
  {
   "cell_type": "markdown",
   "metadata": {},
   "source": [
    "### 2.5. Harga Rata-Rata Setiap Jenis Kendaraan"
   ]
  },
  {
   "cell_type": "code",
   "execution_count": 55,
   "metadata": {},
   "outputs": [
    {
     "name": "stdout",
     "output_type": "stream",
     "text": [
      "                avg_price  total_ads\n",
      "type                                \n",
      "sedan         6811.342404      11282\n",
      "SUV          10400.772747      11265\n",
      "truck        14938.122883      10392\n",
      "pickup       14482.940758       6043\n",
      "coupe        13562.857296       1864\n",
      "wagon         8722.583558       1484\n",
      "mini-van      7665.290559       1091\n",
      "hatchback     6702.304438        969\n",
      "van           8609.919021        531\n",
      "convertible  13264.962848        323\n",
      "other        10139.004608        217\n",
      "offroad      14342.623596        178\n",
      "bus          18107.428571         21\n",
      "                avg_price  total_ads\n",
      "type                                \n",
      "bus          18107.428571         21\n",
      "truck        14938.122883      10392\n",
      "pickup       14482.940758       6043\n",
      "offroad      14342.623596        178\n",
      "coupe        13562.857296       1864\n",
      "convertible  13264.962848        323\n",
      "SUV          10400.772747      11265\n",
      "other        10139.004608        217\n",
      "wagon         8722.583558       1484\n",
      "van           8609.919021        531\n",
      "mini-van      7665.290559       1091\n",
      "sedan         6811.342404      11282\n",
      "hatchback     6702.304438        969\n"
     ]
    }
   ],
   "source": [
    "# Pivot table about avg car price\n",
    "avg_car_price = data_clean.pivot_table(values='price', \n",
    "                                       index='type',\n",
    "                                       aggfunc=['mean', 'count'])\n",
    "avg_car_price.columns = ['avg_price', 'total_ads']\n",
    "print(avg_car_price.sort_values('total_ads', ascending=False))\n",
    "print(avg_car_price.sort_values('avg_price', ascending=False))"
   ]
  },
  {
   "cell_type": "code",
   "execution_count": 56,
   "metadata": {},
   "outputs": [
    {
     "data": {
      "text/plain": [
       "<AxesSubplot:xlabel='type'>"
      ]
     },
     "execution_count": 56,
     "metadata": {},
     "output_type": "execute_result"
    },
    {
     "data": {
      "image/png": "[encoded data removed]",
      "text/plain": [
       "<Figure size 432x288 with 1 Axes>"
      ]
     },
     "metadata": {
      "needs_background": "light"
     },
     "output_type": "display_data"
    },
    {
     "data": {
      "image/png": "[encoded data removed]",
      "text/plain": [
       "<Figure size 432x288 with 1 Axes>"
      ]
     },
     "metadata": {
      "needs_background": "light"
     },
     "output_type": "display_data"
    }
   ],
   "source": [
    "# Sorted version with bar chart\n",
    "sorted_avg_car_price = avg_car_price.sort_values('avg_price', ascending=False)\n",
    "sorted_avg_car_price_ads = avg_car_price.sort_values('total_ads', ascending=False)\n",
    "\n",
    "sorted_avg_car_price.plot(kind='bar')\n",
    "sorted_avg_car_price_ads.plot(kind='bar')"
   ]
  },
  {
   "cell_type": "markdown",
   "metadata": {},
   "source": [
    "**Kesimpulan**\n",
    "\n",
    "Iklan terbanyak dalam data yaitu mobil dengan tipe sedan dan SUV. Harga mobil termahal yang dijual yaitu mobil tipe bus dan truck."
   ]
  },
  {
   "cell_type": "markdown",
   "metadata": {},
   "source": [
    "### 2.6. Faktor Harga"
   ]
  },
  {
   "cell_type": "markdown",
   "metadata": {},
   "source": [
    "Mobil tipe sedan dan SUV dianalisis untuk mengetahui korelasinya terhadap usia, jarak tempuh, kondisi, tipe transisi, dan warnanya. Analisis ini akan menjawab hipotesis awal. Tipe mobil tersebut dipilih karena merupakan jenis kendaraan yang paling populer."
   ]
  },
  {
   "cell_type": "code",
   "execution_count": 57,
   "metadata": {},
   "outputs": [
    {
     "name": "stdout",
     "output_type": "stream",
     "text": [
      "price  model_year  model             condition  cylinders  fuel  odometer  transmission  type   paint_color  is_4wd  date_posted  days_listed  day_of_week  month      year  car_age  avg_mileage \n",
      "105    2011        chrysler 300      3          6.0        gas   70000.0   automatic     sedan  unknown      1.0     2018-07-11   100          Wednesday    July       2018  8        8750.000000     1\n",
      "7500   2012        toyota camry      2          4.0        gas   129000.0  automatic     sedan  green        1.0     2019-04-13   4            Saturday     April      2019  8        16125.000000    1\n",
      "7750   2010        honda accord      3          4.0        gas   91000.0   automatic     sedan  unknown      1.0     2018-11-25   28           Sunday       November   2018  9        10111.111111    1\n",
      "                                                                 104230.0  automatic     sedan  blue         1.0     2018-09-14   3            Friday       September  2018  9        11581.111111    1\n",
      "       2011        toyota camry le   3          4.0        gas   119000.0  automatic     sedan  black        1.0     2019-03-11   63           Monday       March      2019  9        13222.222222    1\n",
      "                                                                                                                                                                                                     ..\n",
      "4500   2013        ford focus se     2          4.0        gas   131510.0  automatic     sedan  red          1.0     2019-04-15   30           Monday       April      2019  7        18787.142857    1\n",
      "                                     3          4.0        gas   130741.0  automatic     sedan  unknown      1.0     2019-03-26   26           Tuesday      March      2019  7        18677.285714    1\n",
      "                   hyundai elantra   2          4.0        gas   129000.0  automatic     sedan  red          1.0     2018-05-13   32           Sunday       May        2018  6        21500.000000    1\n",
      "                   kia soul          3          4.0        gas   122000.0  automatic     sedan  grey         1.0     2018-08-14   6            Tuesday      August     2018  6        20333.333333    1\n",
      "33390  2018        chevrolet malibu  5          4.0        gas   28.0      automatic     sedan  custom       1.0     2018-11-06   45           Tuesday      November   2018  1        28.000000       1\n",
      "Length: 11282, dtype: int64\n"
     ]
    }
   ],
   "source": [
    "# Query sedan\n",
    "sedan_type = data_clean.query('type in (\"sedan\")')\n",
    "print(sedan_type.value_counts())"
   ]
  },
  {
   "cell_type": "code",
   "execution_count": 58,
   "metadata": {},
   "outputs": [
    {
     "name": "stdout",
     "output_type": "stream",
     "text": [
      "7     1310\n",
      "6     1152\n",
      "5      949\n",
      "8      920\n",
      "9      815\n",
      "10     808\n",
      "12     692\n",
      "11     689\n",
      "4      675\n",
      "13     570\n",
      "3      538\n",
      "14     422\n",
      "15     327\n",
      "2      317\n",
      "16     276\n",
      "17     206\n",
      "1      157\n",
      "18     153\n",
      "19     108\n",
      "20      80\n",
      "21      49\n",
      "22      29\n",
      "23      22\n",
      "24      18\n",
      "Name: car_age, dtype: int64\n",
      "\n",
      "14890.000000    107\n",
      "17371.666667     96\n",
      "20846.000000     90\n",
      "21500.000000     83\n",
      "13028.750000     78\n",
      "               ... \n",
      "12708.444444      1\n",
      "19588.235294      1\n",
      "6934.444444       1\n",
      "10023.600000      1\n",
      "13350.000000      1\n",
      "Name: avg_mileage, Length: 6120, dtype: int64\n",
      "\n",
      "3    5623\n",
      "2    4100\n",
      "4    1195\n",
      "1     282\n",
      "5      42\n",
      "0      40\n",
      "Name: condition, dtype: int64\n",
      "\n"
     ]
    }
   ],
   "source": [
    "# Loop for check value counts\n",
    "for col in ['car_age', 'avg_mileage', 'condition']:\n",
    "    print(sedan_type[col].value_counts())\n",
    "    print()"
   ]
  },
  {
   "cell_type": "markdown",
   "metadata": {},
   "source": [
    "**Kesimpulan sementara:**\n",
    "\n",
    "* Mobil sedan dengan usia 6 dan 5 (-1 karena 0 tahun dianggap 1) tahun cukup diminati karena terjual paling banyak.\n",
    "* Mobil sedan dengan rata-rata jarak tempuh paling diminati yaitu 14890 mile/year dan 17371.666667 mile/year.\n",
    "* Kondisi mobil sedan good(3) dan fair(2) paling diminati oleh pembeli."
   ]
  },
  {
   "cell_type": "code",
   "execution_count": 59,
   "metadata": {},
   "outputs": [
    {
     "data": {
      "text/plain": [
       "<AxesSubplot:xlabel='price', ylabel='car_age'>"
      ]
     },
     "execution_count": 59,
     "metadata": {},
     "output_type": "execute_result"
    },
    {
     "data": {
      "image/png": "[encoded data removed]",
      "text/plain": [
       "<Figure size 432x288 with 1 Axes>"
      ]
     },
     "metadata": {
      "needs_background": "light"
     },
     "output_type": "display_data"
    },
    {
     "data": {
      "image/png": "[encoded data removed]",
      "text/plain": [
       "<Figure size 432x288 with 2 Axes>"
      ]
     },
     "metadata": {
      "needs_background": "light"
     },
     "output_type": "display_data"
    }
   ],
   "source": [
    "# Scater plot and hexbin plot\n",
    "sedan_type.plot(x='price', y='car_age', kind='scatter', grid=True, title='Korelasi Harga dengan Usia Mobil Sedan')\n",
    "sedan_type.plot(x='price', y='car_age', kind='hexbin', gridsize=20, sharex=False, grid=True) "
   ]
  },
  {
   "cell_type": "code",
   "execution_count": 60,
   "metadata": {},
   "outputs": [
    {
     "data": {
      "text/plain": [
       "<AxesSubplot:xlabel='price', ylabel='avg_mileage'>"
      ]
     },
     "execution_count": 60,
     "metadata": {},
     "output_type": "execute_result"
    },
    {
     "data": {
      "image/png": "[encoded data removed]",
      "text/plain": [
       "<Figure size 432x288 with 1 Axes>"
      ]
     },
     "metadata": {
      "needs_background": "light"
     },
     "output_type": "display_data"
    },
    {
     "data": {
      "image/png": "[encoded data removed]",
      "text/plain": [
       "<Figure size 432x288 with 2 Axes>"
      ]
     },
     "metadata": {
      "needs_background": "light"
     },
     "output_type": "display_data"
    }
   ],
   "source": [
    "# Scater plot and hexbin plot\n",
    "sedan_type.plot(x='price', y='avg_mileage', kind='scatter', alpha=0.2, grid=True, title='Korelasi Harga dengan Rata-rata Jarak Tempuh/Tahun')\n",
    "sedan_type.plot(x='price', y='avg_mileage', kind='hexbin', gridsize=20, sharex=False, grid=True) "
   ]
  },
  {
   "cell_type": "code",
   "execution_count": 61,
   "metadata": {},
   "outputs": [
    {
     "data": {
      "text/plain": [
       "<AxesSubplot:xlabel='price', ylabel='condition'>"
      ]
     },
     "execution_count": 61,
     "metadata": {},
     "output_type": "execute_result"
    },
    {
     "data": {
      "image/png": "[encoded data removed]",
      "text/plain": [
       "<Figure size 432x288 with 1 Axes>"
      ]
     },
     "metadata": {
      "needs_background": "light"
     },
     "output_type": "display_data"
    },
    {
     "data": {
      "image/png": "[encoded data removed]",
      "text/plain": [
       "<Figure size 432x288 with 2 Axes>"
      ]
     },
     "metadata": {
      "needs_background": "light"
     },
     "output_type": "display_data"
    }
   ],
   "source": [
    "# Scater plot and hexbin plot\n",
    "sedan_type.plot(x='price', y='condition', kind='scatter', alpha=0.2, grid=True, title='Korelasi Harga dengan Kondisi Mobil')\n",
    "sedan_type.plot(x='price', y='condition', kind='hexbin', gridsize=20, sharex=False, grid=True) "
   ]
  },
  {
   "cell_type": "code",
   "execution_count": 62,
   "metadata": {},
   "outputs": [
    {
     "name": "stdout",
     "output_type": "stream",
     "text": [
      "-0.6547696483527365\n",
      "0.10350140139259811\n",
      "0.31734122924902364\n"
     ]
    }
   ],
   "source": [
    "# Check correlation\n",
    "print(sedan_type['price'].corr(sedan_type['car_age']))\n",
    "print(sedan_type['price'].corr(sedan_type['avg_mileage']))\n",
    "print(sedan_type['price'].corr(sedan_type['condition']))"
   ]
  },
  {
   "cell_type": "markdown",
   "metadata": {},
   "source": [
    "**Kesimpulan**\n",
    "\n",
    "* Pada plot tersebut menjelaskan bahwa usia mobil semakin tua maka semakin murah harga mobil. Begitupun sebaliknya apabila usia mobil semakin muda maka semakin mahal harga mobil, namun mobil yang berusia muda lebih diminati daripada mobil berusia tua. Terlihat sekitar 3 - 12 tahun dengan harga 3000 dolar - 10000 dolar\n",
    "* Plot korelasi harga dengan rata-rata jarak tempuh, menjelaskan bahwa tidak ada korelasi karena semua data berkumpul dalam satu area.\n",
    "* Plot korelasi harga dengan kondisi mobil menjelaskan bahwa harga semakin tinggi maka kondisi mobil semakin baik. Untuk tipe sedan, paling banyak peminat yaitu pada kondisi 3 dan 2 dengan harga sekitar 4000 dolar.\n",
    "* Hubungan korelasi antara harga dengan usia mobil memiliki korelasi negatif, artinya saling berlawanan Namun memiliki korelasi yang kuat antara kedua variabel. Sedangkan korelasi antara harga dengan rata-rata jarak pertahun serta kondisi mobil memiliki korelasi positif, artinya saling berhubungan namun hasil mendekati 0 artinya hampir/sama sekali tidak ada korelasi antara keduanya.\n"
   ]
  },
  {
   "cell_type": "code",
   "execution_count": 63,
   "metadata": {},
   "outputs": [
    {
     "name": "stdout",
     "output_type": "stream",
     "text": [
      "automatic    10652\n",
      "manual         562\n",
      "other           68\n",
      "Name: transmission, dtype: int64\n",
      "\n",
      "unknown    2030\n",
      "silver     1914\n",
      "black      1638\n",
      "grey       1527\n",
      "white      1369\n",
      "blue       1163\n",
      "red         885\n",
      "custom      253\n",
      "brown       248\n",
      "green       198\n",
      "purple       26\n",
      "yellow       22\n",
      "orange        9\n",
      "Name: paint_color, dtype: int64\n",
      "\n"
     ]
    }
   ],
   "source": [
    "# Loop for check value counts\n",
    "for col in ['transmission', 'paint_color']:\n",
    "    print(sedan_type[col].value_counts())\n",
    "    print()"
   ]
  },
  {
   "cell_type": "code",
   "execution_count": 64,
   "metadata": {},
   "outputs": [
    {
     "data": {
      "image/png": "[encoded data removed]",
      "text/plain": [
       "<Figure size 432x288 with 1 Axes>"
      ]
     },
     "metadata": {
      "needs_background": "light"
     },
     "output_type": "display_data"
    }
   ],
   "source": [
    "# Create a boxplot\n",
    "sedan_type.boxplot(column='price', by='transmission')\n",
    "\n",
    "# Set grid\n",
    "plt.grid(True)"
   ]
  },
  {
   "cell_type": "code",
   "execution_count": 65,
   "metadata": {},
   "outputs": [
    {
     "data": {
      "image/png": "[encoded data removed]",
      "text/plain": [
       "<Figure size 432x288 with 1 Axes>"
      ]
     },
     "metadata": {
      "needs_background": "light"
     },
     "output_type": "display_data"
    }
   ],
   "source": [
    "# Create a boxplot\n",
    "sedan_type.boxplot(column='price', by='paint_color')\n",
    "\n",
    "plt.xticks(rotation=50)\n",
    "plt.grid(True)"
   ]
  },
  {
   "cell_type": "markdown",
   "metadata": {},
   "source": [
    "**Kesimpulan sementara:**\n",
    "\n",
    "* Mobil sedan dengan tipe transisi matic paling populer.\n",
    "* Mobil sedan dengan warna tidak diketahui cukup diminati karena terjual paling banyak. Namun mobil berwarna silver dan hitam juga diminati.\n",
    "* Tabel boxplot terlihat sejajar sehingga tipe transmisi dan warna mobil tidak memengaruhi harga (tidak ada korelasi)"
   ]
  },
  {
   "cell_type": "code",
   "execution_count": 66,
   "metadata": {},
   "outputs": [
    {
     "name": "stdout",
     "output_type": "stream",
     "text": [
      "price  model_year  model              condition  cylinders  fuel  odometer  transmission  type  paint_color  is_4wd  date_posted  days_listed  day_of_week  month      year  car_age  avg_mileage \n",
      "179    2013        ford edge          3          4.0        gas   122000.0  automatic     SUV   grey         1.0     2019-01-06   52           Sunday       January    2019  7        17428.571429    1\n",
      "8500   2011        chevrolet tahoe    3          0.0        gas   192000.0  automatic     SUV   unknown      1.0     2018-09-27   18           Thursday     September  2018  8        24000.000000    1\n",
      "11995  2012        honda cr-v         3          4.0        gas   92344.0   automatic     SUV   green        1.0     2019-03-01   35           Friday       March      2019  8        11543.000000    1\n",
      "                                                                  131882.0  automatic     SUV   unknown      1.0     2019-03-10   34           Sunday       March      2019  8        16485.250000    1\n",
      "                   nissan rogue       2          4.0        gas   42761.0   automatic     SUV   grey         1.0     2018-06-16   14           Saturday     June       2018  7        6108.714286     1\n",
      "                                                                                                                                                                                                     ..\n",
      "6000   2004        bmw x5             4          6.0        gas   72982.5   automatic     SUV   black        1.0     2018-07-16   23           Monday       July       2018  15       4865.500000     1\n",
      "                                                                  154578.0  automatic     SUV   black        1.0     2018-05-02   34           Wednesday    May        2018  15       10305.200000    1\n",
      "                   cadillac escalade  2          8.0        gas   179000.0  automatic     SUV   black        1.0     2018-07-03   18           Tuesday      July       2018  15       11933.333333    1\n",
      "                   chevrolet tahoe    2          8.0        gas   179000.0  automatic     SUV   blue         1.0     2019-04-13   23           Saturday     April      2019  16       11187.500000    1\n",
      "34595  2015        gmc yukon          3          8.0        gas   86456.0   automatic     SUV   silver       1.0     2018-10-28   32           Sunday       October    2018  4        21614.000000    1\n",
      "Length: 11265, dtype: int64\n"
     ]
    }
   ],
   "source": [
    "# Query SUV\n",
    "suv_type = data_clean.query('type in (\"SUV\")')\n",
    "print(suv_type.value_counts())"
   ]
  },
  {
   "cell_type": "code",
   "execution_count": 67,
   "metadata": {},
   "outputs": [
    {
     "name": "stdout",
     "output_type": "stream",
     "text": [
      "8     974\n",
      "12    922\n",
      "7     881\n",
      "11    878\n",
      "9     849\n",
      "6     808\n",
      "10    783\n",
      "5     728\n",
      "4     584\n",
      "13    570\n",
      "15    489\n",
      "14    466\n",
      "16    433\n",
      "3     379\n",
      "17    305\n",
      "2     262\n",
      "18    205\n",
      "19    170\n",
      "1     159\n",
      "20    148\n",
      "21    111\n",
      "22     70\n",
      "23     56\n",
      "24     35\n",
      "Name: car_age, dtype: int64\n",
      "\n",
      "13028.750000    82\n",
      "17371.666667    78\n",
      "9475.454545     76\n",
      "8685.833333     73\n",
      "10423.000000    70\n",
      "                ..\n",
      "18799.000000     1\n",
      "3806.166667      1\n",
      "12831.470588     1\n",
      "7713.181818      1\n",
      "11301.000000     1\n",
      "Name: avg_mileage, Length: 6408, dtype: int64\n",
      "\n",
      "3    5832\n",
      "2    4088\n",
      "4    1010\n",
      "1     302\n",
      "0      18\n",
      "5      15\n",
      "Name: condition, dtype: int64\n",
      "\n"
     ]
    }
   ],
   "source": [
    "# Loop for check value counts\n",
    "for col in ['car_age', 'avg_mileage', 'condition']:\n",
    "    print(suv_type[col].value_counts())\n",
    "    print()"
   ]
  },
  {
   "cell_type": "markdown",
   "metadata": {},
   "source": [
    "**Kesimpulan sementara:**\n",
    "\n",
    "* Mobil SUV dengan usia 7 dan 11 (-1 karena 0 tahun dianggap 1) tahun cukup diminati karena terjual paling banyak.\n",
    "* Mobil SUV dengan rata-rata jarak tempuh paling diminati yaitu 13028.750000 mile/year dan 17371.666667 mile/year.\n",
    "* Kondisi mobil SUV good(3) dan fair(2) paling diminati oleh pembeli."
   ]
  },
  {
   "cell_type": "code",
   "execution_count": 68,
   "metadata": {},
   "outputs": [
    {
     "data": {
      "text/plain": [
       "<AxesSubplot:xlabel='price', ylabel='car_age'>"
      ]
     },
     "execution_count": 68,
     "metadata": {},
     "output_type": "execute_result"
    },
    {
     "data": {
      "image/png": "[encoded data removed]",
      "text/plain": [
       "<Figure size 432x288 with 1 Axes>"
      ]
     },
     "metadata": {
      "needs_background": "light"
     },
     "output_type": "display_data"
    },
    {
     "data": {
      "image/png": "[encoded data removed]",
      "text/plain": [
       "<Figure size 432x288 with 2 Axes>"
      ]
     },
     "metadata": {
      "needs_background": "light"
     },
     "output_type": "display_data"
    }
   ],
   "source": [
    "# Scater plot and hexbin plot\n",
    "suv_type.plot(x='price', y='car_age', kind='scatter', grid=True, title='Korelasi Harga dengan Usia Mobil SUV')\n",
    "suv_type.plot(x='price', y='car_age', kind='hexbin', gridsize=20, sharex=False, grid=True) "
   ]
  },
  {
   "cell_type": "code",
   "execution_count": 69,
   "metadata": {},
   "outputs": [
    {
     "data": {
      "text/plain": [
       "<AxesSubplot:xlabel='price', ylabel='avg_mileage'>"
      ]
     },
     "execution_count": 69,
     "metadata": {},
     "output_type": "execute_result"
    },
    {
     "data": {
      "image/png": "[encoded data removed]",
      "text/plain": [
       "<Figure size 432x288 with 1 Axes>"
      ]
     },
     "metadata": {
      "needs_background": "light"
     },
     "output_type": "display_data"
    },
    {
     "data": {
      "image/png": "[encoded data removed]",
      "text/plain": [
       "<Figure size 432x288 with 2 Axes>"
      ]
     },
     "metadata": {
      "needs_background": "light"
     },
     "output_type": "display_data"
    }
   ],
   "source": [
    "# Scater plot and hexbin plot\n",
    "suv_type.plot(x='price', y='avg_mileage', kind='scatter', alpha=0.2, grid=True, title='Korelasi Harga dengan Rata-rata Jarak Tempuh/Tahun')\n",
    "suv_type.plot(x='price', y='avg_mileage', kind='hexbin', gridsize=20, sharex=False, grid=True) "
   ]
  },
  {
   "cell_type": "code",
   "execution_count": 70,
   "metadata": {},
   "outputs": [
    {
     "data": {
      "text/plain": [
       "<AxesSubplot:xlabel='price', ylabel='condition'>"
      ]
     },
     "execution_count": 70,
     "metadata": {},
     "output_type": "execute_result"
    },
    {
     "data": {
      "image/png": "[encoded data removed]",
      "text/plain": [
       "<Figure size 432x288 with 1 Axes>"
      ]
     },
     "metadata": {
      "needs_background": "light"
     },
     "output_type": "display_data"
    },
    {
     "data": {
      "image/png": "[encoded data removed]",
      "text/plain": [
       "<Figure size 432x288 with 2 Axes>"
      ]
     },
     "metadata": {
      "needs_background": "light"
     },
     "output_type": "display_data"
    }
   ],
   "source": [
    "# Scater plot and hexbin plot\n",
    "suv_type.plot(x='price', y='condition', kind='scatter', alpha=0.2, grid=True, title='Korelasi Harga dengan Kondisi Mobil')\n",
    "suv_type.plot(x='price', y='condition', kind='hexbin', gridsize=20, sharex=False, grid=True) "
   ]
  },
  {
   "cell_type": "code",
   "execution_count": 71,
   "metadata": {},
   "outputs": [
    {
     "name": "stdout",
     "output_type": "stream",
     "text": [
      "-0.6407799024881127\n",
      "0.18891565710302588\n",
      "0.29257763076305165\n"
     ]
    }
   ],
   "source": [
    "# Check correlation\n",
    "print(suv_type['price'].corr(suv_type['car_age']))\n",
    "print(suv_type['price'].corr(suv_type['avg_mileage']))\n",
    "print(suv_type['price'].corr(suv_type['condition']))"
   ]
  },
  {
   "cell_type": "markdown",
   "metadata": {},
   "source": [
    "**Kesimpulan**\n",
    "\n",
    "* Pada plot tersebut menjelaskan bahwa usia mobil semakin tua maka semakin murah harga mobil. Begitupun sebaliknya apabila usia mobil semakin muda maka semakin mahal harga mobil, namun mobil yang berusia muda lebih diminati daripada mobil berusia tua. Terlihat sekitar 4 - 17 tahun dengan harga 2000 dolar - 15000 dolar.\n",
    "* Plot korelasi harga dengan rata-rata jarak tempuh, menjelaskan bahwa tida ada korelasi karena data berkumpul dalam satu area.\n",
    "* Plot korelasi harga dengan kondisi mobil menjelaskan bahwa harga semakin tinggi maka kondisi mobil semakin baik. Untuk tipe SUV, paling banyak peminat yaitu pada kondisi 3 dan 2 dengan harga sekitar 3000 dolar - 18000 dolar.\n",
    "* Hubungan korelasi antara harga dengan usia mobil serta rata-rata jarak pertahun memiliki korelasi negatif, artinya saling berlawanan Namun memiliki korelasi yang kuat antara kedua variabel. Sedangkan korelasi antara harga dengan kondisi mobil memiliki korelasi positif, artinya saling berhubungan namun hasil mendekati 0 artinya hampir/sama sekali tidak ada korelasi antara keduanya.\n",
    " "
   ]
  },
  {
   "cell_type": "code",
   "execution_count": 72,
   "metadata": {},
   "outputs": [
    {
     "name": "stdout",
     "output_type": "stream",
     "text": [
      "automatic    10717\n",
      "manual         456\n",
      "other           92\n",
      "Name: transmission, dtype: int64\n",
      "\n",
      "unknown    2007\n",
      "black      1951\n",
      "white      1763\n",
      "silver     1454\n",
      "grey       1083\n",
      "blue        955\n",
      "red         843\n",
      "green       421\n",
      "brown       358\n",
      "custom      272\n",
      "orange       77\n",
      "yellow       42\n",
      "purple       39\n",
      "Name: paint_color, dtype: int64\n",
      "\n"
     ]
    }
   ],
   "source": [
    "for col in ['transmission', 'paint_color']:\n",
    "    print(suv_type[col].value_counts())\n",
    "    print()"
   ]
  },
  {
   "cell_type": "code",
   "execution_count": 73,
   "metadata": {},
   "outputs": [
    {
     "data": {
      "image/png": "[encoded data removed]",
      "text/plain": [
       "<Figure size 432x288 with 1 Axes>"
      ]
     },
     "metadata": {
      "needs_background": "light"
     },
     "output_type": "display_data"
    }
   ],
   "source": [
    "# Create a boxplot\n",
    "suv_type.boxplot(column='price', by='transmission')\n",
    "\n",
    "# Set the grid\n",
    "plt.grid(True)\n"
   ]
  },
  {
   "cell_type": "code",
   "execution_count": 74,
   "metadata": {},
   "outputs": [
    {
     "data": {
      "image/png": "[encoded data removed]",
      "text/plain": [
       "<Figure size 432x288 with 1 Axes>"
      ]
     },
     "metadata": {
      "needs_background": "light"
     },
     "output_type": "display_data"
    }
   ],
   "source": [
    "# Create a boxplot\n",
    "sedan_type.boxplot(column='price', by='paint_color')\n",
    "\n",
    "# Set the grid\n",
    "plt.grid(True)\n"
   ]
  },
  {
   "cell_type": "markdown",
   "metadata": {},
   "source": [
    "**Kesimpulan sementara:**\n",
    "\n",
    "* Mobil sedan dengan tipe transisi matic paling populer.\n",
    "* Mobil sedan dengan warna tidak diketahui cukup diminati karena terjual paling banyak. Namun mobil berwarna hitam dan putih juga diminati.\n",
    "* Tabel boxplot terlihat sejajar sehingga tipe transmisi dan warna mobil tidak memengaruhi harga (tidak ada korelasi)"
   ]
  },
  {
   "cell_type": "markdown",
   "metadata": {},
   "source": [
    "## Kesimpulan Umum"
   ]
  },
  {
   "cell_type": "markdown",
   "metadata": {},
   "source": [
    "#### A. Pra-pemrosesan\n",
    "\n",
    "Dari eksplorasi pra-pemrosesan data, dapat disimpulkan bahwa:\n",
    "1. Ukuran dataset sebanyak 51525 baris dengan 13 kolom. Terdapat 5 kolom dengan missing value yaitu model_year, cylinders, odometer, paint_color, dan is_4wd.\n",
    "2. Duplikat tidak ditemukan dalam dataset.\n",
    "3. Dataset yang memiliki nilai-nilai yang hilang, diperiksa persentase, tipe, dan polanya, diisi dengan variabel tertentu dan median data, diperbaiki tipe data dan kualitas data, serta ditambahkan beberapa kolom.\n",
    "\n",
    "#### B. Analisis Data Esksploratif (EDA)\n",
    "\n",
    "Dari hasil analisis data esksploratif, dapat disimpulkan bahwa:\n",
    "1. Parameter price, car_age, avg_mileage, conditon, dan cylinders dipelajari untuk mengetahui keakuratan data.\n",
    "2. Tedapat outlier pada kolom price, avg_mileage, dan car_age, dataset dibuat baru tanpa outlier dengan jumlah baris sebanyak 45660.\n",
    "3. Waktu iklan ditayangkan dengan rentang 0 - 271 hari.\n",
    "4. Tipe mobil yang paling populer adalah sedan dan SUV.\n",
    "5. Hubungan antara usia mobil dengan harga ditinjau dari data sedan dan SUV menjelaskan bahwa hubungan tersebut memiliki korelasi yang kuat antara kedua variabel. \n",
    "6. Hubungan antara rata-rata jarak per tahun, kondisi, tipe transmisi, dan warna mobil dengan harga ditinjau dari data sedan dan SUV menjelasan bahwa hubungan tersebut hampir/sama sekali tidak ada korelasi antara keduanya."
   ]
  }
 ],
 "metadata": {
  "ExecuteTimeLog": [
   {
    "duration": 828,
    "start_time": "2021-11-16T09:21:11.304Z"
   },
   {
    "duration": 893,
    "start_time": "2021-11-16T09:21:17.728Z"
   },
   {
    "duration": 1150,
    "start_time": "2021-11-16T09:21:29.568Z"
   },
   {
    "duration": 3,
    "start_time": "2021-11-16T09:24:14.495Z"
   },
   {
    "duration": 120,
    "start_time": "2021-11-16T09:24:46.630Z"
   },
   {
    "duration": 3,
    "start_time": "2021-11-16T09:28:27.882Z"
   },
   {
    "duration": 4,
    "start_time": "2021-11-16T09:29:54.281Z"
   },
   {
    "duration": 3,
    "start_time": "2021-11-16T09:30:45.936Z"
   },
   {
    "duration": 4,
    "start_time": "2021-11-16T09:31:06.300Z"
   },
   {
    "duration": 113,
    "start_time": "2021-11-16T09:31:37.208Z"
   },
   {
    "duration": 143,
    "start_time": "2021-11-16T09:31:48.656Z"
   },
   {
    "duration": 98,
    "start_time": "2021-11-16T09:31:55.678Z"
   },
   {
    "duration": 3,
    "start_time": "2021-11-16T09:32:08.535Z"
   },
   {
    "duration": 111,
    "start_time": "2021-11-16T09:32:10.120Z"
   },
   {
    "duration": 3,
    "start_time": "2021-11-16T09:32:15.732Z"
   },
   {
    "duration": 4,
    "start_time": "2021-11-16T09:32:29.423Z"
   },
   {
    "duration": 3,
    "start_time": "2021-11-16T10:03:03.074Z"
   },
   {
    "duration": 3,
    "start_time": "2021-11-16T10:10:01.288Z"
   },
   {
    "duration": 3,
    "start_time": "2021-11-16T10:10:46.923Z"
   },
   {
    "duration": 121,
    "start_time": "2021-11-16T10:37:46.494Z"
   },
   {
    "duration": 125,
    "start_time": "2021-11-16T10:38:20.632Z"
   },
   {
    "duration": 112,
    "start_time": "2021-11-16T10:46:53.001Z"
   },
   {
    "duration": 110,
    "start_time": "2021-11-16T10:48:25.775Z"
   },
   {
    "duration": 3,
    "start_time": "2021-11-16T10:50:18.720Z"
   },
   {
    "duration": 4,
    "start_time": "2021-11-16T10:50:37.649Z"
   },
   {
    "duration": 2,
    "start_time": "2021-11-16T10:50:51.884Z"
   },
   {
    "duration": 3,
    "start_time": "2021-11-16T10:51:56.237Z"
   },
   {
    "duration": 101,
    "start_time": "2021-11-16T10:53:13.791Z"
   },
   {
    "duration": 3,
    "start_time": "2021-11-16T10:55:59.186Z"
   },
   {
    "duration": 3,
    "start_time": "2021-11-16T10:56:10.751Z"
   },
   {
    "duration": 3,
    "start_time": "2021-11-16T10:56:49.038Z"
   },
   {
    "duration": 3,
    "start_time": "2021-11-16T10:56:49.174Z"
   },
   {
    "duration": 4,
    "start_time": "2021-11-16T10:56:49.414Z"
   },
   {
    "duration": 3,
    "start_time": "2021-11-16T10:56:49.680Z"
   },
   {
    "duration": 3,
    "start_time": "2021-11-16T10:56:50.370Z"
   },
   {
    "duration": 114,
    "start_time": "2021-11-16T10:59:34.518Z"
   },
   {
    "duration": 3,
    "start_time": "2021-11-16T11:01:41.201Z"
   },
   {
    "duration": 116,
    "start_time": "2021-11-16T11:01:48.754Z"
   },
   {
    "duration": 3,
    "start_time": "2021-11-16T11:02:16.685Z"
   },
   {
    "duration": 3,
    "start_time": "2021-11-16T11:02:19.479Z"
   },
   {
    "duration": 3,
    "start_time": "2021-11-16T11:02:47.067Z"
   },
   {
    "duration": 3,
    "start_time": "2021-11-16T11:02:49.353Z"
   },
   {
    "duration": 3,
    "start_time": "2021-11-16T11:03:07.835Z"
   },
   {
    "duration": 3,
    "start_time": "2021-11-16T11:03:07.953Z"
   },
   {
    "duration": 112,
    "start_time": "2021-11-16T11:07:52.072Z"
   },
   {
    "duration": 187,
    "start_time": "2021-11-16T11:09:23.468Z"
   },
   {
    "duration": 4,
    "start_time": "2021-11-16T11:10:01.455Z"
   },
   {
    "duration": 3,
    "start_time": "2021-11-16T11:10:05.069Z"
   },
   {
    "duration": 4,
    "start_time": "2021-11-16T11:10:13.376Z"
   },
   {
    "duration": 3,
    "start_time": "2021-11-16T11:10:14.434Z"
   },
   {
    "duration": 3,
    "start_time": "2021-11-16T11:10:22.853Z"
   },
   {
    "duration": 4,
    "start_time": "2021-11-16T11:27:29.279Z"
   },
   {
    "duration": 4,
    "start_time": "2021-11-16T11:29:08.919Z"
   },
   {
    "duration": 118,
    "start_time": "2021-11-16T11:29:46.703Z"
   },
   {
    "duration": 437,
    "start_time": "2021-11-16T11:36:02.181Z"
   },
   {
    "duration": 157,
    "start_time": "2021-11-16T11:36:14.388Z"
   },
   {
    "duration": 207,
    "start_time": "2021-11-16T11:47:15.898Z"
   },
   {
    "duration": 3,
    "start_time": "2021-11-16T11:53:52.092Z"
   },
   {
    "duration": 3,
    "start_time": "2021-11-16T11:53:52.236Z"
   },
   {
    "duration": 3,
    "start_time": "2021-11-16T11:59:12.005Z"
   },
   {
    "duration": 112,
    "start_time": "2021-11-16T12:00:33.446Z"
   },
   {
    "duration": 3,
    "start_time": "2021-11-16T12:02:14.453Z"
   },
   {
    "duration": 3,
    "start_time": "2021-11-16T12:02:39.512Z"
   },
   {
    "duration": 106,
    "start_time": "2021-11-16T12:03:03.460Z"
   }
  ],
  "kernelspec": {
   "display_name": "Python 3 (ipykernel)",
   "language": "python",
   "name": "python3"
  },
  "language_info": {
   "codemirror_mode": {
    "name": "ipython",
    "version": 3
   },
   "file_extension": ".py",
   "mimetype": "text/x-python",
   "name": "python",
   "nbconvert_exporter": "python",
   "pygments_lexer": "ipython3",
   "version": "3.11.1"
  },
  "toc": {
   "base_numbering": "1",
   "nav_menu": {},
   "number_sections": false,
   "sideBar": true,
   "skip_h1_title": true,
   "title_cell": "Table of Contents",
   "title_sidebar": "Contents",
   "toc_cell": false,
   "toc_position": {},
   "toc_section_display": true,
   "toc_window_display": false
  },
  "vscode": {
   "interpreter": {
    "hash": "5238573367df39f7286bb46f9ff5f08f63a01a80960060ce41e3c79b190280fa"
   }
  }
 },
 "nbformat": 4,
 "nbformat_minor": 2
}
