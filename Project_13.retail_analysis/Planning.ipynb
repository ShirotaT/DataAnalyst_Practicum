{
 "cells": [
  {
   "cell_type": "markdown",
   "id": "e4901355",
   "metadata": {},
   "source": [
    "# Retail Performance and Loyalty Program Analysis\n",
    "\n",
    "In this project we are working as a junior analyst for a building-material retailer called Home World. The Project Manager wants to evaluate the results of the introduction of the loyalty program and formulate a performance metric for sales outlets and analyze their performance. The final result is intended to customer so it's important to understand whether it has actually led to the expected growth in average purchase size and number of items in the cart and also to understand what stores within the large chain need support."
   ]
  },
  {
   "cell_type": "markdown",
   "id": "b3d5f852",
   "metadata": {},
   "source": [
    "## Project Description:"
   ]
  },
  {
   "cell_type": "markdown",
   "id": "4915bf91",
   "metadata": {},
   "source": [
    "The dataset contains data on purchases made at the building-material retailer Home World. All of its customers have membership cards. Moreover, they can become members of the store's loyalty program for $20 per month. The program includes discounts, information on special offers, and gifts. "
   ]
  },
  {
   "cell_type": "markdown",
   "id": "b3dd40ae",
   "metadata": {},
   "source": [
    "There were two datasets provided `retail_dataset_us` and `product_codes_us`.\n",
    "\n",
    "**retail_dataset_us.csv contains:**\n",
    "\n",
    "- `purchaseId` — customer purchase ID\n",
    "- `item_ID`  — product ID\n",
    "- `purchasedate` — customer purchase date\n",
    "- `Quantity` — the number of items in the purchase\n",
    "- `CustomerID` — customer account ID\n",
    "- `ShopID` — shop ID\n",
    "- `loyalty_program` — whether the customer is a member of the loyalty program. '0' stands for false means no loyalty program and '1' stands for a true means loyalty program\n",
    "\n",
    "**product_codes_us.csv contains:**\n",
    "\n",
    "- `productID` — customer product ID\n",
    "- `price_per_one`  — product cost per one"
   ]
  },
  {
   "cell_type": "markdown",
   "id": "8b4be6b9",
   "metadata": {},
   "source": [
    "## Planning Steps"
   ]
  },
  {
   "cell_type": "markdown",
   "id": "207fb92f",
   "metadata": {},
   "source": [
    "### Step 1: Open the data files and study the general information."
   ]
  },
  {
   "cell_type": "markdown",
   "id": "f9c81244",
   "metadata": {},
   "source": [
    "### Step 2: Preprocessing data.\n",
    "\n",
    "We will examine the data in more detail to convert it to the required type, rename columns, and find missing values. Find duplicates and eliminate errors in the data."
   ]
  },
  {
   "cell_type": "markdown",
   "id": "8764cf07",
   "metadata": {},
   "source": [
    "### Step 3: Exploratory Data Analysis (EDA)."
   ]
  },
  {
   "cell_type": "markdown",
   "id": "6f9facaf",
   "metadata": {},
   "source": [
    "- Period investigation\n",
    "- Number and share of members and non-members of the loyalty program\n",
    "- Distribution of cheque sizes for the two groups\n",
    "- Total sales to both groups\n",
    "- The number of purchases by year\n",
    "- The number of purchases by storeID\n",
    "- Cohort analysis\n",
    "  - The date of the first purchase;\n",
    "  - How many purchases are made in a day, week and month??\n",
    "  - How many purchases are made per customer?\n",
    "  - What products is most bought by customers?\n",
    "  - The date of joining the loyalty program;\n",
    "  - Number of buyers by cohort lifetime for members and non-members;\n",
    "  - Number of purchases per customer by cohort lifetime for members and non-members;\n",
    "  - Average purchase size by cohort lifetime for members and non-members;\n",
    "  - Initial cohort sizes and total revenue by cohort for members and non-members (to calculate the LTV);\n",
    "  \n",
    "Make a graph that displays the difference in these metrics"
   ]
  },
  {
   "cell_type": "markdown",
   "id": "f9039e0e",
   "metadata": {},
   "source": [
    "### Step 4: Hypotesting Test."
   ]
  },
  {
   "cell_type": "markdown",
   "id": "6cc24b29",
   "metadata": {},
   "source": [
    "- Find the hypothesis for testing;\n",
    "- Explain the set up and the test to be employed;\n",
    "- Formulate the null and the alternative hypothesis;\n",
    "- Implement testing;\n",
    "- Elaborate on the results;"
   ]
  },
  {
   "cell_type": "markdown",
   "id": "b3d2cc1e",
   "metadata": {},
   "source": [
    "### Step 5: Conclusions\n",
    "\n",
    "- A presentation\n",
    "- Dashboard\n",
    "- Basic recommendations on working with customers"
   ]
  },
  {
   "cell_type": "markdown",
   "id": "f9dd447c",
   "metadata": {},
   "source": [
    "Note: Trello link for Kanban Board. Is it like this?\n",
    "\n",
    "https://trello.com/invite/b/8ynqC9YA/ATTI4772d9a70066b4fce3c5f84b9f8c01b6C94CB368/home-world-retail-project"
   ]
  }
 ],
 "metadata": {
  "kernelspec": {
   "display_name": "Python 3 (ipykernel)",
   "language": "python",
   "name": "python3"
  },
  "language_info": {
   "codemirror_mode": {
    "name": "ipython",
    "version": 3
   },
   "file_extension": ".py",
   "mimetype": "text/x-python",
   "name": "python",
   "nbconvert_exporter": "python",
   "pygments_lexer": "ipython3",
   "version": "3.9.13"
  }
 },
 "nbformat": 4,
 "nbformat_minor": 5
}
